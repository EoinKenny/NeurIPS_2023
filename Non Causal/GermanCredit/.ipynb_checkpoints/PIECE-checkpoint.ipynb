{
 "cells": [
  {
   "cell_type": "code",
   "execution_count": 1,
   "id": "02c1cae3",
   "metadata": {},
   "outputs": [],
   "source": [
    "import pandas as pd\n",
    "import numpy as np\n",
    "import scipy\n",
    "import seaborn as sns\n",
    "import matplotlib.pyplot as plt\n",
    "import pickle \n",
    "\n",
    "from sklearn.neighbors import KNeighborsClassifier\n",
    "from sklearn.metrics import accuracy_score, precision_score, recall_score, confusion_matrix\n",
    "from sklearn.preprocessing import OneHotEncoder\n",
    "from sklearn.linear_model import LogisticRegression\n",
    "from sklearn.neural_network import MLPClassifier\n",
    "from sklearn.model_selection import train_test_split\n",
    "from sklearn.preprocessing import MinMaxScaler\n",
    "from copy import deepcopy\n",
    "from collections import Counter\n",
    "from random import gauss\n",
    "from scipy.spatial import distance_matrix\n",
    "from sklearn.neighbors import KNeighborsClassifier\n",
    "\n",
    "from copy import deepcopy\n",
    "from collections import Counter\n",
    "\n",
    "# Sklearn imports\n",
    "from sklearn.compose import ColumnTransformer\n",
    "from sklearn.model_selection import train_test_split\n",
    "from sklearn.pipeline import Pipeline\n",
    "from sklearn.preprocessing import OneHotEncoder\n",
    "from sklearn.ensemble import RandomForestClassifier\n",
    "\n",
    "# DiCE imports\n",
    "import dice_ml\n",
    "from dice_ml.utils import helpers  # helper functions\n",
    "\n",
    "from dataset import *"
   ]
  },
  {
   "cell_type": "code",
   "execution_count": 30,
   "id": "e32c5412",
   "metadata": {},
   "outputs": [],
   "source": [
    "\n",
    "def get_actionable_feature_idxs(continuous_features, categorical_features):\n",
    "    \"\"\"\n",
    "    sample a random actionable feature index\n",
    "    \"\"\"\n",
    "\n",
    "    feature_names = continuous_feature_names + categorical_feature_names\n",
    "    actionable_idxs = list() \n",
    "\n",
    "    for i, f in enumerate(feature_names):\n",
    "        if action_meta[f]['actionable']:\n",
    "            actionable_idxs.append( [i, action_meta[f]['can_increase'], action_meta[f]['can_decrease']] )\n",
    "\n",
    "    return actionable_idxs\n",
    "\n",
    "\n",
    "action_meta = actionability_constraints()\n",
    "\n",
    "df_train = pd.read_csv('data/df_train.csv')\n",
    "df_test = pd.read_csv('data/df_test.csv')\n",
    "\n",
    "X_train = np.load('data/X_train.npy', )\n",
    "X_test = np.load('data/X_test.npy', )\n",
    "y_train = np.load('data/y_train.npy', )\n",
    "y_test = np.load('data/y_test.npy', )\n",
    "\n",
    "# ## Normalization\n",
    "scaler = MinMaxScaler().fit(X_train)\n",
    "X_train = scaler.transform(X_train)\n",
    "X_test = scaler.transform(X_test)\n",
    "\n",
    "\n",
    "with open('data/enc.pkl', 'rb') as file:\n",
    "    enc = pickle.load(file)\n",
    "\n",
    "\n",
    "# ## Generate Training Column Label\n",
    "#### Logistic Regression\n",
    "with open('data/clf.pkl', 'rb') as file:\n",
    "    clf = pickle.load(file)\n",
    "\n",
    "test_preds = clf.predict(X_test)\n",
    "train_preds = clf.predict(X_train)\n",
    "\n",
    "test_probs = clf.predict_proba(X_test)\n",
    "train_probs = clf.predict_proba(X_train)\n",
    "\n",
    "df_test['preds'] = test_preds\n",
    "df_test['probs'] = test_probs.T[1]\n",
    "\n",
    "df_train['preds'] = train_preds\n",
    "df_train['probs'] = train_probs.T[1]\n",
    "\n",
    "\n",
    "# # Make Counterfactual\n",
    "cf_df = df_train[(df_train.preds == 0)]\n",
    "preds = clf.predict(X_test)\n",
    "\n",
    "def find_nearest(array, value):\n",
    "    array = np.asarray(array)\n",
    "    idx = (np.abs(array - value)).argmin()\n",
    "    return array[idx]\n",
    "\n",
    "\n",
    "def get_prob_cat(cf_df, x):\n",
    "\n",
    "    cat_probabilities = list()\n",
    "    expected_values = list()\n",
    "    index_current = len(continuous_feature_names)\n",
    "\n",
    "    for i, cat in enumerate(categorical_feature_names):\n",
    "        temp0 = df_train[df_train.preds== 0][cat]\n",
    "        temp1 = df_train[df_train.preds== 1][cat]\n",
    "\n",
    "        # Expected value\n",
    "        probs = list()\n",
    "        for cat2 in enc.categories_[i]:\n",
    "            probs.append( (temp0 == cat2).sum() / ((temp1 == cat2).sum()+0.0001) )\n",
    "\n",
    "        probs = np.array(probs) / sum(probs)\n",
    "\n",
    "        expected_values.append( np.argmax( np.array(probs) ) )\n",
    "\n",
    "        # Feature prob\n",
    "        feature_rep = x[index_current: index_current + enc.categories_[i].shape[0]]\n",
    "        feature_prob = (feature_rep * probs).sum()\n",
    "        cat_probabilities.append(   feature_prob   )\n",
    "        actual_feature_value_idx = np.argmax( np.array(feature_rep) )\n",
    "\n",
    "        index_current += enc.categories_[i].shape[0]   \n",
    "\n",
    "    return cat_probabilities, expected_values\n",
    "\n",
    "\n",
    "def get_prob_cont(x):\n",
    "    \"\"\"\n",
    "    Returns probability of values from normal class, expected value\n",
    "    \"\"\"\n",
    "\n",
    "    cont_probs = list()\n",
    "    cont_expected = list()\n",
    "\n",
    "    for i, cat in enumerate(continuous_feature_names):\n",
    "\n",
    "        # pick continuous feature (i.e., i), and positive cancer prediction (i.e., 1)\n",
    "        temp = X_train.T[i][train_preds == 1]\n",
    "        rv = scipy.stats.gamma\n",
    "\n",
    "        try:\n",
    "            params = rv.fit(temp)\n",
    "        except:\n",
    "            params = (0.5, 0.5, 0.5)\n",
    "\n",
    "        prob = rv.cdf(x[i], *params)\n",
    "        if prob < 0.5:\n",
    "            cont_probs.append(prob)\n",
    "\n",
    "            # project mean to nearest recorded value (to allow ordinal variables to work)\n",
    "            mean = find_nearest(temp, rv.mean(*params))\n",
    "            cont_expected.append( mean )\n",
    "        else:\n",
    "            cont_probs.append(1 - prob)\n",
    "\n",
    "            # project mean to nearest recorded value (to allow ordinal variables to work)\n",
    "            mean = find_nearest(temp, rv.mean(*params))\n",
    "            cont_expected.append( mean )\n",
    "\n",
    "    return cont_probs, cont_expected\n",
    "\n",
    "\n",
    "def get_feature_probabilities(cf_df, x):\n",
    "    cont_probs, cont_expected = get_prob_cont(df_test.iloc[test_idx].values)\n",
    "    cat_probs, expected_cat = get_prob_cat(cf_df, X_test[test_idx])\n",
    "    return cont_probs, cont_expected, cat_probs, expected_cat\n",
    "\n",
    "\n",
    "def flip_category(x, cat_name='menopaus', change_to=1):\n",
    "    for i, cat in enumerate(categorical_feature_names):\n",
    "        if cat == cat_name:\n",
    "            feature_rep = deepcopy(x[cat_idxs[i][0]: cat_idxs[i][1]])\n",
    "            feature_rep *= 0.\n",
    "            feature_rep[int(change_to)-1] = 1.\n",
    "            x[cat_idxs[i][0]: cat_idxs[i][1]] = feature_rep\n",
    "    return x\n",
    "\n",
    "\n",
    "def clip_expected_values(test_idx, expected_values, feature_names):\n",
    "\n",
    "    # iterate each actionable feature\n",
    "    for idx, f in enumerate(feature_names):\n",
    "        if action_meta[f]['actionable']:\n",
    "\n",
    "            if f in continuous_feature_names:\n",
    "                current_value = X_test[test_idx][idx]\n",
    "            else:\n",
    "                current_value = df_test.iloc[test_idx][f]\n",
    "\n",
    "            # current_value = df_test.iloc[test_idx].values[idx]\n",
    "            e_value = expected_values[idx]\n",
    "\n",
    "            # if expected value is lower than actionable range and you can't go down\n",
    "            if e_value < current_value and not action_meta[f]['can_decrease']:\n",
    "                expected_values[idx] = current_value\n",
    "\n",
    "            # opposite\n",
    "            if e_value > current_value and not action_meta[f]['can_increase']:\n",
    "                expected_values[idx] = current_value\n",
    "\n",
    "    return expected_values\n",
    "\n",
    "\n",
    "def get_counterfactual(test_idx):\n",
    "\n",
    "    # Totally normalized (0-1)\n",
    "    x = deepcopy(X_test[test_idx])\n",
    "    original_query = deepcopy(X_test[test_idx])\n",
    "\n",
    "    # Get feature probabilities\n",
    "    cont_probs, expected_conts, cat_probs, expected_cat = get_feature_probabilities(cf_df, test_idx)\n",
    "\n",
    "    feature_probs = np.array(cont_probs + cat_probs)\n",
    "    feature_expected = np.array(expected_conts + expected_cat)\n",
    "    features = continuous_feature_names + categorical_feature_names\n",
    "    feature_expected = clip_expected_values(test_idx, feature_expected, features)\n",
    "    feature_order = np.argsort(feature_probs)\n",
    "    original_prob = clf.predict_proba(X_test[test_idx].reshape(1,-1))[0][1]\n",
    "    current_prob = clf.predict_proba(X_test[test_idx].reshape(1,-1))[0][1]\n",
    "    original_pred = clf.predict(X_test[test_idx].reshape(1,-1)).item()\n",
    "\n",
    "    # Flip the excpetional feature(s) one at a time:\n",
    "    for i in range(len(feature_order)):\n",
    "\n",
    "        if action_meta[features[feature_order[i]]]['actionable']:\n",
    "\n",
    "            temp = deepcopy(x)\n",
    "            tempx = deepcopy(x)\n",
    "\n",
    "            if features[feature_order[i]] in continuous_feature_names:\n",
    "                temp[ feature_order[i] ] = expected_conts[ feature_order[i] ]\n",
    "            else:\n",
    "                temp = flip_category(temp, cat_name=features[feature_order[i]],\n",
    "                                     change_to=feature_expected[feature_order[i]])\n",
    "\n",
    "            new_prob = clf.predict_proba(temp.reshape(1,-1))[0][1]\n",
    "            new_pred = clf.predict(temp.reshape(1,-1)).item()\n",
    "\n",
    "            if new_pred != original_pred:\n",
    "                return temp, original_prob, current_prob\n",
    "\n",
    "            if new_prob < current_prob:\n",
    "                x = temp\n",
    "                current_prob = new_prob\n",
    "\n",
    "    return temp, original_prob, current_prob\n",
    "\n",
    "\n",
    "def generate_cat_idxs():\n",
    "    \"\"\"\n",
    "    Get indexes for all categorical features that are one hot encoded\n",
    "    \"\"\"\n",
    "\n",
    "    cat_idxs = list()\n",
    "    start_idx = len(continuous_feature_names)\n",
    "    for cat in enc.categories_:\n",
    "        cat_idxs.append([start_idx, start_idx + cat.shape[0]])\n",
    "        start_idx = start_idx + cat.shape[0]\n",
    "    return cat_idxs\n",
    "\n",
    "\n",
    "cat_idxs = generate_cat_idxs()\n",
    "ga_df = pd.read_csv('data/GA_Xps_diverse.csv')\n",
    "test_idxs = np.sort(np.array(ga_df.test_idx.value_counts().index.tolist()))\n",
    "piece_sfs = list()\n",
    "found_sf = list()\n",
    "idx_data = list()\n",
    "success_data = list()\n",
    "\n",
    "for test_idx in test_idxs:   # range(len(X_test)):\n",
    "    x = deepcopy(X_test[test_idx])\n",
    "    sf, _, _ = get_counterfactual(test_idx)\n",
    "    \n",
    "    if sum(sf-X_test[test_idx]) < 0.01:\n",
    "        success_data.append(0)\n",
    "    else:\n",
    "        success_data.append(1)\n",
    "        \n",
    "    sf = sf.tolist()\n",
    "    piece_sfs.append( sf )\n",
    "    idx_data.append(test_idx)\n",
    "\n",
    "piece_sfs = np.array(piece_sfs)\n",
    "\n",
    "sf_df = pd.DataFrame(piece_sfs)\n",
    "sf_df['test_idx'] = idx_data\n",
    "sf_df['sf_found'] = success_data\n",
    "sf_df.to_csv('data/piece_sfs.csv')"
   ]
  },
  {
   "cell_type": "code",
   "execution_count": 32,
   "id": "395628cf",
   "metadata": {},
   "outputs": [
    {
     "data": {
      "text/html": [
       "<div>\n",
       "<style scoped>\n",
       "    .dataframe tbody tr th:only-of-type {\n",
       "        vertical-align: middle;\n",
       "    }\n",
       "\n",
       "    .dataframe tbody tr th {\n",
       "        vertical-align: top;\n",
       "    }\n",
       "\n",
       "    .dataframe thead th {\n",
       "        text-align: right;\n",
       "    }\n",
       "</style>\n",
       "<table border=\"1\" class=\"dataframe\">\n",
       "  <thead>\n",
       "    <tr style=\"text-align: right;\">\n",
       "      <th></th>\n",
       "      <th>0</th>\n",
       "      <th>1</th>\n",
       "      <th>2</th>\n",
       "      <th>3</th>\n",
       "      <th>4</th>\n",
       "      <th>5</th>\n",
       "      <th>6</th>\n",
       "      <th>7</th>\n",
       "      <th>8</th>\n",
       "      <th>9</th>\n",
       "      <th>...</th>\n",
       "      <th>63</th>\n",
       "      <th>64</th>\n",
       "      <th>65</th>\n",
       "      <th>66</th>\n",
       "      <th>67</th>\n",
       "      <th>68</th>\n",
       "      <th>69</th>\n",
       "      <th>70</th>\n",
       "      <th>test_idx</th>\n",
       "      <th>sf_found</th>\n",
       "    </tr>\n",
       "  </thead>\n",
       "  <tbody>\n",
       "    <tr>\n",
       "      <th>0</th>\n",
       "      <td>0.25</td>\n",
       "      <td>0.199247</td>\n",
       "      <td>0.351852</td>\n",
       "      <td>0.0</td>\n",
       "      <td>0.0</td>\n",
       "      <td>0.0</td>\n",
       "      <td>1.0</td>\n",
       "      <td>0.0</td>\n",
       "      <td>0.0</td>\n",
       "      <td>0.0</td>\n",
       "      <td>...</td>\n",
       "      <td>0.0</td>\n",
       "      <td>1.0</td>\n",
       "      <td>0.0</td>\n",
       "      <td>1.0</td>\n",
       "      <td>1.0</td>\n",
       "      <td>0.0</td>\n",
       "      <td>1.0</td>\n",
       "      <td>0.0</td>\n",
       "      <td>3</td>\n",
       "      <td>1</td>\n",
       "    </tr>\n",
       "    <tr>\n",
       "      <th>1</th>\n",
       "      <td>0.25</td>\n",
       "      <td>0.151318</td>\n",
       "      <td>0.444444</td>\n",
       "      <td>1.0</td>\n",
       "      <td>0.0</td>\n",
       "      <td>0.0</td>\n",
       "      <td>0.0</td>\n",
       "      <td>0.0</td>\n",
       "      <td>0.0</td>\n",
       "      <td>1.0</td>\n",
       "      <td>...</td>\n",
       "      <td>0.0</td>\n",
       "      <td>1.0</td>\n",
       "      <td>1.0</td>\n",
       "      <td>0.0</td>\n",
       "      <td>1.0</td>\n",
       "      <td>0.0</td>\n",
       "      <td>0.0</td>\n",
       "      <td>1.0</td>\n",
       "      <td>7</td>\n",
       "      <td>1</td>\n",
       "    </tr>\n",
       "    <tr>\n",
       "      <th>2</th>\n",
       "      <td>0.25</td>\n",
       "      <td>0.150297</td>\n",
       "      <td>0.111111</td>\n",
       "      <td>0.0</td>\n",
       "      <td>1.0</td>\n",
       "      <td>0.0</td>\n",
       "      <td>0.0</td>\n",
       "      <td>0.0</td>\n",
       "      <td>0.0</td>\n",
       "      <td>0.0</td>\n",
       "      <td>...</td>\n",
       "      <td>0.0</td>\n",
       "      <td>1.0</td>\n",
       "      <td>0.0</td>\n",
       "      <td>1.0</td>\n",
       "      <td>1.0</td>\n",
       "      <td>0.0</td>\n",
       "      <td>0.0</td>\n",
       "      <td>1.0</td>\n",
       "      <td>12</td>\n",
       "      <td>1</td>\n",
       "    </tr>\n",
       "  </tbody>\n",
       "</table>\n",
       "<p>3 rows × 73 columns</p>\n",
       "</div>"
      ],
      "text/plain": [
       "      0         1         2    3    4    5    6    7    8    9  ...   63   64  \\\n",
       "0  0.25  0.199247  0.351852  0.0  0.0  0.0  1.0  0.0  0.0  0.0  ...  0.0  1.0   \n",
       "1  0.25  0.151318  0.444444  1.0  0.0  0.0  0.0  0.0  0.0  1.0  ...  0.0  1.0   \n",
       "2  0.25  0.150297  0.111111  0.0  1.0  0.0  0.0  0.0  0.0  0.0  ...  0.0  1.0   \n",
       "\n",
       "    65   66   67   68   69   70  test_idx  sf_found  \n",
       "0  0.0  1.0  1.0  0.0  1.0  0.0         3         1  \n",
       "1  1.0  0.0  1.0  0.0  0.0  1.0         7         1  \n",
       "2  0.0  1.0  1.0  0.0  0.0  1.0        12         1  \n",
       "\n",
       "[3 rows x 73 columns]"
      ]
     },
     "execution_count": 32,
     "metadata": {},
     "output_type": "execute_result"
    }
   ],
   "source": [
    "sf_df"
   ]
  },
  {
   "cell_type": "code",
   "execution_count": null,
   "id": "f6140ea8",
   "metadata": {},
   "outputs": [],
   "source": []
  },
  {
   "cell_type": "code",
   "execution_count": null,
   "id": "c93c07a3",
   "metadata": {},
   "outputs": [],
   "source": []
  },
  {
   "cell_type": "code",
   "execution_count": null,
   "id": "a140c6a7",
   "metadata": {},
   "outputs": [],
   "source": []
  },
  {
   "cell_type": "code",
   "execution_count": null,
   "id": "6e1c3009",
   "metadata": {},
   "outputs": [],
   "source": []
  },
  {
   "cell_type": "code",
   "execution_count": null,
   "id": "08dfd27c",
   "metadata": {},
   "outputs": [],
   "source": []
  },
  {
   "cell_type": "code",
   "execution_count": null,
   "id": "86c7d323",
   "metadata": {},
   "outputs": [],
   "source": []
  },
  {
   "cell_type": "code",
   "execution_count": null,
   "id": "1017136b",
   "metadata": {},
   "outputs": [],
   "source": []
  },
  {
   "cell_type": "code",
   "execution_count": 2,
   "id": "2d95e495",
   "metadata": {},
   "outputs": [],
   "source": [
    "DIVERSITY_SIZE = 1"
   ]
  },
  {
   "cell_type": "code",
   "execution_count": 3,
   "id": "3525be0b",
   "metadata": {},
   "outputs": [],
   "source": [
    "# def get_dataset():\n",
    "#     df = pd.read_csv('data/SouthGermanCredit/SouthGermanCredit.asc', sep=\" \")\n",
    "\n",
    "\n",
    "#     df.status = df.status.replace({1: 'no checking account',\n",
    "#                                      2: '< 0 DM',\n",
    "#                                      3: '0 <= ... <= 200 DM', \n",
    "#                                      4: '>= 200 DM / salary for at least 1 year'\n",
    "#                                   })\n",
    "\n",
    "#     df.credit_history = df.credit_history.replace({\n",
    "#                                0:'Delay in paying off in the past',\n",
    "#                                1:'Critical account/other credits elsewhere',\n",
    "#                                2:'No credits taken/all credits paid back duly',\n",
    "#                                3:'Existing credits paid back duly till now', \n",
    "#                                4:'All credits at this bank paid back duly'})\n",
    "\n",
    "#     df.purpose = df.purpose.replace({0:'Others',\n",
    "#                                      1:'Car (new)',\n",
    "#                                      2:'Car (Used)',\n",
    "#                                      3:'Furniture/equipment',\n",
    "#                                      4:'Radio/television',\n",
    "#                                      5:'Domestic Applicances',\n",
    "#                                      6:'Repairs',\n",
    "#                                      7:'Education',\n",
    "#                                      8:'Vacation',\n",
    "#                                      9:'Retraining',\n",
    "#                                      10:'Business'\n",
    "#                                     })\n",
    "\n",
    "#     df.savings = df.savings.replace({1:'unknown/no savings account',\n",
    "#                                    2:'... <  100 DM',\n",
    "#                                    3:'100 <= ... <  500 DM',\n",
    "#                                    4:'500 <= ... < 1000 DM',\n",
    "#                                    5: '... >= 1000 DM'})\n",
    "\n",
    "#     df.employment_duration = df.employment_duration.replace({1:'unemployed',\n",
    "#                                    2:'< 1 yr',\n",
    "#                                    3:'1 <= ... < 4 yrs',\n",
    "#                                    4:'4 <= ... < 7 yrs',\n",
    "#                                    5: '>= 7 yrs '})\n",
    "\n",
    "#     df.installment_rate = df.installment_rate.replace({1:'>= 35',\n",
    "#                                    2:'25 <= ... < 35',\n",
    "#                                    3:'20 <= ... < 25',\n",
    "#                                    4:'< 20'})\n",
    "\n",
    "#     df.personal_status_sex = df.personal_status_sex.replace({1:'divorced/separated',\n",
    "#                                    2:'non-single or male : single',\n",
    "#                                    3:'married/widowed',\n",
    "#                                    4:'single'})\n",
    "\n",
    "#     df.other_debtors = df.other_debtors.replace({1:'none',\n",
    "#                                    2:'co-applicant',\n",
    "#                                    3:'guarantor',\n",
    "#                                 })\n",
    "\n",
    "#     df.present_residence = df.present_residence.replace({1:'< 1 yr',\n",
    "#                                    2:'1 <= ... < 4 yrs',\n",
    "#                                    3:'4 <= ... < 7 yrs',\n",
    "#                                    4:'>= 7 yrs'})\n",
    "\n",
    "#     df.property = df.property.replace({1:'unknown / no property',\n",
    "#                                    2:'car or other',\n",
    "#                                    3:'building soc. savings agr./life insurance',\n",
    "#                                    4:'real estate'})\n",
    "\n",
    "#     df.other_installment_plans = df.other_installment_plans.replace({1:'bank',\n",
    "#                                    2:'stores',\n",
    "#                                    3:'none',\n",
    "#                                 })\n",
    "\n",
    "#     df.housing = df.housing.replace({1:'for free',\n",
    "#                                    2:'rent',\n",
    "#                                    3:'own',\n",
    "#                                 })\n",
    "\n",
    "#     df.number_credits = df.number_credits.replace({1:'1',\n",
    "#                                    2:'2-3',\n",
    "#                                    3:'4-5',\n",
    "#                                    4:'>= 6'})\n",
    "\n",
    "#     df.job = df.job.replace({1:'unemployed/unskilled - non-resident',\n",
    "#                                    2:'unskilled - resident',\n",
    "#                                    3:'skilled employee/official',\n",
    "#                                    4:'manager/self-empl./highly qualif. employee'})\n",
    "\n",
    "#     df.people_liable = df.people_liable.replace({\n",
    "#                                    1:'3 or more',\n",
    "#                                    2:'0 to 2'})\n",
    "\n",
    "#     df.telephone = df.telephone.replace({1:'no',\n",
    "#                                    2:'yes (under customer name)'})\n",
    "\n",
    "#     df.foreign_worker = df.foreign_worker.replace({1:'yes',\n",
    "#                                    2:'no'})\n",
    "\n",
    "# #     df.credit_risk = df.credit_risk.replace({0:'bad', 1:'good'})\n",
    "\n",
    "#     return df"
   ]
  },
  {
   "cell_type": "code",
   "execution_count": 4,
   "id": "008713b7",
   "metadata": {},
   "outputs": [],
   "source": [
    "def get_dataset():\n",
    "    df = pd.read_csv('data/SouthGermanCredit/SouthGermanCredit.asc', sep=\" \")\n",
    "\n",
    "\n",
    "    df = df[['savings', 'duration', 'amount', 'number_credits', 'credit_risk']]\n",
    "\n",
    "\n",
    "    df.savings = df.savings.replace({1:'unknown/no savings account',\n",
    "                                   2:'... <  100 DM',\n",
    "                                   3:'100 <= ... <  500 DM',\n",
    "                                   4:'500 <= ... < 1000 DM',\n",
    "                                   5: '... >= 1000 DM'})\n",
    "\n",
    "\n",
    "\n",
    "    df.number_credits = df.number_credits.replace({1:'1',\n",
    "                                   2:'2-3',\n",
    "                                   3:'4-5',\n",
    "                                   4:'>= 6'})\n",
    "\n",
    "\n",
    "    return df"
   ]
  },
  {
   "cell_type": "code",
   "execution_count": 5,
   "id": "efcb944d",
   "metadata": {},
   "outputs": [],
   "source": [
    "def get_numeric_dataset():\n",
    "    df = pd.read_csv('data/SouthGermanCredit/SouthGermanCredit.asc', sep=\" \")\n",
    "    df = df[['savings', 'duration', 'amount', 'number_credits', 'credit_risk']]\n",
    "    return df"
   ]
  },
  {
   "cell_type": "markdown",
   "id": "95b177b9",
   "metadata": {},
   "source": [
    "## Read in dataset"
   ]
  },
  {
   "cell_type": "code",
   "execution_count": 6,
   "id": "a40ed4eb",
   "metadata": {},
   "outputs": [],
   "source": [
    "def get_actionable_feature_idxs(continuous_features, categorical_features):\n",
    "    \"\"\"\n",
    "    sample a random actionable feature index\n",
    "    \"\"\"\n",
    "    \n",
    "    feature_names = continuous_features.columns.tolist() + categorical_features.columns.tolist()\n",
    "    actionable_idxs = list() \n",
    "    \n",
    "    for i, f in enumerate(feature_names):\n",
    "        if action_meta[f]['actionable']:\n",
    "            actionable_idxs.append( [i, action_meta[f]['can_increase'], action_meta[f]['can_decrease']] )\n",
    "    \n",
    "    return actionable_idxs"
   ]
  },
  {
   "cell_type": "code",
   "execution_count": 7,
   "id": "8f08c09d",
   "metadata": {},
   "outputs": [],
   "source": [
    "action_meta = actionability_constraints()"
   ]
  },
  {
   "cell_type": "code",
   "execution_count": 8,
   "id": "8cc93cad",
   "metadata": {},
   "outputs": [],
   "source": [
    "seed = 0"
   ]
  },
  {
   "cell_type": "code",
   "execution_count": 9,
   "id": "b0d5b48b",
   "metadata": {},
   "outputs": [],
   "source": [
    "df = get_dataset()"
   ]
  },
  {
   "cell_type": "code",
   "execution_count": 10,
   "id": "97a6e4de",
   "metadata": {},
   "outputs": [],
   "source": [
    "df_numeric = get_numeric_dataset()"
   ]
  },
  {
   "cell_type": "code",
   "execution_count": 11,
   "id": "e18131e9",
   "metadata": {},
   "outputs": [],
   "source": [
    "numerical = ['age', 'duration', 'amount']"
   ]
  },
  {
   "cell_type": "code",
   "execution_count": 12,
   "id": "297215ef",
   "metadata": {},
   "outputs": [],
   "source": [
    "#### Need to add this text so that DiCE works\n",
    "for f in df_numeric.columns:\n",
    "    if f not in numerical and f != 'credit_risk':\n",
    "        df_numeric[f] = df_numeric[f].astype(str) + '-Cat'"
   ]
  },
  {
   "cell_type": "code",
   "execution_count": 13,
   "id": "2523be57",
   "metadata": {},
   "outputs": [],
   "source": [
    "idx_train = np.load('data/training_idx.npy')\n",
    "training = np.zeros(df.shape[0])\n",
    "training[idx_train] = 1\n",
    "df_numeric['training'] = training"
   ]
  },
  {
   "cell_type": "code",
   "execution_count": 14,
   "id": "aad727e3",
   "metadata": {},
   "outputs": [],
   "source": [
    "train_dataset = df_numeric[df_numeric.training==1]\n",
    "test_dataset = df_numeric[df_numeric.training==0]\n",
    "\n",
    "del train_dataset['training']\n",
    "del test_dataset['training']"
   ]
  },
  {
   "cell_type": "code",
   "execution_count": 15,
   "id": "718664dc",
   "metadata": {},
   "outputs": [],
   "source": [
    "y_train = train_dataset[\"credit_risk\"].values\n",
    "y_test = test_dataset[\"credit_risk\"].values\n",
    "\n",
    "x_train = train_dataset.drop('credit_risk', axis=1)\n",
    "x_test = test_dataset.drop('credit_risk', axis=1)"
   ]
  },
  {
   "cell_type": "markdown",
   "id": "e55c8a89",
   "metadata": {},
   "source": [
    "## DiCE"
   ]
  },
  {
   "cell_type": "code",
   "execution_count": 16,
   "id": "5abb70f2",
   "metadata": {},
   "outputs": [],
   "source": [
    "# Step 1: dice_ml.Data\n",
    "d = dice_ml.Data(dataframe=train_dataset,\n",
    "                 continuous_features=continuous_feature_names,\n",
    "                 outcome_name='credit_risk',\n",
    "                 method='genetic')"
   ]
  },
  {
   "cell_type": "code",
   "execution_count": 17,
   "id": "47711524",
   "metadata": {},
   "outputs": [],
   "source": [
    "numerical = continuous_feature_names\n",
    "categorical = x_train.columns.difference(numerical)\n",
    "\n",
    "categorical_transformer = Pipeline(steps=[\n",
    "    ('onehot', OneHotEncoder(handle_unknown='ignore'))])\n",
    "\n",
    "normalizer_transformer = Pipeline(steps=[\n",
    "    ('minmax', MinMaxScaler())])\n",
    "\n",
    "transformations = ColumnTransformer(\n",
    "    transformers=[\n",
    "        ('cat', categorical_transformer, categorical),\n",
    "        ('all', normalizer_transformer, numerical),\n",
    "    ])\n",
    "\n",
    "# Append classifier to preprocessing pipeline.\n",
    "# Now we have a full prediction pipeline.\n",
    "clf = Pipeline(steps=[('preprocessor', transformations),\n",
    "                      ('classifier', LogisticRegression(class_weight='balanced', fit_intercept=False))])\n",
    "model = clf.fit(x_train, y_train)"
   ]
  },
  {
   "cell_type": "code",
   "execution_count": 18,
   "id": "8a6d75ad",
   "metadata": {},
   "outputs": [],
   "source": [
    "def get_actionable_range(x):\n",
    "    \n",
    "    dice_action = {}\n",
    "\n",
    "    for feature in action_meta.keys():\n",
    "\n",
    "        # Only add actionable features for DiCE's constraints\n",
    "        if action_meta[feature]['actionable']:\n",
    "\n",
    "            if feature in numerical:\n",
    "                query_min_value = float(x[feature])\n",
    "                query_max_value = float(x[feature])\n",
    "                min_value = min([float(xxx) for xxx in pd.concat([x_train, x_test])[feature].values])\n",
    "                max_value = max([float(xxx) for xxx in pd.concat([x_train, x_test])[feature].values])\n",
    "#                 print(query_min_value, query_max_value)\n",
    "#                 print(min_value, max_value)\n",
    "            else:\n",
    "                query_min_value = int(x[feature][0])\n",
    "                query_max_value = int(x[feature][0])\n",
    "                min_value = min([int(xxx[0]) for xxx in pd.concat([x_train, x_test])[feature].values])\n",
    "                max_value = max([int(xxx[0]) for xxx in pd.concat([x_train, x_test])[feature].values])\n",
    "\n",
    "            # Is it up or down mutable?\n",
    "            if action_meta[feature]['can_increase']:\n",
    "                query_max_value = max_value\n",
    "\n",
    "            if action_meta[feature]['can_decrease']:\n",
    "                query_min_value = min_value\n",
    "                \n",
    "#             print(query_min_value, query_max_value)\n",
    "\n",
    "            # If it is a continuous feature\n",
    "            if feature in numerical:\n",
    "                dice_action[feature] = [float(query_min_value), float(query_max_value)]\n",
    "\n",
    "            else:\n",
    "                dice_action[feature] = [str(x) + '-Cat' for x in list(range(query_min_value, query_max_value+1))]\n",
    "\n",
    "    return dice_action"
   ]
  },
  {
   "cell_type": "markdown",
   "id": "610c3130",
   "metadata": {},
   "source": [
    "## Explanation Generation Loop"
   ]
  },
  {
   "cell_type": "code",
   "execution_count": 19,
   "id": "80f20424",
   "metadata": {},
   "outputs": [],
   "source": [
    "# Using sklearn backend\n",
    "m = dice_ml.Model(model=model, backend=\"sklearn\")\n",
    "# Using method=random for generating CFs\n",
    "exp = dice_ml.Dice(d, m, method=\"random\")"
   ]
  },
  {
   "cell_type": "code",
   "execution_count": 20,
   "id": "6162a7e8",
   "metadata": {},
   "outputs": [],
   "source": [
    "original_preds = model.predict(x_test)"
   ]
  },
  {
   "cell_type": "code",
   "execution_count": 21,
   "id": "68ffb593",
   "metadata": {},
   "outputs": [],
   "source": [
    "# for ex_idx in range(len(x_test)):\n",
    "        \n",
    "#     x = x_test.iloc[ex_idx]\n",
    "\n",
    "#     dice_action = get_actionable_range(x)\n",
    "\n",
    "#     e3 = exp.generate_counterfactuals(\n",
    "#                                       x_test[ex_idx:ex_idx+1],\n",
    "#                                       total_CFs=DIVERSITY_SIZE,\n",
    "#                                       desired_class=\"opposite\",\n",
    "# #                                       permitted_range=dice_action,\n",
    "#                                       features_to_vary=list(dice_action.keys())\n",
    "#                                      )\n",
    "#     e3.visualize_as_list(exp_idx=ex_idx)\n",
    "#     break"
   ]
  },
  {
   "cell_type": "code",
   "execution_count": 22,
   "id": "6192733a",
   "metadata": {},
   "outputs": [
    {
     "name": "stderr",
     "output_type": "stream",
     "text": [
      "100%|█████████████████████████████████████████████| 1/1 [00:00<00:00, 20.14it/s]"
     ]
    },
    {
     "name": "stdout",
     "output_type": "stream",
     "text": [
      "Query instance (original outcome : 0)\n",
      "['2-Cat', 60, 7408, '1-Cat', 0]\n",
      "\n",
      "Diverse Counterfactual set (new outcome: 1.0)\n",
      "['2-Cat', 5.0, 7408, '3-Cat', 1]\n"
     ]
    },
    {
     "name": "stderr",
     "output_type": "stream",
     "text": [
      "\n"
     ]
    }
   ],
   "source": [
    "\n",
    "ex_idx = 273\n",
    "\n",
    "x = x_test.iloc[ex_idx]\n",
    "\n",
    "dice_action = get_actionable_range(x)\n",
    "\n",
    "e3 = exp.generate_counterfactuals(\n",
    "                                  x_test[ex_idx:ex_idx+1],\n",
    "                                  total_CFs=DIVERSITY_SIZE,\n",
    "                                  desired_class=\"opposite\",\n",
    "#                                   permitted_range=dice_action,\n",
    "                                  features_to_vary=list(dice_action.keys())\n",
    "                                 )\n",
    "e3.visualize_as_list(exp_idx=ex_idx)\n"
   ]
  },
  {
   "cell_type": "code",
   "execution_count": 23,
   "id": "4813620a",
   "metadata": {},
   "outputs": [
    {
     "data": {
      "text/html": [
       "<style>#sk-container-id-1 {color: black;background-color: white;}#sk-container-id-1 pre{padding: 0;}#sk-container-id-1 div.sk-toggleable {background-color: white;}#sk-container-id-1 label.sk-toggleable__label {cursor: pointer;display: block;width: 100%;margin-bottom: 0;padding: 0.3em;box-sizing: border-box;text-align: center;}#sk-container-id-1 label.sk-toggleable__label-arrow:before {content: \"▸\";float: left;margin-right: 0.25em;color: #696969;}#sk-container-id-1 label.sk-toggleable__label-arrow:hover:before {color: black;}#sk-container-id-1 div.sk-estimator:hover label.sk-toggleable__label-arrow:before {color: black;}#sk-container-id-1 div.sk-toggleable__content {max-height: 0;max-width: 0;overflow: hidden;text-align: left;background-color: #f0f8ff;}#sk-container-id-1 div.sk-toggleable__content pre {margin: 0.2em;color: black;border-radius: 0.25em;background-color: #f0f8ff;}#sk-container-id-1 input.sk-toggleable__control:checked~div.sk-toggleable__content {max-height: 200px;max-width: 100%;overflow: auto;}#sk-container-id-1 input.sk-toggleable__control:checked~label.sk-toggleable__label-arrow:before {content: \"▾\";}#sk-container-id-1 div.sk-estimator input.sk-toggleable__control:checked~label.sk-toggleable__label {background-color: #d4ebff;}#sk-container-id-1 div.sk-label input.sk-toggleable__control:checked~label.sk-toggleable__label {background-color: #d4ebff;}#sk-container-id-1 input.sk-hidden--visually {border: 0;clip: rect(1px 1px 1px 1px);clip: rect(1px, 1px, 1px, 1px);height: 1px;margin: -1px;overflow: hidden;padding: 0;position: absolute;width: 1px;}#sk-container-id-1 div.sk-estimator {font-family: monospace;background-color: #f0f8ff;border: 1px dotted black;border-radius: 0.25em;box-sizing: border-box;margin-bottom: 0.5em;}#sk-container-id-1 div.sk-estimator:hover {background-color: #d4ebff;}#sk-container-id-1 div.sk-parallel-item::after {content: \"\";width: 100%;border-bottom: 1px solid gray;flex-grow: 1;}#sk-container-id-1 div.sk-label:hover label.sk-toggleable__label {background-color: #d4ebff;}#sk-container-id-1 div.sk-serial::before {content: \"\";position: absolute;border-left: 1px solid gray;box-sizing: border-box;top: 0;bottom: 0;left: 50%;z-index: 0;}#sk-container-id-1 div.sk-serial {display: flex;flex-direction: column;align-items: center;background-color: white;padding-right: 0.2em;padding-left: 0.2em;position: relative;}#sk-container-id-1 div.sk-item {position: relative;z-index: 1;}#sk-container-id-1 div.sk-parallel {display: flex;align-items: stretch;justify-content: center;background-color: white;position: relative;}#sk-container-id-1 div.sk-item::before, #sk-container-id-1 div.sk-parallel-item::before {content: \"\";position: absolute;border-left: 1px solid gray;box-sizing: border-box;top: 0;bottom: 0;left: 50%;z-index: -1;}#sk-container-id-1 div.sk-parallel-item {display: flex;flex-direction: column;z-index: 1;position: relative;background-color: white;}#sk-container-id-1 div.sk-parallel-item:first-child::after {align-self: flex-end;width: 50%;}#sk-container-id-1 div.sk-parallel-item:last-child::after {align-self: flex-start;width: 50%;}#sk-container-id-1 div.sk-parallel-item:only-child::after {width: 0;}#sk-container-id-1 div.sk-dashed-wrapped {border: 1px dashed gray;margin: 0 0.4em 0.5em 0.4em;box-sizing: border-box;padding-bottom: 0.4em;background-color: white;}#sk-container-id-1 div.sk-label label {font-family: monospace;font-weight: bold;display: inline-block;line-height: 1.2em;}#sk-container-id-1 div.sk-label-container {text-align: center;}#sk-container-id-1 div.sk-container {/* jupyter's `normalize.less` sets `[hidden] { display: none; }` but bootstrap.min.css set `[hidden] { display: none !important; }` so we also need the `!important` here to be able to override the default hidden behavior on the sphinx rendered scikit-learn.org. See: https://github.com/scikit-learn/scikit-learn/issues/21755 */display: inline-block !important;position: relative;}#sk-container-id-1 div.sk-text-repr-fallback {display: none;}</style><div id=\"sk-container-id-1\" class=\"sk-top-container\"><div class=\"sk-text-repr-fallback\"><pre>Pipeline(steps=[(&#x27;preprocessor&#x27;,\n",
       "                 ColumnTransformer(transformers=[(&#x27;cat&#x27;,\n",
       "                                                  Pipeline(steps=[(&#x27;onehot&#x27;,\n",
       "                                                                   OneHotEncoder(handle_unknown=&#x27;ignore&#x27;))]),\n",
       "                                                  Index([&#x27;number_credits&#x27;, &#x27;savings&#x27;], dtype=&#x27;object&#x27;)),\n",
       "                                                 (&#x27;all&#x27;,\n",
       "                                                  Pipeline(steps=[(&#x27;minmax&#x27;,\n",
       "                                                                   MinMaxScaler())]),\n",
       "                                                  [&#x27;duration&#x27;, &#x27;amount&#x27;])])),\n",
       "                (&#x27;classifier&#x27;,\n",
       "                 LogisticRegression(class_weight=&#x27;balanced&#x27;,\n",
       "                                    fit_intercept=False))])</pre><b>In a Jupyter environment, please rerun this cell to show the HTML representation or trust the notebook. <br />On GitHub, the HTML representation is unable to render, please try loading this page with nbviewer.org.</b></div><div class=\"sk-container\" hidden><div class=\"sk-item sk-dashed-wrapped\"><div class=\"sk-label-container\"><div class=\"sk-label sk-toggleable\"><input class=\"sk-toggleable__control sk-hidden--visually\" id=\"sk-estimator-id-1\" type=\"checkbox\" ><label for=\"sk-estimator-id-1\" class=\"sk-toggleable__label sk-toggleable__label-arrow\">Pipeline</label><div class=\"sk-toggleable__content\"><pre>Pipeline(steps=[(&#x27;preprocessor&#x27;,\n",
       "                 ColumnTransformer(transformers=[(&#x27;cat&#x27;,\n",
       "                                                  Pipeline(steps=[(&#x27;onehot&#x27;,\n",
       "                                                                   OneHotEncoder(handle_unknown=&#x27;ignore&#x27;))]),\n",
       "                                                  Index([&#x27;number_credits&#x27;, &#x27;savings&#x27;], dtype=&#x27;object&#x27;)),\n",
       "                                                 (&#x27;all&#x27;,\n",
       "                                                  Pipeline(steps=[(&#x27;minmax&#x27;,\n",
       "                                                                   MinMaxScaler())]),\n",
       "                                                  [&#x27;duration&#x27;, &#x27;amount&#x27;])])),\n",
       "                (&#x27;classifier&#x27;,\n",
       "                 LogisticRegression(class_weight=&#x27;balanced&#x27;,\n",
       "                                    fit_intercept=False))])</pre></div></div></div><div class=\"sk-serial\"><div class=\"sk-item sk-dashed-wrapped\"><div class=\"sk-label-container\"><div class=\"sk-label sk-toggleable\"><input class=\"sk-toggleable__control sk-hidden--visually\" id=\"sk-estimator-id-2\" type=\"checkbox\" ><label for=\"sk-estimator-id-2\" class=\"sk-toggleable__label sk-toggleable__label-arrow\">preprocessor: ColumnTransformer</label><div class=\"sk-toggleable__content\"><pre>ColumnTransformer(transformers=[(&#x27;cat&#x27;,\n",
       "                                 Pipeline(steps=[(&#x27;onehot&#x27;,\n",
       "                                                  OneHotEncoder(handle_unknown=&#x27;ignore&#x27;))]),\n",
       "                                 Index([&#x27;number_credits&#x27;, &#x27;savings&#x27;], dtype=&#x27;object&#x27;)),\n",
       "                                (&#x27;all&#x27;,\n",
       "                                 Pipeline(steps=[(&#x27;minmax&#x27;, MinMaxScaler())]),\n",
       "                                 [&#x27;duration&#x27;, &#x27;amount&#x27;])])</pre></div></div></div><div class=\"sk-parallel\"><div class=\"sk-parallel-item\"><div class=\"sk-item\"><div class=\"sk-label-container\"><div class=\"sk-label sk-toggleable\"><input class=\"sk-toggleable__control sk-hidden--visually\" id=\"sk-estimator-id-3\" type=\"checkbox\" ><label for=\"sk-estimator-id-3\" class=\"sk-toggleable__label sk-toggleable__label-arrow\">cat</label><div class=\"sk-toggleable__content\"><pre>Index([&#x27;number_credits&#x27;, &#x27;savings&#x27;], dtype=&#x27;object&#x27;)</pre></div></div></div><div class=\"sk-serial\"><div class=\"sk-item\"><div class=\"sk-serial\"><div class=\"sk-item\"><div class=\"sk-estimator sk-toggleable\"><input class=\"sk-toggleable__control sk-hidden--visually\" id=\"sk-estimator-id-4\" type=\"checkbox\" ><label for=\"sk-estimator-id-4\" class=\"sk-toggleable__label sk-toggleable__label-arrow\">OneHotEncoder</label><div class=\"sk-toggleable__content\"><pre>OneHotEncoder(handle_unknown=&#x27;ignore&#x27;)</pre></div></div></div></div></div></div></div></div><div class=\"sk-parallel-item\"><div class=\"sk-item\"><div class=\"sk-label-container\"><div class=\"sk-label sk-toggleable\"><input class=\"sk-toggleable__control sk-hidden--visually\" id=\"sk-estimator-id-5\" type=\"checkbox\" ><label for=\"sk-estimator-id-5\" class=\"sk-toggleable__label sk-toggleable__label-arrow\">all</label><div class=\"sk-toggleable__content\"><pre>[&#x27;duration&#x27;, &#x27;amount&#x27;]</pre></div></div></div><div class=\"sk-serial\"><div class=\"sk-item\"><div class=\"sk-serial\"><div class=\"sk-item\"><div class=\"sk-estimator sk-toggleable\"><input class=\"sk-toggleable__control sk-hidden--visually\" id=\"sk-estimator-id-6\" type=\"checkbox\" ><label for=\"sk-estimator-id-6\" class=\"sk-toggleable__label sk-toggleable__label-arrow\">MinMaxScaler</label><div class=\"sk-toggleable__content\"><pre>MinMaxScaler()</pre></div></div></div></div></div></div></div></div></div></div><div class=\"sk-item\"><div class=\"sk-estimator sk-toggleable\"><input class=\"sk-toggleable__control sk-hidden--visually\" id=\"sk-estimator-id-7\" type=\"checkbox\" ><label for=\"sk-estimator-id-7\" class=\"sk-toggleable__label sk-toggleable__label-arrow\">LogisticRegression</label><div class=\"sk-toggleable__content\"><pre>LogisticRegression(class_weight=&#x27;balanced&#x27;, fit_intercept=False)</pre></div></div></div></div></div></div></div>"
      ],
      "text/plain": [
       "Pipeline(steps=[('preprocessor',\n",
       "                 ColumnTransformer(transformers=[('cat',\n",
       "                                                  Pipeline(steps=[('onehot',\n",
       "                                                                   OneHotEncoder(handle_unknown='ignore'))]),\n",
       "                                                  Index(['number_credits', 'savings'], dtype='object')),\n",
       "                                                 ('all',\n",
       "                                                  Pipeline(steps=[('minmax',\n",
       "                                                                   MinMaxScaler())]),\n",
       "                                                  ['duration', 'amount'])])),\n",
       "                ('classifier',\n",
       "                 LogisticRegression(class_weight='balanced',\n",
       "                                    fit_intercept=False))])"
      ]
     },
     "execution_count": 23,
     "metadata": {},
     "output_type": "execute_result"
    }
   ],
   "source": [
    "model"
   ]
  },
  {
   "cell_type": "code",
   "execution_count": 24,
   "id": "5794a5f2",
   "metadata": {},
   "outputs": [
    {
     "data": {
      "text/plain": [
       "['duration', 'number_credits']"
      ]
     },
     "execution_count": 24,
     "metadata": {},
     "output_type": "execute_result"
    }
   ],
   "source": [
    "list(dice_action.keys())"
   ]
  },
  {
   "cell_type": "code",
   "execution_count": 25,
   "id": "732f5b33",
   "metadata": {},
   "outputs": [
    {
     "data": {
      "text/plain": [
       "{'duration': [60.0, 72.0], 'number_credits': ['1-Cat']}"
      ]
     },
     "execution_count": 25,
     "metadata": {},
     "output_type": "execute_result"
    }
   ],
   "source": [
    "dice_action"
   ]
  },
  {
   "cell_type": "code",
   "execution_count": null,
   "id": "9944277a",
   "metadata": {},
   "outputs": [],
   "source": []
  },
  {
   "cell_type": "code",
   "execution_count": null,
   "id": "43c67b04",
   "metadata": {},
   "outputs": [],
   "source": []
  },
  {
   "cell_type": "code",
   "execution_count": null,
   "id": "0b28f8e8",
   "metadata": {},
   "outputs": [],
   "source": []
  },
  {
   "cell_type": "code",
   "execution_count": null,
   "id": "9f26632d",
   "metadata": {},
   "outputs": [],
   "source": []
  },
  {
   "cell_type": "code",
   "execution_count": null,
   "id": "29e7b03b",
   "metadata": {},
   "outputs": [],
   "source": []
  },
  {
   "cell_type": "code",
   "execution_count": null,
   "id": "4626e8da",
   "metadata": {},
   "outputs": [],
   "source": []
  },
  {
   "cell_type": "code",
   "execution_count": null,
   "id": "98f765a5",
   "metadata": {},
   "outputs": [],
   "source": []
  },
  {
   "cell_type": "code",
   "execution_count": null,
   "id": "f267909d",
   "metadata": {},
   "outputs": [],
   "source": []
  },
  {
   "cell_type": "code",
   "execution_count": null,
   "id": "269ba928",
   "metadata": {},
   "outputs": [],
   "source": []
  },
  {
   "cell_type": "code",
   "execution_count": 7,
   "id": "a86a4a9b",
   "metadata": {},
   "outputs": [],
   "source": [
    "import pandas as pd\n",
    "import numpy as np\n",
    "import scipy\n",
    "import seaborn as sns\n",
    "import matplotlib.pyplot as plt\n",
    "import pickle \n",
    "import string\n",
    "\n",
    "from sklearn.neighbors import KNeighborsClassifier\n",
    "from sklearn.metrics import accuracy_score, precision_score, recall_score, confusion_matrix\n",
    "from sklearn.preprocessing import OneHotEncoder\n",
    "from sklearn.linear_model import LogisticRegression\n",
    "from sklearn.neural_network import MLPClassifier\n",
    "from sklearn.model_selection import train_test_split\n",
    "from sklearn.preprocessing import MinMaxScaler\n",
    "from copy import deepcopy\n",
    "from collections import Counter\n",
    "from random import gauss\n",
    "from scipy.spatial import distance_matrix\n",
    "from sklearn.neighbors import KNeighborsClassifier\n",
    "\n",
    "from copy import deepcopy\n",
    "from collections import Counter\n",
    "\n",
    "# Sklearn imports\n",
    "from sklearn.compose import ColumnTransformer\n",
    "from sklearn.model_selection import train_test_split\n",
    "from sklearn.pipeline import Pipeline\n",
    "from sklearn.preprocessing import OneHotEncoder\n",
    "from sklearn.ensemble import RandomForestClassifier\n",
    "\n",
    "# DiCE imports\n",
    "import dice_ml\n",
    "from dice_ml.utils import helpers  # helper functions\n",
    "\n",
    "from dataset import *"
   ]
  },
  {
   "cell_type": "code",
   "execution_count": 13,
   "id": "da82fd08",
   "metadata": {},
   "outputs": [],
   "source": [
    "def dice_algorithm(seed, DIVERSITY_SIZE, max_num_samples, dataset_name):\n",
    "\n",
    "\taction_meta = actionability_constraints()\n",
    "\tdf = get_dataset(seed)\n",
    "\tnumerical = continuous_feature_names\n",
    "\n",
    "\ttrain_dataset = pd.read_csv('data/df_train.csv', index_col=[0])\n",
    "\ttest_dataset = pd.read_csv('data/df_test.csv', index_col=[0])\n",
    "\n",
    "\t#### Need to add this text so that DiCE works\n",
    "\tfor f in train_dataset.columns:\n",
    "\t\tif f not in numerical and f != TARGET_NAME:\n",
    "\t\t\ttrain_dataset[f] = train_dataset[f].astype(str) + '-Cat'\n",
    "\t#### Need to add this text so that DiCE works\n",
    "\tfor f in test_dataset.columns:\n",
    "\t\tif f not in numerical and f != TARGET_NAME:\n",
    "\t\t\ttest_dataset[f]  = test_dataset[f].astype(str)  + '-Cat'\n",
    "\n",
    "\ty_train = np.load('data/y_train.npy', )\n",
    "\ty_test = np.load('data/y_test.npy', )\n",
    "\tx_train = deepcopy(train_dataset)\n",
    "\tx_test = deepcopy(test_dataset)\n",
    "\ttrain_dataset[TARGET_NAME] = y_train\n",
    "\ttest_dataset[TARGET_NAME] = y_test\n",
    "\n",
    "\n",
    "\t# ## DiCE\n",
    "\t# Step 1: dice_ml.Data\n",
    "\td = dice_ml.Data(dataframe=train_dataset,\n",
    "\t\t\t\t\t continuous_features=continuous_feature_names,\n",
    "\t\t\t\t\t outcome_name=TARGET_NAME,\n",
    "\t\t\t\t\t method='genetic')\n",
    "\n",
    "\tnumerical = continuous_feature_names\n",
    "\tcategorical = x_train.columns.difference(numerical)\n",
    "\n",
    "\tcategorical_transformer = Pipeline(steps=[\n",
    "\t\t('onehot', OneHotEncoder(handle_unknown='ignore'))])\n",
    "\n",
    "\tnormalizer_transformer = Pipeline(steps=[\n",
    "\t\t('minmax', MinMaxScaler())])\n",
    "\n",
    "\ttransformations = ColumnTransformer(\n",
    "\t\ttransformers=[\n",
    "\t\t\t('cat', categorical_transformer, categorical),\n",
    "\t\t\t('all', normalizer_transformer, numerical),\n",
    "\t\t])\n",
    "\n",
    "\tif seed == 0:\n",
    "\t\tclassifier = LogisticRegression(max_iter=1000, fit_intercept=False, class_weight='balanced')\n",
    "\tif seed == 1:\n",
    "\t\tclassifier = MultinomialNB()\n",
    "\tif seed == 2:\n",
    "\t\tclassifier = DecisionTreeClassifier(class_weight='balanced')\n",
    "\n",
    "\n",
    "\tclf = Pipeline(steps=[('preprocessor', transformations),\n",
    "\t\t\t\t\t\t  ('classifier', classifier)])\n",
    "\n",
    "\t# oversample = RandomOverSampler(sampling_strategy='minority')\n",
    "\t# X_over, y_over = oversample.fit_resample(x_train, y_train)\n",
    "\t# model = clf.fit(X_over, y_over)\n",
    "\n",
    "\t# undersample = RandomUnderSampler(random_state=42)\n",
    "\t# X_under, y_under = undersample.fit_resample(x_train, y_train)\n",
    "\n",
    "\t# pdb.set_trace()\n",
    "\n",
    "\tprint(\"\\n Data Size:\", x_train.shape, sum(y_train))\n",
    "\tmodel = clf.fit(x_train, y_train)\n",
    "\n",
    "\tprint(\"\\n Fit Model For DiCE \\n\")\n",
    "\n",
    "\n",
    "\n",
    "\n",
    "\n",
    "\n",
    "\n",
    "\tdef get_actionable_range(x):\n",
    "\t\t\n",
    "\t\tdice_action = {}\n",
    "\n",
    "\t\tfor feature in action_meta.keys():\n",
    "\n",
    "\t\t\t# Only add actionable features for DiCE's constraints\n",
    "\t\t\tif action_meta[feature]['actionable']:\n",
    "\n",
    "\t\t\t\tif feature in numerical:\n",
    "\t\t\t\t\tquery_min_value = float(x[feature])\n",
    "\t\t\t\t\tquery_max_value = float(x[feature])\n",
    "\t\t\t\t\tmin_value = min([float(xxx) for xxx in pd.concat([x_train, x_test])[feature].values])\n",
    "\t\t\t\t\tmax_value = max([float(xxx) for xxx in pd.concat([x_train, x_test])[feature].values])\n",
    "\t\t\t\telse:\n",
    "\t\t\t\t\tquery_min_value = int(x[feature][0])\n",
    "\t\t\t\t\tquery_max_value = int(x[feature][0])\n",
    "\t\t\t\t\tmin_value = min([int(xxx[0]) for xxx in pd.concat([x_train, x_test])[feature].values])\n",
    "\t\t\t\t\tmax_value = max([int(xxx[0]) for xxx in pd.concat([x_train, x_test])[feature].values])\n",
    "\n",
    "\t\t\t\t# Is it up or down mutable?\n",
    "\t\t\t\tif action_meta[feature]['can_increase']:\n",
    "\t\t\t\t\tquery_max_value = max_value\n",
    "\n",
    "\t\t\t\tif action_meta[feature]['can_decrease']:\n",
    "\t\t\t\t\tquery_min_value = min_value\n",
    "\t\t\t\t\t\n",
    "\t\t\t\t# If it is a continuous feature\n",
    "\t\t\t\tif feature in numerical:\n",
    "\t\t\t\t\tdice_action[feature] = [float(query_min_value), float(query_max_value)]\n",
    "\t\t\t\telse:\n",
    "\t\t\t\t\tdice_action[feature] = [str(x) + '-Cat' for x in list(range(query_min_value, query_max_value+1))]\n",
    "\n",
    "\t\treturn dice_action\n",
    "\n",
    "\n",
    "\t# ## Explanation Generation Loop\n",
    "\t# Using sklearn backend\n",
    "\tm = dice_ml.Model(model=model, backend=\"sklearn\")\n",
    "\t# Using method=random for generating CFs\n",
    "\texp = dice_ml.Dice(d, m, method=\"random\")\n",
    "\toriginal_preds = model.predict(x_test)\n",
    "\tfailed = list()\n",
    "\tga_df = pd.read_csv('data/GA_Xps_diverse.csv')\n",
    "\ttest_idxs = np.sort(np.array(ga_df.test_idx.value_counts().index.tolist()))\n",
    "\n",
    "\t# pdb.set_trace()\n",
    "\n",
    "\n",
    "\n",
    "\tfor ex_idx in test_idxs:\n",
    "\n",
    "\t\ttry:\n",
    "\t\t\tx = x_test.iloc[ex_idx]\n",
    "\t\t\tdice_action = get_actionable_range(x)\n",
    "\n",
    "\t\t\t# print(\"\\n\\n\\n\\n\\n\\n \", list(dice_action.keys()), '\\n\\n\\n\\n\\n\\n\\n')\n",
    "\n",
    "\n",
    "\t\t\te3 = exp.generate_counterfactuals(\n",
    "\t\t\t\t\t\t\t\t\t\t\t  x_test[ex_idx:ex_idx+1],\n",
    "\t\t\t\t\t\t\t\t\t\t\t  total_CFs=DIVERSITY_SIZE,\n",
    "\t\t\t\t\t\t\t\t\t\t\t  desired_class=\"opposite\",\n",
    "\t\t\t\t\t\t\t\t\t\t\t  permitted_range=dice_action,\n",
    "\t\t\t\t\t\t\t\t\t\t\t  features_to_vary=list(dice_action.keys())\n",
    "\t\t\t\t\t\t\t\t\t\t\t )\n",
    "\t\t\te3.visualize_as_list(ex_idx)\n",
    "\t\t\tfailed.append(0)\n",
    "\n",
    "\t\texcept:\n",
    "\t\t\tfailed.append(1)\n",
    "\t\t\tli = list()\n",
    "\t\t\tfor _ in range(DIVERSITY_SIZE):\n",
    "\t\t\t\tli.append(x.values.tolist()+[1])\n",
    "\t\t\twith open('DiCE_Xps/test' + str(ex_idx) + '.pkl', 'wb') as fp:\n",
    "\t\t\t\t# print(\"length of file being dumped into pickel:\", ex_idx, len(li))\n",
    "\t\t\t\tpickle.dump(li, fp)\n",
    "\n",
    "\t# ## Convert Test Data Back into original format to save df\n",
    "\tfor f in x_test.columns:\n",
    "\t\tif f not in numerical:\n",
    "\t\t\tx_test[f] = [int(xxx[:-4]) for xxx in x_test[f].values]\n",
    "\tx_test.to_csv('DiCE_Xps/test_df.csv')\n",
    "\n",
    "\t#### Convert Explanations\n",
    "\tdice_cfs = list()\n",
    "\tfor ex_idx in test_idxs:  \n",
    "\t\twith open('DiCE_Xps/test'+ str(ex_idx) +'.pkl', 'rb') as fp:\n",
    "\t\t\tbanana = pickle.load(fp)\n",
    "\t\tfor b in banana:\n",
    "\t\t\tfor i in range(len(b)):\n",
    "\t\t\t\tif type(b[i]) == str:\n",
    "\t\t\t\t\tb[i] = int(b[i][:-4])\n",
    "\t\t\tdice_cfs.append([int(xxx) for xxx in b])\n",
    "\t\t# for failed counterfactuals\n",
    "\t\tif len(banana) < DIVERSITY_SIZE:\n",
    "\t\t\tfill_in = DIVERSITY_SIZE - len(banana)\n",
    "\t\t\tfor _ in range(fill_in):\n",
    "\t\t\t\tdice_cfs.append([int(xxx) for xxx in b])\n",
    "\n",
    "\tdice_cfs = np.array(dice_cfs)\n",
    "\txp_df = pd.DataFrame(dice_cfs, columns=x_train.columns.tolist() + ['original_pred'])\n",
    "\n",
    "\t# add index to cfs\n",
    "\tnew_list = list()\n",
    "\tfor item in test_idxs:\n",
    "\t\tfor _ in range(DIVERSITY_SIZE):\n",
    "\t\t\tnew_list.append(item)\n",
    "\n",
    "\txp_df['test_idx'] = new_list\n",
    "\tdel xp_df['original_pred']\n",
    "\txp_df.to_csv('DiCE_Xps/xp_df.csv')\n",
    "\n",
    "\t#### Need to add this text so that DiCE works\n",
    "\tfor f in x_test.columns:\n",
    "\t\tif f not in numerical:\n",
    "\t\t\tx_test[f] = x_test[f].astype(str) + '-Cat'\n",
    "\n",
    "\t#### Need to add this text so that DiCE works\n",
    "\tfor f in xp_df.columns:\n",
    "\t\tif f not in numerical:\n",
    "\t\t\txp_df[f] = xp_df[f].astype(str) + '-Cat'\n",
    "\n",
    "\tfound_sfs = list()\n",
    "\tfor ex_idx in test_idxs:\n",
    "\t\tx = x_test.iloc[ex_idx]\n",
    "\t\tdice_action = get_actionable_range(x)\n",
    "\t\tfor idx, char in enumerate(list(string.ascii_lowercase)[:DIVERSITY_SIZE]):\n",
    "\t\t\tinstance = xp_df[x_test.columns][xp_df.test_idx==str(ex_idx)+'-Cat'][idx:idx+1]\n",
    "\t\t\ttry:\n",
    "\t\t\t\te3 = exp.generate_counterfactuals(\n",
    "\t\t\t\t\t\t\t\t\t\t\t\t  instance,\n",
    "\t\t\t\t\t\t\t\t\t\t\t\t  total_CFs=1,\n",
    "\t\t\t\t\t\t\t\t\t\t\t\t  desired_class=\"opposite\",\n",
    "\t\t\t\t\t\t\t\t\t\t\t\t  permitted_range=dice_action,\n",
    "\t\t\t\t\t\t\t\t\t\t\t\t  features_to_vary=list(dice_action.keys())\n",
    "\t\t\t\t\t\t\t\t\t\t\t\t )\n",
    "\t\t\t\te3.visualize_as_list( str(ex_idx)+char )\n",
    "\t\t\t\tfound_sfs.append([ex_idx, char, 1])\n",
    "\t\t\texcept:\n",
    "\t\t\t\twith open('DiCE_Xps/test' + str(ex_idx) + char + '.pkl', 'wb') as fp:\n",
    "\t\t\t\t\tpickle.dump([instance.values.tolist()[0] + [1]], fp)\n",
    "\t\t\t\tfound_sfs.append([ex_idx, char, 0])\n",
    "\n",
    "\n",
    "\t#### Convert Explanations\n",
    "\tdice_sfs = list()\n",
    "\tfor ex_idx in test_idxs:\n",
    "\t\tfor char in list(string.ascii_lowercase)[:DIVERSITY_SIZE]:\n",
    "\t\t\twith open('DiCE_Xps/test' + str(ex_idx) + char + '.pkl', 'rb') as fp:\n",
    "\t\t\t\tbanana = pickle.load(fp)\t\t\t\t\t\t\t\n",
    "\t\t\tif len(np.array(banana).shape) == 3:\n",
    "\t\t\t\tbanana = banana[0]\n",
    "\t\t\tfor b in banana:\n",
    "\t\t\t\tfor i in range(len(b)):\n",
    "\t\t\t\t\tif type(b[i]) == str:\n",
    "\t\t\t\t\t\tb[i] = int(b[i][:-4])\n",
    "\t\t\tdice_sfs.append([int(xxx) for xxx in b])\n",
    "\n",
    "\tdice_sfs = np.array(dice_sfs)\n",
    "\n",
    "\t# add index to cfs\n",
    "\tfailed_cf_list = list()\n",
    "\tfor item in failed:\n",
    "\t\tfor _ in range(DIVERSITY_SIZE):\n",
    "\t\t\tfailed_cf_list.append(item)\n",
    "\n",
    "\tsf_df = pd.DataFrame(dice_sfs, columns=x_train.columns.tolist() + ['original_pred'])\n",
    "\tsf_df['found_sf'] = [ int(x) for x in np.array(found_sfs)[:, -1]]\n",
    "\tsf_df['failed_cf'] = failed_cf_list\n",
    "\tsf_df['test_idx'] = new_list\n",
    "\n",
    "# \t# remove examples which couldn't make the explanation(s)\n",
    "# \tsf_df = sf_df[sf_df.found_sf==1]\n",
    "# \tsf_df = sf_df[sf_df.failed_cf==0]\n",
    "\n",
    "\t# Remove indexs with less than m sfs found\n",
    "\tsf_df = sf_df.groupby('test_idx').filter(lambda x : len(x)==DIVERSITY_SIZE)\n",
    "\tsf_df.to_csv('data/dice_diverse.csv')\n",
    "    \n",
    "\treturn sf_df\n"
   ]
  },
  {
   "cell_type": "code",
   "execution_count": 16,
   "id": "3fd5f1b6",
   "metadata": {},
   "outputs": [
    {
     "name": "stdout",
     "output_type": "stream",
     "text": [
      "\n",
      " Data Size: (500, 20) 350\n",
      "\n",
      " Fit Model For DiCE \n",
      "\n"
     ]
    },
    {
     "name": "stderr",
     "output_type": "stream",
     "text": [
      "100%|█████████████████████████████████████████████| 1/1 [00:00<00:00, 13.05it/s]\n"
     ]
    },
    {
     "name": "stdout",
     "output_type": "stream",
     "text": [
      "Query instance (original outcome : 1)\n",
      "['1-Cat', 6, '4-Cat', '0-Cat', 1361, '1-Cat', '2-Cat', '2-Cat', '3-Cat', '1-Cat', '4-Cat', '1-Cat', 40, '3-Cat', '2-Cat', '1-Cat', '2-Cat', '1-Cat', '1-Cat', '1-Cat', 1]\n",
      "\n",
      "Diverse Counterfactual set (new outcome: 0.0)\n",
      "['1-Cat', 72.0, '4-Cat', '0-Cat', 1361, '1-Cat', '2-Cat', '2-Cat', '3-Cat', '1-Cat', '2-Cat', '1-Cat', 40, '3-Cat', '2-Cat', '1-Cat', '2-Cat', '1-Cat', '1-Cat', '1-Cat', 0]\n",
      "['1-Cat', 67.0, '4-Cat', '0-Cat', 1361, '1-Cat', '2-Cat', '3-Cat', '3-Cat', '1-Cat', '4-Cat', '1-Cat', 40, '3-Cat', '2-Cat', '1-Cat', '2-Cat', '1-Cat', '1-Cat', '1-Cat', 0]\n",
      "['1-Cat', 65.0, '4-Cat', '0-Cat', 1361, '1-Cat', '2-Cat', '4-Cat', '3-Cat', '1-Cat', '4-Cat', '1-Cat', 40, '3-Cat', '2-Cat', '1-Cat', '2-Cat', '1-Cat', '1-Cat', '1-Cat', 0]\n"
     ]
    },
    {
     "name": "stderr",
     "output_type": "stream",
     "text": [
      "100%|█████████████████████████████████████████████| 1/1 [00:00<00:00, 12.10it/s]\n"
     ]
    },
    {
     "name": "stdout",
     "output_type": "stream",
     "text": [
      "Query instance (original outcome : 0)\n",
      "['2-Cat', 24, '2-Cat', '3-Cat', 3758, '3-Cat', '1-Cat', '1-Cat', '2-Cat', '1-Cat', '4-Cat', '4-Cat', 23, '3-Cat', '1-Cat', '1-Cat', '1-Cat', '2-Cat', '1-Cat', '2-Cat', 0]\n",
      "\n",
      "Diverse Counterfactual set (new outcome: 1.0)\n",
      "['2-Cat', 24, '2-Cat', '3-Cat', 3758, '3-Cat', '1-Cat', '1-Cat', '2-Cat', '3-Cat', '4-Cat', '2-Cat', 23, '3-Cat', '1-Cat', '1-Cat', '1-Cat', '2-Cat', '1-Cat', '2-Cat', 1]\n",
      "['2-Cat', 24, '2-Cat', '3-Cat', 3758, '3-Cat', '1-Cat', '1-Cat', '2-Cat', '3-Cat', '4-Cat', '4-Cat', 23, '3-Cat', '1-Cat', '1-Cat', '1-Cat', '2-Cat', '1-Cat', '2-Cat', 1]\n",
      "['2-Cat', 24, '2-Cat', '3-Cat', 3758, '3-Cat', '1-Cat', '2-Cat', '2-Cat', '3-Cat', '4-Cat', '4-Cat', 23, '3-Cat', '1-Cat', '1-Cat', '1-Cat', '2-Cat', '1-Cat', '2-Cat', 1]\n"
     ]
    },
    {
     "name": "stderr",
     "output_type": "stream",
     "text": [
      "100%|█████████████████████████████████████████████| 1/1 [00:00<00:00, 12.41it/s]\n"
     ]
    },
    {
     "name": "stdout",
     "output_type": "stream",
     "text": [
      "Query instance (original outcome : 0)\n",
      "['1-Cat', 30, '4-Cat', '1-Cat', 6187, '2-Cat', '4-Cat', '1-Cat', '4-Cat', '1-Cat', '4-Cat', '3-Cat', 24, '3-Cat', '1-Cat', '2-Cat', '3-Cat', '2-Cat', '1-Cat', '2-Cat', 0]\n",
      "\n",
      "Diverse Counterfactual set (new outcome: 1.0)\n",
      "['1-Cat', 30, '4-Cat', '1-Cat', 6187, '2-Cat', '4-Cat', '1-Cat', '4-Cat', '1-Cat', '4-Cat', '1-Cat', 24, '3-Cat', '1-Cat', '2-Cat', '1-Cat', '2-Cat', '1-Cat', '2-Cat', 1]\n",
      "['1-Cat', 30, '4-Cat', '1-Cat', 6187, '2-Cat', '4-Cat', '1-Cat', '4-Cat', '1-Cat', '1-Cat', '1-Cat', 24, '3-Cat', '1-Cat', '2-Cat', '3-Cat', '2-Cat', '1-Cat', '2-Cat', 1]\n",
      "['1-Cat', 30, '4-Cat', '1-Cat', 6187, '2-Cat', '4-Cat', '1-Cat', '4-Cat', '3-Cat', '4-Cat', '3-Cat', 24, '3-Cat', '1-Cat', '2-Cat', '2-Cat', '2-Cat', '1-Cat', '2-Cat', 1]\n"
     ]
    },
    {
     "name": "stderr",
     "output_type": "stream",
     "text": [
      "100%|█████████████████████████████████████████████| 1/1 [00:00<00:00, 13.01it/s]\n"
     ]
    },
    {
     "name": "stdout",
     "output_type": "stream",
     "text": [
      "Query instance (original outcome : 1)\n",
      "['2-Cat', 36, '4-Cat', '3-Cat', 2337, '1-Cat', '5-Cat', '4-Cat', '3-Cat', '1-Cat', '4-Cat', '1-Cat', 36, '3-Cat', '2-Cat', '1-Cat', '3-Cat', '2-Cat', '1-Cat', '2-Cat', 1]\n",
      "\n",
      "Diverse Counterfactual set (new outcome: 0.0)\n",
      "['2-Cat', 36, '4-Cat', '3-Cat', 13504.0, '1-Cat', '5-Cat', '4-Cat', '3-Cat', '1-Cat', '4-Cat', '1-Cat', 36, '3-Cat', '2-Cat', '4-Cat', '3-Cat', '2-Cat', '1-Cat', '2-Cat', 0]\n",
      "['2-Cat', 36, '4-Cat', '3-Cat', 15003.0, '1-Cat', '5-Cat', '4-Cat', '3-Cat', '1-Cat', '4-Cat', '1-Cat', 36, '1-Cat', '2-Cat', '1-Cat', '3-Cat', '2-Cat', '1-Cat', '2-Cat', 0]\n",
      "['2-Cat', 60.0, '4-Cat', '3-Cat', 2337, '1-Cat', '5-Cat', '4-Cat', '3-Cat', '1-Cat', '4-Cat', '1-Cat', 36, '3-Cat', '2-Cat', '3-Cat', '3-Cat', '2-Cat', '1-Cat', '2-Cat', 0]\n"
     ]
    },
    {
     "name": "stderr",
     "output_type": "stream",
     "text": [
      "100%|█████████████████████████████████████████████| 1/1 [00:00<00:00, 12.36it/s]\n"
     ]
    },
    {
     "name": "stdout",
     "output_type": "stream",
     "text": [
      "Query instance (original outcome : 1)\n",
      "['2-Cat', 12, '4-Cat', '4-Cat', 1424, '1-Cat', '4-Cat', '4-Cat', '3-Cat', '1-Cat', '3-Cat', '2-Cat', 26, '3-Cat', '2-Cat', '1-Cat', '3-Cat', '2-Cat', '1-Cat', '2-Cat', 1]\n",
      "\n",
      "Diverse Counterfactual set (new outcome: 0.0)\n",
      "['2-Cat', 12, '4-Cat', '4-Cat', 14685.0, '1-Cat', '4-Cat', '4-Cat', '3-Cat', '1-Cat', '3-Cat', '2-Cat', 26, '3-Cat', '2-Cat', '1-Cat', '3-Cat', '1-Cat', '1-Cat', '2-Cat', 0]\n",
      "['2-Cat', 28.0, '4-Cat', '4-Cat', 1424, '1-Cat', '4-Cat', '4-Cat', '3-Cat', '1-Cat', '3-Cat', '2-Cat', 26, '2-Cat', '2-Cat', '1-Cat', '3-Cat', '2-Cat', '1-Cat', '2-Cat', 0]\n",
      "['1-Cat', 51.0, '4-Cat', '4-Cat', 1424, '1-Cat', '4-Cat', '4-Cat', '3-Cat', '1-Cat', '3-Cat', '2-Cat', 26, '3-Cat', '2-Cat', '1-Cat', '3-Cat', '2-Cat', '1-Cat', '2-Cat', 0]\n"
     ]
    },
    {
     "name": "stderr",
     "output_type": "stream",
     "text": [
      "100%|█████████████████████████████████████████████| 1/1 [00:00<00:00, 12.53it/s]\n"
     ]
    },
    {
     "name": "stdout",
     "output_type": "stream",
     "text": [
      "Query instance (original outcome : 1)\n",
      "['3-Cat', 30, '4-Cat', '3-Cat', 3017, '1-Cat', '5-Cat', '4-Cat', '3-Cat', '1-Cat', '4-Cat', '2-Cat', 47, '3-Cat', '2-Cat', '1-Cat', '3-Cat', '2-Cat', '1-Cat', '2-Cat', 1]\n",
      "\n",
      "Diverse Counterfactual set (new outcome: 0.0)\n",
      "['2-Cat', 30, '4-Cat', '3-Cat', 17500.0, '1-Cat', '5-Cat', '4-Cat', '3-Cat', '1-Cat', '4-Cat', '2-Cat', 47, '3-Cat', '2-Cat', '1-Cat', '3-Cat', '2-Cat', '1-Cat', '2-Cat', 0]\n",
      "['3-Cat', 70.0, '4-Cat', '3-Cat', 3017, '1-Cat', '2-Cat', '4-Cat', '3-Cat', '1-Cat', '4-Cat', '2-Cat', 47, '3-Cat', '2-Cat', '1-Cat', '3-Cat', '2-Cat', '1-Cat', '2-Cat', 0]\n",
      "['3-Cat', 48.0, '4-Cat', '3-Cat', 3017, '1-Cat', '5-Cat', '4-Cat', '3-Cat', '1-Cat', '4-Cat', '2-Cat', 47, '3-Cat', '2-Cat', '4-Cat', '3-Cat', '2-Cat', '1-Cat', '2-Cat', 0]\n"
     ]
    },
    {
     "name": "stderr",
     "output_type": "stream",
     "text": [
      "100%|█████████████████████████████████████████████| 1/1 [00:00<00:00, 12.39it/s]\n"
     ]
    },
    {
     "name": "stdout",
     "output_type": "stream",
     "text": [
      "Query instance (original outcome : 1)\n",
      "['4-Cat', 36, '4-Cat', '0-Cat', 3535, '1-Cat', '4-Cat', '4-Cat', '3-Cat', '1-Cat', '4-Cat', '3-Cat', 37, '3-Cat', '2-Cat', '2-Cat', '3-Cat', '2-Cat', '2-Cat', '2-Cat', 1]\n",
      "\n",
      "Diverse Counterfactual set (new outcome: 0.0)\n",
      "['3-Cat', 36, '4-Cat', '0-Cat', 3535, '1-Cat', '4-Cat', '4-Cat', '3-Cat', '1-Cat', '4-Cat', '3-Cat', 37, '1-Cat', '2-Cat', '2-Cat', '3-Cat', '2-Cat', '2-Cat', '2-Cat', 0]\n",
      "['4-Cat', 36, '4-Cat', '0-Cat', 14173.0, '1-Cat', '4-Cat', '4-Cat', '3-Cat', '1-Cat', '4-Cat', '3-Cat', 37, '3-Cat', '2-Cat', '2-Cat', '3-Cat', '1-Cat', '2-Cat', '2-Cat', 0]\n",
      "['4-Cat', 36, '4-Cat', '0-Cat', 3535, '1-Cat', '4-Cat', '4-Cat', '3-Cat', '1-Cat', '3-Cat', '3-Cat', 37, '1-Cat', '2-Cat', '2-Cat', '3-Cat', '2-Cat', '2-Cat', '2-Cat', 0]\n"
     ]
    },
    {
     "name": "stderr",
     "output_type": "stream",
     "text": [
      "100%|█████████████████████████████████████████████| 1/1 [00:00<00:00, 12.60it/s]\n"
     ]
    },
    {
     "name": "stdout",
     "output_type": "stream",
     "text": [
      "Query instance (original outcome : 1)\n",
      "['4-Cat', 36, '4-Cat', '0-Cat', 6614, '1-Cat', '5-Cat', '4-Cat', '3-Cat', '1-Cat', '4-Cat', '3-Cat', 34, '3-Cat', '2-Cat', '2-Cat', '4-Cat', '2-Cat', '2-Cat', '2-Cat', 1]\n",
      "\n",
      "Diverse Counterfactual set (new outcome: 0.0)\n",
      "['2-Cat', 36, '4-Cat', '0-Cat', 6614, '1-Cat', '5-Cat', '4-Cat', '3-Cat', '1-Cat', '4-Cat', '3-Cat', 34, '3-Cat', '2-Cat', '2-Cat', '4-Cat', '2-Cat', '2-Cat', '2-Cat', 0]\n",
      "['4-Cat', 36, '4-Cat', '0-Cat', 14323.0, '1-Cat', '5-Cat', '4-Cat', '3-Cat', '1-Cat', '4-Cat', '3-Cat', 34, '3-Cat', '2-Cat', '2-Cat', '4-Cat', '2-Cat', '2-Cat', '2-Cat', 0]\n",
      "['4-Cat', 36, '1-Cat', '0-Cat', 11492.0, '1-Cat', '5-Cat', '4-Cat', '3-Cat', '1-Cat', '4-Cat', '3-Cat', 34, '3-Cat', '2-Cat', '2-Cat', '4-Cat', '2-Cat', '2-Cat', '2-Cat', 0]\n"
     ]
    },
    {
     "name": "stderr",
     "output_type": "stream",
     "text": [
      "100%|█████████████████████████████████████████████| 1/1 [00:00<00:00, 12.10it/s]\n"
     ]
    },
    {
     "name": "stdout",
     "output_type": "stream",
     "text": [
      "Query instance (original outcome : 1)\n",
      "['4-Cat', 24, '2-Cat', '3-Cat', 1376, '3-Cat', '4-Cat', '4-Cat', '2-Cat', '1-Cat', '1-Cat', '3-Cat', 28, '3-Cat', '2-Cat', '1-Cat', '3-Cat', '2-Cat', '1-Cat', '2-Cat', 1]\n",
      "\n",
      "Diverse Counterfactual set (new outcome: 0.0)\n",
      "['4-Cat', 48.0, '2-Cat', '3-Cat', 1376, '3-Cat', '4-Cat', '4-Cat', '2-Cat', '1-Cat', '1-Cat', '3-Cat', 28, '2-Cat', '2-Cat', '1-Cat', '3-Cat', '2-Cat', '1-Cat', '2-Cat', 0]\n",
      "['4-Cat', 69.0, '2-Cat', '3-Cat', 1376, '3-Cat', '4-Cat', '4-Cat', '2-Cat', '1-Cat', '1-Cat', '3-Cat', 28, '3-Cat', '2-Cat', '1-Cat', '3-Cat', '2-Cat', '1-Cat', '2-Cat', 0]\n",
      "['4-Cat', 64.0, '0-Cat', '3-Cat', 1376, '3-Cat', '4-Cat', '4-Cat', '2-Cat', '1-Cat', '1-Cat', '3-Cat', 28, '3-Cat', '2-Cat', '1-Cat', '3-Cat', '2-Cat', '1-Cat', '2-Cat', 0]\n"
     ]
    },
    {
     "name": "stderr",
     "output_type": "stream",
     "text": [
      "100%|█████████████████████████████████████████████| 1/1 [00:00<00:00, 12.85it/s]\n"
     ]
    },
    {
     "name": "stdout",
     "output_type": "stream",
     "text": [
      "Query instance (original outcome : 0)\n",
      "['1-Cat', 15, '2-Cat', '0-Cat', 1721, '1-Cat', '2-Cat', '2-Cat', '3-Cat', '1-Cat', '3-Cat', '1-Cat', 36, '3-Cat', '2-Cat', '1-Cat', '3-Cat', '2-Cat', '1-Cat', '2-Cat', 0]\n",
      "\n",
      "Diverse Counterfactual set (new outcome: 1.0)\n",
      "['1-Cat', 15, '2-Cat', '0-Cat', 1721, '1-Cat', '2-Cat', '2-Cat', '3-Cat', '1-Cat', '1-Cat', '1-Cat', 36, '3-Cat', '2-Cat', '1-Cat', '3-Cat', '1-Cat', '1-Cat', '2-Cat', 1]\n",
      "['1-Cat', 15, '2-Cat', '0-Cat', 1721, '1-Cat', '1-Cat', '2-Cat', '3-Cat', '1-Cat', '3-Cat', '1-Cat', 36, '3-Cat', '2-Cat', '1-Cat', '3-Cat', '1-Cat', '1-Cat', '2-Cat', 1]\n",
      "['1-Cat', 15, '2-Cat', '0-Cat', 1721, '1-Cat', '2-Cat', '2-Cat', '3-Cat', '3-Cat', '3-Cat', '1-Cat', 36, '3-Cat', '2-Cat', '1-Cat', '3-Cat', '1-Cat', '1-Cat', '2-Cat', 1]\n"
     ]
    },
    {
     "name": "stderr",
     "output_type": "stream",
     "text": [
      "100%|█████████████████████████████████████████████| 1/1 [00:00<00:00, 12.67it/s]\n"
     ]
    },
    {
     "name": "stdout",
     "output_type": "stream",
     "text": [
      "Query instance (original outcome : 1)\n",
      "['4-Cat', 12, '4-Cat', '3-Cat', 1934, '1-Cat', '5-Cat', '2-Cat', '3-Cat', '1-Cat', '2-Cat', '4-Cat', 26, '3-Cat', '2-Cat', '2-Cat', '3-Cat', '2-Cat', '1-Cat', '2-Cat', 1]\n",
      "\n",
      "Diverse Counterfactual set (new outcome: 0.0)\n",
      "['1-Cat', 12, '4-Cat', '3-Cat', 1934, '1-Cat', '5-Cat', '2-Cat', '3-Cat', '1-Cat', '2-Cat', '4-Cat', 26, '2-Cat', '2-Cat', '2-Cat', '3-Cat', '2-Cat', '1-Cat', '2-Cat', 0]\n",
      "['1-Cat', 12, '4-Cat', '3-Cat', 14525.0, '1-Cat', '5-Cat', '2-Cat', '3-Cat', '1-Cat', '2-Cat', '4-Cat', 26, '3-Cat', '2-Cat', '2-Cat', '3-Cat', '2-Cat', '1-Cat', '2-Cat', 0]\n",
      "['4-Cat', 69.0, '4-Cat', '3-Cat', 1934, '1-Cat', '5-Cat', '2-Cat', '3-Cat', '1-Cat', '2-Cat', '4-Cat', 26, '3-Cat', '2-Cat', '2-Cat', '3-Cat', '2-Cat', '1-Cat', '2-Cat', 0]\n"
     ]
    },
    {
     "name": "stderr",
     "output_type": "stream",
     "text": [
      "100%|█████████████████████████████████████████████| 1/1 [00:00<00:00, 12.55it/s]\n"
     ]
    },
    {
     "name": "stdout",
     "output_type": "stream",
     "text": [
      "Query instance (original outcome : 0)\n",
      "['4-Cat', 24, '4-Cat', '1-Cat', 3868, '1-Cat', '5-Cat', '4-Cat', '2-Cat', '1-Cat', '2-Cat', '3-Cat', 41, '3-Cat', '1-Cat', '2-Cat', '4-Cat', '2-Cat', '2-Cat', '2-Cat', 0]\n",
      "\n",
      "Diverse Counterfactual set (new outcome: 1.0)\n",
      "['4-Cat', 24, '4-Cat', '1-Cat', 3868, '1-Cat', '3-Cat', '4-Cat', '2-Cat', '1-Cat', '2-Cat', '3-Cat', 41, '3-Cat', '1-Cat', '2-Cat', '1-Cat', '2-Cat', '2-Cat', '2-Cat', 1]\n",
      "['4-Cat', 34.0, '3-Cat', '1-Cat', 3868, '1-Cat', '5-Cat', '4-Cat', '2-Cat', '1-Cat', '2-Cat', '3-Cat', 41, '3-Cat', '1-Cat', '2-Cat', '4-Cat', '2-Cat', '2-Cat', '2-Cat', 1]\n",
      "['4-Cat', 24, '4-Cat', '1-Cat', 5221.0, '1-Cat', '5-Cat', '4-Cat', '2-Cat', '3-Cat', '2-Cat', '3-Cat', 41, '3-Cat', '1-Cat', '2-Cat', '4-Cat', '2-Cat', '2-Cat', '2-Cat', 1]\n"
     ]
    },
    {
     "name": "stderr",
     "output_type": "stream",
     "text": [
      "100%|█████████████████████████████████████████████| 1/1 [00:00<00:00, 12.74it/s]\n"
     ]
    },
    {
     "name": "stdout",
     "output_type": "stream",
     "text": [
      "Query instance (original outcome : 0)\n",
      "['1-Cat', 24, '2-Cat', '10-Cat', 1755, '1-Cat', '5-Cat', '4-Cat', '2-Cat', '3-Cat', '4-Cat', '1-Cat', 58, '3-Cat', '2-Cat', '1-Cat', '2-Cat', '2-Cat', '2-Cat', '2-Cat', 0]\n",
      "\n",
      "Diverse Counterfactual set (new outcome: 1.0)\n",
      "['1-Cat', 24, '1-Cat', '10-Cat', 1755, '1-Cat', '4-Cat', '4-Cat', '2-Cat', '3-Cat', '4-Cat', '1-Cat', 58, '3-Cat', '2-Cat', '1-Cat', '2-Cat', '2-Cat', '2-Cat', '2-Cat', 1]\n",
      "['1-Cat', 24, '2-Cat', '10-Cat', 1755, '1-Cat', '5-Cat', '4-Cat', '2-Cat', '3-Cat', '4-Cat', '1-Cat', 58, '3-Cat', '2-Cat', '1-Cat', '1-Cat', '2-Cat', '2-Cat', '2-Cat', 1]\n",
      "['1-Cat', 24, '2-Cat', '10-Cat', 1755, '1-Cat', '3-Cat', '4-Cat', '2-Cat', '3-Cat', '4-Cat', '1-Cat', 58, '3-Cat', '2-Cat', '2-Cat', '2-Cat', '2-Cat', '2-Cat', '2-Cat', 1]\n"
     ]
    },
    {
     "name": "stderr",
     "output_type": "stream",
     "text": [
      "100%|█████████████████████████████████████████████| 1/1 [00:00<00:00, 12.55it/s]\n"
     ]
    },
    {
     "name": "stdout",
     "output_type": "stream",
     "text": [
      "Query instance (original outcome : 1)\n",
      "['2-Cat', 24, '4-Cat', '9-Cat', 2825, '5-Cat', '4-Cat', '4-Cat', '3-Cat', '1-Cat', '3-Cat', '4-Cat', 34, '3-Cat', '2-Cat', '2-Cat', '3-Cat', '1-Cat', '2-Cat', '2-Cat', 1]\n",
      "\n",
      "Diverse Counterfactual set (new outcome: 0.0)\n",
      "['2-Cat', 24, '4-Cat', '9-Cat', 14960.0, '5-Cat', '4-Cat', '4-Cat', '3-Cat', '1-Cat', '3-Cat', '4-Cat', 34, '3-Cat', '1-Cat', '2-Cat', '3-Cat', '1-Cat', '2-Cat', '2-Cat', 0]\n",
      "['2-Cat', 53.0, '4-Cat', '9-Cat', 2825, '5-Cat', '4-Cat', '4-Cat', '3-Cat', '1-Cat', '3-Cat', '4-Cat', 34, '1-Cat', '2-Cat', '2-Cat', '3-Cat', '1-Cat', '2-Cat', '2-Cat', 0]\n",
      "['2-Cat', 55.0, '4-Cat', '9-Cat', 2825, '5-Cat', '1-Cat', '4-Cat', '3-Cat', '1-Cat', '3-Cat', '4-Cat', 34, '3-Cat', '2-Cat', '2-Cat', '3-Cat', '1-Cat', '2-Cat', '2-Cat', 0]\n"
     ]
    },
    {
     "name": "stderr",
     "output_type": "stream",
     "text": [
      "100%|█████████████████████████████████████████████| 1/1 [00:00<00:00, 12.93it/s]\n"
     ]
    },
    {
     "name": "stdout",
     "output_type": "stream",
     "text": [
      "Query instance (original outcome : 1)\n",
      "['2-Cat', 18, '2-Cat', '6-Cat', 1239, '5-Cat', '3-Cat', '4-Cat', '3-Cat', '1-Cat', '4-Cat', '4-Cat', 61, '3-Cat', '3-Cat', '1-Cat', '3-Cat', '2-Cat', '1-Cat', '2-Cat', 1]\n",
      "\n",
      "Diverse Counterfactual set (new outcome: 0.0)\n",
      "['2-Cat', 18, '2-Cat', '6-Cat', 13888.0, '5-Cat', '3-Cat', '4-Cat', '3-Cat', '1-Cat', '4-Cat', '4-Cat', 61, '3-Cat', '3-Cat', '1-Cat', '3-Cat', '2-Cat', '1-Cat', '2-Cat', 0]\n",
      "['2-Cat', 18, '2-Cat', '6-Cat', 17844.0, '5-Cat', '3-Cat', '4-Cat', '3-Cat', '1-Cat', '4-Cat', '4-Cat', 61, '3-Cat', '3-Cat', '1-Cat', '3-Cat', '2-Cat', '1-Cat', '2-Cat', 0]\n",
      "['2-Cat', 18, '2-Cat', '6-Cat', 15440.0, '5-Cat', '3-Cat', '4-Cat', '3-Cat', '1-Cat', '4-Cat', '4-Cat', 61, '3-Cat', '3-Cat', '1-Cat', '3-Cat', '2-Cat', '1-Cat', '2-Cat', 0]\n"
     ]
    },
    {
     "name": "stderr",
     "output_type": "stream",
     "text": [
      "100%|█████████████████████████████████████████████| 1/1 [00:00<00:00,  3.66it/s]\n"
     ]
    },
    {
     "name": "stdout",
     "output_type": "stream",
     "text": [
      "No Counterfactuals found for the given configuration, perhaps try with different parameters... ; total time taken: 00 min 00 sec\n"
     ]
    },
    {
     "name": "stderr",
     "output_type": "stream",
     "text": [
      "100%|█████████████████████████████████████████████| 1/1 [00:00<00:00, 12.88it/s]\n"
     ]
    },
    {
     "name": "stdout",
     "output_type": "stream",
     "text": [
      "Query instance (original outcome : 1)\n",
      "['4-Cat', 18, '4-Cat', '6-Cat', 1864, '2-Cat', '3-Cat', '4-Cat', '2-Cat', '1-Cat', '2-Cat', '1-Cat', 30, '3-Cat', '2-Cat', '2-Cat', '3-Cat', '2-Cat', '1-Cat', '2-Cat', 1]\n",
      "\n",
      "Diverse Counterfactual set (new outcome: 0.0)\n",
      "['1-Cat', 18, '4-Cat', '6-Cat', 1864, '2-Cat', '3-Cat', '4-Cat', '2-Cat', '1-Cat', '2-Cat', '1-Cat', 30, '3-Cat', '2-Cat', '2-Cat', '3-Cat', '1-Cat', '1-Cat', '2-Cat', 0]\n",
      "['4-Cat', 43.0, '4-Cat', '6-Cat', 1864, '2-Cat', '3-Cat', '4-Cat', '2-Cat', '1-Cat', '2-Cat', '1-Cat', 30, '3-Cat', '2-Cat', '2-Cat', '3-Cat', '2-Cat', '1-Cat', '2-Cat', 0]\n",
      "['4-Cat', 18, '4-Cat', '6-Cat', 1864, '2-Cat', '3-Cat', '4-Cat', '2-Cat', '1-Cat', '2-Cat', '1-Cat', 30, '3-Cat', '1-Cat', '2-Cat', '2-Cat', '2-Cat', '1-Cat', '2-Cat', 0]\n"
     ]
    },
    {
     "name": "stderr",
     "output_type": "stream",
     "text": [
      "100%|█████████████████████████████████████████████| 1/1 [00:00<00:00, 13.24it/s]\n"
     ]
    },
    {
     "name": "stdout",
     "output_type": "stream",
     "text": [
      "Query instance (original outcome : 0)\n",
      "['4-Cat', 24, '2-Cat', '0-Cat', 1474, '2-Cat', '2-Cat', '4-Cat', '4-Cat', '1-Cat', '3-Cat', '1-Cat', 33, '3-Cat', '2-Cat', '1-Cat', '3-Cat', '2-Cat', '2-Cat', '2-Cat', 0]\n",
      "\n",
      "Diverse Counterfactual set (new outcome: 1.0)\n",
      "['4-Cat', 24, '2-Cat', '0-Cat', 1474, '2-Cat', '2-Cat', '4-Cat', '4-Cat', '3-Cat', '3-Cat', '1-Cat', 33, '3-Cat', '2-Cat', '1-Cat', '1-Cat', '2-Cat', '2-Cat', '2-Cat', 1]\n",
      "['4-Cat', 24, '2-Cat', '0-Cat', 1474, '2-Cat', '2-Cat', '4-Cat', '4-Cat', '3-Cat', '2-Cat', '1-Cat', 33, '3-Cat', '2-Cat', '1-Cat', '3-Cat', '2-Cat', '2-Cat', '2-Cat', 1]\n",
      "['4-Cat', 24, '2-Cat', '0-Cat', 1474, '2-Cat', '1-Cat', '4-Cat', '4-Cat', '3-Cat', '3-Cat', '1-Cat', 33, '3-Cat', '2-Cat', '1-Cat', '3-Cat', '2-Cat', '2-Cat', '2-Cat', 1]\n"
     ]
    },
    {
     "name": "stderr",
     "output_type": "stream",
     "text": [
      "100%|█████████████████████████████████████████████| 1/1 [00:00<00:00, 13.01it/s]\n"
     ]
    },
    {
     "name": "stdout",
     "output_type": "stream",
     "text": [
      "Query instance (original outcome : 1)\n",
      "['1-Cat', 24, '4-Cat', '9-Cat', 1382, '2-Cat', '4-Cat', '4-Cat', '3-Cat', '1-Cat', '1-Cat', '1-Cat', 26, '3-Cat', '2-Cat', '2-Cat', '3-Cat', '2-Cat', '2-Cat', '2-Cat', 1]\n",
      "\n",
      "Diverse Counterfactual set (new outcome: 0.0)\n",
      "['1-Cat', 58.0, '4-Cat', '9-Cat', 1382, '2-Cat', '4-Cat', '4-Cat', '3-Cat', '1-Cat', '1-Cat', '1-Cat', 26, '3-Cat', '1-Cat', '2-Cat', '3-Cat', '2-Cat', '2-Cat', '2-Cat', 0]\n",
      "['1-Cat', 24, '4-Cat', '9-Cat', 6067.0, '2-Cat', '4-Cat', '4-Cat', '3-Cat', '1-Cat', '1-Cat', '1-Cat', 26, '3-Cat', '2-Cat', '2-Cat', '3-Cat', '2-Cat', '2-Cat', '2-Cat', 0]\n",
      "['1-Cat', 24, '4-Cat', '9-Cat', 16242.0, '2-Cat', '4-Cat', '4-Cat', '3-Cat', '1-Cat', '1-Cat', '1-Cat', 26, '3-Cat', '2-Cat', '2-Cat', '3-Cat', '2-Cat', '2-Cat', '2-Cat', 0]\n"
     ]
    },
    {
     "name": "stderr",
     "output_type": "stream",
     "text": [
      "100%|█████████████████████████████████████████████| 1/1 [00:00<00:00, 12.37it/s]\n"
     ]
    },
    {
     "name": "stdout",
     "output_type": "stream",
     "text": [
      "Query instance (original outcome : 0)\n",
      "['1-Cat', 12, '4-Cat', '3-Cat', 385, '1-Cat', '4-Cat', '4-Cat', '2-Cat', '1-Cat', '3-Cat', '1-Cat', 58, '3-Cat', '2-Cat', '4-Cat', '2-Cat', '2-Cat', '2-Cat', '2-Cat', 0]\n",
      "\n",
      "Diverse Counterfactual set (new outcome: 1.0)\n",
      "['1-Cat', 12.0, '4-Cat', '3-Cat', 385, '1-Cat', '4-Cat', '4-Cat', '2-Cat', '3-Cat', '3-Cat', '1-Cat', 58, '3-Cat', '2-Cat', '4-Cat', '2-Cat', '2-Cat', '2-Cat', '2-Cat', 1]\n",
      "['1-Cat', 12, '4-Cat', '3-Cat', 385, '1-Cat', '4-Cat', '4-Cat', '2-Cat', '3-Cat', '3-Cat', '1-Cat', 58, '3-Cat', '2-Cat', '4-Cat', '1-Cat', '2-Cat', '2-Cat', '2-Cat', 1]\n",
      "['1-Cat', 12, '4-Cat', '3-Cat', 385, '1-Cat', '4-Cat', '4-Cat', '2-Cat', '3-Cat', '3-Cat', '1-Cat', 58, '3-Cat', '2-Cat', '4-Cat', '2-Cat', '1-Cat', '2-Cat', '2-Cat', 1]\n"
     ]
    },
    {
     "name": "stderr",
     "output_type": "stream",
     "text": [
      "100%|█████████████████████████████████████████████| 1/1 [00:00<00:00, 13.18it/s]\n"
     ]
    },
    {
     "name": "stdout",
     "output_type": "stream",
     "text": [
      "Query instance (original outcome : 1)\n",
      "['4-Cat', 24, '2-Cat', '1-Cat', 2679, '1-Cat', '2-Cat', '4-Cat', '2-Cat', '1-Cat', '1-Cat', '4-Cat', 29, '3-Cat', '2-Cat', '1-Cat', '4-Cat', '2-Cat', '2-Cat', '2-Cat', 1]\n",
      "\n",
      "Diverse Counterfactual set (new outcome: 0.0)\n",
      "['4-Cat', 24, '2-Cat', '1-Cat', 8486.0, '1-Cat', '2-Cat', '4-Cat', '2-Cat', '1-Cat', '1-Cat', '4-Cat', 29, '3-Cat', '2-Cat', '1-Cat', '4-Cat', '2-Cat', '2-Cat', '2-Cat', 0]\n",
      "['2-Cat', 24, '2-Cat', '1-Cat', 2679, '1-Cat', '2-Cat', '4-Cat', '2-Cat', '1-Cat', '1-Cat', '4-Cat', 29, '1-Cat', '2-Cat', '1-Cat', '4-Cat', '2-Cat', '2-Cat', '2-Cat', 0]\n",
      "['4-Cat', 24, '2-Cat', '1-Cat', 2679, '1-Cat', '2-Cat', '4-Cat', '2-Cat', '1-Cat', '1-Cat', '2-Cat', 29, '2-Cat', '2-Cat', '1-Cat', '4-Cat', '2-Cat', '2-Cat', '2-Cat', 0]\n"
     ]
    },
    {
     "name": "stderr",
     "output_type": "stream",
     "text": [
      "100%|█████████████████████████████████████████████| 1/1 [00:00<00:00, 13.47it/s]\n"
     ]
    },
    {
     "name": "stdout",
     "output_type": "stream",
     "text": [
      "Query instance (original outcome : 1)\n",
      "['4-Cat', 12, '2-Cat', '3-Cat', 3077, '1-Cat', '3-Cat', '2-Cat', '3-Cat', '1-Cat', '4-Cat', '3-Cat', 52, '3-Cat', '2-Cat', '1-Cat', '3-Cat', '2-Cat', '2-Cat', '2-Cat', 1]\n",
      "\n",
      "Diverse Counterfactual set (new outcome: 0.0)\n",
      "['4-Cat', 72.0, '2-Cat', '3-Cat', 3077, '1-Cat', '3-Cat', '2-Cat', '3-Cat', '1-Cat', '4-Cat', '3-Cat', 52, '2-Cat', '2-Cat', '1-Cat', '3-Cat', '2-Cat', '2-Cat', '2-Cat', 0]\n",
      "['4-Cat', 72.0, '2-Cat', '3-Cat', 7855.0, '1-Cat', '3-Cat', '2-Cat', '3-Cat', '1-Cat', '4-Cat', '3-Cat', 52, '3-Cat', '2-Cat', '1-Cat', '3-Cat', '2-Cat', '2-Cat', '2-Cat', 0]\n",
      "['4-Cat', 58.0, '2-Cat', '3-Cat', 11372.0, '1-Cat', '3-Cat', '2-Cat', '3-Cat', '1-Cat', '4-Cat', '3-Cat', 52, '3-Cat', '2-Cat', '1-Cat', '3-Cat', '2-Cat', '2-Cat', '2-Cat', 0]\n"
     ]
    },
    {
     "name": "stderr",
     "output_type": "stream",
     "text": [
      "100%|█████████████████████████████████████████████| 1/1 [00:00<00:00, 13.22it/s]\n"
     ]
    },
    {
     "name": "stdout",
     "output_type": "stream",
     "text": [
      "Query instance (original outcome : 1)\n",
      "['4-Cat', 24, '2-Cat', '3-Cat', 2284, '1-Cat', '4-Cat', '4-Cat', '3-Cat', '1-Cat', '2-Cat', '3-Cat', 28, '3-Cat', '2-Cat', '1-Cat', '3-Cat', '2-Cat', '2-Cat', '2-Cat', 1]\n",
      "\n",
      "Diverse Counterfactual set (new outcome: 0.0)\n",
      "['4-Cat', 24, '2-Cat', '3-Cat', 14511.0, '1-Cat', '4-Cat', '4-Cat', '3-Cat', '1-Cat', '2-Cat', '3-Cat', 28, '3-Cat', '2-Cat', '1-Cat', '3-Cat', '2-Cat', '2-Cat', '2-Cat', 0]\n",
      "['4-Cat', 24, '2-Cat', '3-Cat', 8967.0, '1-Cat', '4-Cat', '4-Cat', '3-Cat', '1-Cat', '2-Cat', '3-Cat', 28, '3-Cat', '2-Cat', '1-Cat', '3-Cat', '2-Cat', '2-Cat', '2-Cat', 0]\n",
      "['4-Cat', 24, '2-Cat', '3-Cat', 8097.0, '1-Cat', '3-Cat', '4-Cat', '3-Cat', '1-Cat', '2-Cat', '3-Cat', 28, '3-Cat', '2-Cat', '1-Cat', '3-Cat', '2-Cat', '2-Cat', '2-Cat', 0]\n"
     ]
    },
    {
     "name": "stderr",
     "output_type": "stream",
     "text": [
      "100%|█████████████████████████████████████████████| 1/1 [00:00<00:00, 12.67it/s]\n"
     ]
    },
    {
     "name": "stdout",
     "output_type": "stream",
     "text": [
      "Query instance (original outcome : 1)\n",
      "['4-Cat', 24, '3-Cat', '0-Cat', 2032, '1-Cat', '5-Cat', '4-Cat', '3-Cat', '1-Cat', '4-Cat', '4-Cat', 60, '3-Cat', '3-Cat', '2-Cat', '3-Cat', '2-Cat', '2-Cat', '2-Cat', 1]\n",
      "\n",
      "Diverse Counterfactual set (new outcome: 0.0)\n",
      "['4-Cat', 64.0, '3-Cat', '0-Cat', 2032, '1-Cat', '5-Cat', '4-Cat', '3-Cat', '1-Cat', '4-Cat', '4-Cat', 60, '2-Cat', '3-Cat', '2-Cat', '3-Cat', '2-Cat', '2-Cat', '2-Cat', 0]\n",
      "['4-Cat', 24, '0-Cat', '0-Cat', 2032, '1-Cat', '1-Cat', '4-Cat', '3-Cat', '1-Cat', '4-Cat', '4-Cat', 60, '3-Cat', '3-Cat', '2-Cat', '3-Cat', '2-Cat', '2-Cat', '2-Cat', 0]\n",
      "['4-Cat', 24, '3-Cat', '0-Cat', 12222.0, '1-Cat', '5-Cat', '4-Cat', '3-Cat', '1-Cat', '4-Cat', '4-Cat', 60, '3-Cat', '3-Cat', '2-Cat', '3-Cat', '2-Cat', '2-Cat', '2-Cat', 0]\n"
     ]
    },
    {
     "name": "stderr",
     "output_type": "stream",
     "text": [
      "100%|█████████████████████████████████████████████| 1/1 [00:00<00:00, 12.89it/s]\n"
     ]
    },
    {
     "name": "stdout",
     "output_type": "stream",
     "text": [
      "Query instance (original outcome : 1)\n",
      "['2-Cat', 21, '4-Cat', '2-Cat', 2745, '4-Cat', '4-Cat', '3-Cat', '3-Cat', '1-Cat', '2-Cat', '3-Cat', 32, '3-Cat', '2-Cat', '2-Cat', '3-Cat', '2-Cat', '2-Cat', '2-Cat', 1]\n",
      "\n",
      "Diverse Counterfactual set (new outcome: 0.0)\n",
      "['2-Cat', 21, '0-Cat', '2-Cat', 16426.0, '4-Cat', '4-Cat', '3-Cat', '3-Cat', '1-Cat', '2-Cat', '3-Cat', 32, '3-Cat', '2-Cat', '2-Cat', '3-Cat', '2-Cat', '2-Cat', '2-Cat', 0]\n",
      "['1-Cat', 21, '4-Cat', '2-Cat', 16285.0, '4-Cat', '4-Cat', '3-Cat', '3-Cat', '1-Cat', '2-Cat', '3-Cat', 32, '3-Cat', '2-Cat', '2-Cat', '3-Cat', '2-Cat', '2-Cat', '2-Cat', 0]\n",
      "['2-Cat', 21, '4-Cat', '2-Cat', 2745, '1-Cat', '4-Cat', '3-Cat', '3-Cat', '2-Cat', '2-Cat', '3-Cat', 32, '3-Cat', '2-Cat', '2-Cat', '3-Cat', '2-Cat', '2-Cat', '2-Cat', 0]\n"
     ]
    },
    {
     "name": "stderr",
     "output_type": "stream",
     "text": [
      "100%|█████████████████████████████████████████████| 1/1 [00:00<00:00, 12.95it/s]\n"
     ]
    },
    {
     "name": "stdout",
     "output_type": "stream",
     "text": [
      "Query instance (original outcome : 1)\n",
      "['4-Cat', 30, '2-Cat', '3-Cat', 1867, '5-Cat', '5-Cat', '4-Cat', '3-Cat', '1-Cat', '4-Cat', '3-Cat', 58, '3-Cat', '2-Cat', '1-Cat', '3-Cat', '2-Cat', '2-Cat', '2-Cat', 1]\n",
      "\n",
      "Diverse Counterfactual set (new outcome: 0.0)\n",
      "['1-Cat', 30, '2-Cat', '3-Cat', 1867, '5-Cat', '5-Cat', '4-Cat', '3-Cat', '1-Cat', '4-Cat', '3-Cat', 58, '2-Cat', '2-Cat', '1-Cat', '3-Cat', '2-Cat', '2-Cat', '2-Cat', 0]\n",
      "['1-Cat', 30, '2-Cat', '3-Cat', 7036.0, '5-Cat', '5-Cat', '4-Cat', '3-Cat', '1-Cat', '4-Cat', '3-Cat', 58, '3-Cat', '2-Cat', '1-Cat', '3-Cat', '2-Cat', '2-Cat', '2-Cat', 0]\n",
      "['4-Cat', 30, '2-Cat', '3-Cat', 15399.0, '1-Cat', '5-Cat', '4-Cat', '3-Cat', '1-Cat', '4-Cat', '3-Cat', 58, '3-Cat', '2-Cat', '1-Cat', '3-Cat', '2-Cat', '2-Cat', '2-Cat', 0]\n"
     ]
    },
    {
     "name": "stderr",
     "output_type": "stream",
     "text": [
      "100%|█████████████████████████████████████████████| 1/1 [00:00<00:00, 12.60it/s]\n"
     ]
    },
    {
     "name": "stdout",
     "output_type": "stream",
     "text": [
      "Query instance (original outcome : 1)\n",
      "['4-Cat', 24, '2-Cat', '2-Cat', 929, '5-Cat', '4-Cat', '4-Cat', '3-Cat', '1-Cat', '2-Cat', '3-Cat', 31, '2-Cat', '2-Cat', '1-Cat', '3-Cat', '2-Cat', '2-Cat', '2-Cat', 1]\n",
      "\n",
      "Diverse Counterfactual set (new outcome: 0.0)\n",
      "['4-Cat', 24, '2-Cat', '2-Cat', 929, '3-Cat', '2-Cat', '4-Cat', '3-Cat', '1-Cat', '2-Cat', '3-Cat', 31, '2-Cat', '2-Cat', '1-Cat', '3-Cat', '2-Cat', '2-Cat', '2-Cat', 0]\n",
      "['2-Cat', 24, '2-Cat', '2-Cat', 929, '3-Cat', '4-Cat', '4-Cat', '3-Cat', '1-Cat', '2-Cat', '3-Cat', 31, '2-Cat', '2-Cat', '1-Cat', '3-Cat', '2-Cat', '2-Cat', '2-Cat', 0]\n",
      "['4-Cat', 24, '2-Cat', '2-Cat', 15283.0, '5-Cat', '4-Cat', '4-Cat', '3-Cat', '1-Cat', '2-Cat', '3-Cat', 31, '2-Cat', '2-Cat', '1-Cat', '3-Cat', '2-Cat', '2-Cat', '2-Cat', 0]\n"
     ]
    },
    {
     "name": "stderr",
     "output_type": "stream",
     "text": [
      "100%|█████████████████████████████████████████████| 1/1 [00:00<00:00, 12.85it/s]\n"
     ]
    },
    {
     "name": "stdout",
     "output_type": "stream",
     "text": [
      "Query instance (original outcome : 1)\n",
      "['3-Cat', 12, '2-Cat', '3-Cat', 3399, '5-Cat', '5-Cat', '2-Cat', '3-Cat', '1-Cat', '3-Cat', '3-Cat', 37, '3-Cat', '2-Cat', '1-Cat', '4-Cat', '2-Cat', '1-Cat', '2-Cat', 1]\n",
      "\n",
      "Diverse Counterfactual set (new outcome: 0.0)\n",
      "['1-Cat', 66.0, '2-Cat', '3-Cat', 3399, '5-Cat', '5-Cat', '2-Cat', '3-Cat', '1-Cat', '3-Cat', '3-Cat', 37, '3-Cat', '2-Cat', '1-Cat', '4-Cat', '2-Cat', '1-Cat', '2-Cat', 0]\n",
      "['3-Cat', 63.0, '2-Cat', '3-Cat', 3399, '1-Cat', '5-Cat', '2-Cat', '3-Cat', '1-Cat', '3-Cat', '3-Cat', 37, '3-Cat', '2-Cat', '1-Cat', '4-Cat', '2-Cat', '1-Cat', '2-Cat', 0]\n",
      "['3-Cat', 56.0, '2-Cat', '3-Cat', 18095.0, '5-Cat', '5-Cat', '2-Cat', '3-Cat', '1-Cat', '3-Cat', '3-Cat', 37, '3-Cat', '2-Cat', '1-Cat', '4-Cat', '2-Cat', '1-Cat', '2-Cat', 0]\n"
     ]
    },
    {
     "name": "stderr",
     "output_type": "stream",
     "text": [
      "100%|█████████████████████████████████████████████| 1/1 [00:00<00:00, 12.22it/s]\n"
     ]
    },
    {
     "name": "stdout",
     "output_type": "stream",
     "text": [
      "Query instance (original outcome : 1)\n",
      "['4-Cat', 24, '4-Cat', '0-Cat', 2022, '1-Cat', '3-Cat', '4-Cat', '2-Cat', '1-Cat', '4-Cat', '3-Cat', 37, '3-Cat', '2-Cat', '1-Cat', '3-Cat', '2-Cat', '2-Cat', '2-Cat', 1]\n",
      "\n",
      "Diverse Counterfactual set (new outcome: 0.0)\n",
      "['4-Cat', 24, '4-Cat', '0-Cat', 8449.0, '1-Cat', '3-Cat', '4-Cat', '2-Cat', '1-Cat', '4-Cat', '3-Cat', 37, '3-Cat', '2-Cat', '1-Cat', '3-Cat', '2-Cat', '2-Cat', '2-Cat', 0]\n",
      "['4-Cat', 24, '4-Cat', '0-Cat', 2022, '1-Cat', '2-Cat', '4-Cat', '2-Cat', '1-Cat', '4-Cat', '3-Cat', 37, '2-Cat', '2-Cat', '1-Cat', '3-Cat', '2-Cat', '2-Cat', '2-Cat', 0]\n",
      "['4-Cat', 24, '0-Cat', '0-Cat', 2022, '1-Cat', '3-Cat', '4-Cat', '2-Cat', '1-Cat', '4-Cat', '3-Cat', 37, '3-Cat', '2-Cat', '3-Cat', '3-Cat', '2-Cat', '2-Cat', '2-Cat', 0]\n"
     ]
    },
    {
     "name": "stderr",
     "output_type": "stream",
     "text": [
      "100%|█████████████████████████████████████████████| 1/1 [00:00<00:00, 12.73it/s]\n"
     ]
    },
    {
     "name": "stdout",
     "output_type": "stream",
     "text": [
      "Query instance (original outcome : 1)\n",
      "['4-Cat', 24, '4-Cat', '1-Cat', 2346, '1-Cat', '4-Cat', '4-Cat', '3-Cat', '1-Cat', '3-Cat', '3-Cat', 35, '3-Cat', '2-Cat', '2-Cat', '3-Cat', '2-Cat', '2-Cat', '2-Cat', 1]\n",
      "\n",
      "Diverse Counterfactual set (new outcome: 0.0)\n",
      "['4-Cat', 24, '4-Cat', '1-Cat', 18402.0, '1-Cat', '4-Cat', '4-Cat', '3-Cat', '1-Cat', '3-Cat', '3-Cat', 35, '3-Cat', '2-Cat', '2-Cat', '3-Cat', '2-Cat', '2-Cat', '2-Cat', 0]\n",
      "['4-Cat', 24, '4-Cat', '1-Cat', 15628.0, '1-Cat', '4-Cat', '4-Cat', '3-Cat', '1-Cat', '3-Cat', '3-Cat', 35, '2-Cat', '2-Cat', '2-Cat', '3-Cat', '2-Cat', '2-Cat', '2-Cat', 0]\n",
      "['4-Cat', 24, '4-Cat', '1-Cat', 16979.0, '1-Cat', '4-Cat', '4-Cat', '3-Cat', '1-Cat', '3-Cat', '3-Cat', 35, '3-Cat', '2-Cat', '2-Cat', '2-Cat', '2-Cat', '2-Cat', '2-Cat', 0]\n"
     ]
    },
    {
     "name": "stderr",
     "output_type": "stream",
     "text": [
      "100%|█████████████████████████████████████████████| 1/1 [00:00<00:00, 14.80it/s]\n"
     ]
    },
    {
     "name": "stdout",
     "output_type": "stream",
     "text": [
      "Query instance (original outcome : 0)\n",
      "['1-Cat', 72, '4-Cat', '0-Cat', 1361, '1-Cat', '2-Cat', '2-Cat', '3-Cat', '1-Cat', '2-Cat', '1-Cat', 40, '3-Cat', '2-Cat', '1-Cat', '2-Cat', '1-Cat', '1-Cat', '1-Cat', 0]\n",
      "\n",
      "Diverse Counterfactual set (new outcome: 1.0)\n",
      "['1-Cat', 22.0, '4-Cat', '0-Cat', 1361, '1-Cat', '2-Cat', '2-Cat', '3-Cat', '1-Cat', '2-Cat', '1-Cat', 40, '3-Cat', '2-Cat', '1-Cat', '2-Cat', '1-Cat', '1-Cat', '1-Cat', 1]\n"
     ]
    },
    {
     "name": "stderr",
     "output_type": "stream",
     "text": [
      "100%|█████████████████████████████████████████████| 1/1 [00:00<00:00, 14.69it/s]\n"
     ]
    },
    {
     "name": "stdout",
     "output_type": "stream",
     "text": [
      "Query instance (original outcome : 0)\n",
      "['1-Cat', 67, '4-Cat', '0-Cat', 1361, '1-Cat', '2-Cat', '3-Cat', '3-Cat', '1-Cat', '4-Cat', '1-Cat', 40, '3-Cat', '2-Cat', '1-Cat', '2-Cat', '1-Cat', '1-Cat', '1-Cat', 0]\n",
      "\n",
      "Diverse Counterfactual set (new outcome: 1.0)\n",
      "['1-Cat', 49.0, '4-Cat', '0-Cat', 1361, '1-Cat', '1-Cat', '3-Cat', '3-Cat', '1-Cat', '4-Cat', '1-Cat', 40, '3-Cat', '2-Cat', '1-Cat', '2-Cat', '1-Cat', '1-Cat', '1-Cat', 1]\n"
     ]
    },
    {
     "name": "stderr",
     "output_type": "stream",
     "text": [
      "100%|█████████████████████████████████████████████| 1/1 [00:00<00:00, 13.92it/s]\n"
     ]
    },
    {
     "name": "stdout",
     "output_type": "stream",
     "text": [
      "Query instance (original outcome : 0)\n",
      "['1-Cat', 65, '4-Cat', '0-Cat', 1361, '1-Cat', '2-Cat', '4-Cat', '3-Cat', '1-Cat', '4-Cat', '1-Cat', 40, '3-Cat', '2-Cat', '1-Cat', '2-Cat', '1-Cat', '1-Cat', '1-Cat', 0]\n",
      "\n",
      "Diverse Counterfactual set (new outcome: 1.0)\n",
      "['1-Cat', 65, '3-Cat', '0-Cat', 1361, '1-Cat', '1-Cat', '4-Cat', '3-Cat', '1-Cat', '4-Cat', '1-Cat', 40, '3-Cat', '2-Cat', '1-Cat', '2-Cat', '1-Cat', '1-Cat', '1-Cat', 1]\n"
     ]
    },
    {
     "name": "stderr",
     "output_type": "stream",
     "text": [
      "100%|█████████████████████████████████████████████| 1/1 [00:00<00:00, 14.67it/s]\n"
     ]
    },
    {
     "name": "stdout",
     "output_type": "stream",
     "text": [
      "Query instance (original outcome : 1)\n",
      "['2-Cat', 24, '2-Cat', '3-Cat', 3758, '3-Cat', '1-Cat', '1-Cat', '2-Cat', '3-Cat', '4-Cat', '2-Cat', 23, '3-Cat', '1-Cat', '1-Cat', '1-Cat', '2-Cat', '1-Cat', '2-Cat', 1]\n",
      "\n",
      "Diverse Counterfactual set (new outcome: 0.0)\n",
      "['2-Cat', 24, '2-Cat', '3-Cat', 3758, '3-Cat', '1-Cat', '1-Cat', '2-Cat', '2-Cat', '3-Cat', '2-Cat', 23, '3-Cat', '1-Cat', '1-Cat', '1-Cat', '2-Cat', '1-Cat', '2-Cat', 0]\n"
     ]
    },
    {
     "name": "stderr",
     "output_type": "stream",
     "text": [
      "100%|█████████████████████████████████████████████| 1/1 [00:00<00:00, 15.20it/s]\n"
     ]
    },
    {
     "name": "stdout",
     "output_type": "stream",
     "text": [
      "Query instance (original outcome : 1)\n",
      "['2-Cat', 24, '2-Cat', '3-Cat', 3758, '3-Cat', '1-Cat', '1-Cat', '2-Cat', '3-Cat', '4-Cat', '4-Cat', 23, '3-Cat', '1-Cat', '1-Cat', '1-Cat', '2-Cat', '1-Cat', '2-Cat', 1]\n",
      "\n",
      "Diverse Counterfactual set (new outcome: 0.0)\n",
      "['2-Cat', 24, '2-Cat', '3-Cat', 8196.0, '3-Cat', '1-Cat', '1-Cat', '2-Cat', '3-Cat', '4-Cat', '4-Cat', 23, '3-Cat', '1-Cat', '1-Cat', '1-Cat', '2-Cat', '1-Cat', '2-Cat', 0]\n"
     ]
    },
    {
     "name": "stderr",
     "output_type": "stream",
     "text": [
      "100%|█████████████████████████████████████████████| 1/1 [00:00<00:00, 14.71it/s]\n"
     ]
    },
    {
     "name": "stdout",
     "output_type": "stream",
     "text": [
      "Query instance (original outcome : 1)\n",
      "['2-Cat', 24, '2-Cat', '3-Cat', 3758, '3-Cat', '1-Cat', '2-Cat', '2-Cat', '3-Cat', '4-Cat', '4-Cat', 23, '3-Cat', '1-Cat', '1-Cat', '1-Cat', '2-Cat', '1-Cat', '2-Cat', 1]\n",
      "\n",
      "Diverse Counterfactual set (new outcome: 0.0)\n",
      "['2-Cat', 24, '2-Cat', '3-Cat', 8236.0, '3-Cat', '1-Cat', '2-Cat', '2-Cat', '3-Cat', '4-Cat', '4-Cat', 23, '3-Cat', '1-Cat', '1-Cat', '1-Cat', '2-Cat', '1-Cat', '2-Cat', 0]\n"
     ]
    },
    {
     "name": "stderr",
     "output_type": "stream",
     "text": [
      "100%|█████████████████████████████████████████████| 1/1 [00:00<00:00, 15.05it/s]\n"
     ]
    },
    {
     "name": "stdout",
     "output_type": "stream",
     "text": [
      "Query instance (original outcome : 1)\n",
      "['1-Cat', 30, '4-Cat', '1-Cat', 6187, '2-Cat', '4-Cat', '1-Cat', '4-Cat', '1-Cat', '4-Cat', '1-Cat', 24, '3-Cat', '1-Cat', '2-Cat', '1-Cat', '2-Cat', '1-Cat', '2-Cat', 1]\n",
      "\n",
      "Diverse Counterfactual set (new outcome: 0.0)\n",
      "['1-Cat', 30, '4-Cat', '1-Cat', 17301.0, '2-Cat', '4-Cat', '1-Cat', '4-Cat', '1-Cat', '4-Cat', '1-Cat', 24, '3-Cat', '1-Cat', '2-Cat', '1-Cat', '2-Cat', '1-Cat', '2-Cat', 0]\n"
     ]
    },
    {
     "name": "stderr",
     "output_type": "stream",
     "text": [
      "100%|█████████████████████████████████████████████| 1/1 [00:00<00:00, 15.19it/s]\n"
     ]
    },
    {
     "name": "stdout",
     "output_type": "stream",
     "text": [
      "Query instance (original outcome : 1)\n",
      "['1-Cat', 30, '4-Cat', '1-Cat', 6187, '2-Cat', '4-Cat', '1-Cat', '4-Cat', '1-Cat', '1-Cat', '1-Cat', 24, '3-Cat', '1-Cat', '2-Cat', '3-Cat', '2-Cat', '1-Cat', '2-Cat', 1]\n",
      "\n",
      "Diverse Counterfactual set (new outcome: 0.0)\n",
      "['1-Cat', 30, '4-Cat', '1-Cat', 6187, '2-Cat', '3-Cat', '1-Cat', '4-Cat', '1-Cat', '1-Cat', '1-Cat', 24, '3-Cat', '1-Cat', '2-Cat', '2-Cat', '2-Cat', '1-Cat', '2-Cat', 0]\n"
     ]
    },
    {
     "name": "stderr",
     "output_type": "stream",
     "text": [
      "100%|█████████████████████████████████████████████| 1/1 [00:00<00:00, 15.11it/s]\n"
     ]
    },
    {
     "name": "stdout",
     "output_type": "stream",
     "text": [
      "Query instance (original outcome : 1)\n",
      "['1-Cat', 30, '4-Cat', '1-Cat', 6187, '2-Cat', '4-Cat', '1-Cat', '4-Cat', '3-Cat', '4-Cat', '3-Cat', 24, '3-Cat', '1-Cat', '2-Cat', '2-Cat', '2-Cat', '1-Cat', '2-Cat', 1]\n",
      "\n",
      "Diverse Counterfactual set (new outcome: 0.0)\n",
      "['1-Cat', 44.0, '4-Cat', '1-Cat', 6187, '2-Cat', '4-Cat', '1-Cat', '4-Cat', '3-Cat', '4-Cat', '3-Cat', 24, '3-Cat', '1-Cat', '3-Cat', '2-Cat', '2-Cat', '1-Cat', '2-Cat', 0]\n"
     ]
    },
    {
     "name": "stderr",
     "output_type": "stream",
     "text": [
      "100%|█████████████████████████████████████████████| 1/1 [00:00<00:00, 14.85it/s]\n"
     ]
    },
    {
     "name": "stdout",
     "output_type": "stream",
     "text": [
      "Query instance (original outcome : 0)\n",
      "['2-Cat', 36, '4-Cat', '3-Cat', 13504, '1-Cat', '5-Cat', '4-Cat', '3-Cat', '1-Cat', '4-Cat', '1-Cat', 36, '3-Cat', '2-Cat', '4-Cat', '3-Cat', '2-Cat', '1-Cat', '2-Cat', 0]\n",
      "\n",
      "Diverse Counterfactual set (new outcome: 1.0)\n",
      "['2-Cat', 36, '4-Cat', '3-Cat', 3554.0, '1-Cat', '5-Cat', '4-Cat', '3-Cat', '1-Cat', '4-Cat', '1-Cat', 36, '3-Cat', '2-Cat', '4-Cat', '3-Cat', '2-Cat', '1-Cat', '2-Cat', 1]\n"
     ]
    },
    {
     "name": "stderr",
     "output_type": "stream",
     "text": [
      "100%|█████████████████████████████████████████████| 1/1 [00:00<00:00, 15.60it/s]\n"
     ]
    },
    {
     "name": "stdout",
     "output_type": "stream",
     "text": [
      "Query instance (original outcome : 0)\n",
      "['2-Cat', 36, '4-Cat', '3-Cat', 15003, '1-Cat', '5-Cat', '4-Cat', '3-Cat', '1-Cat', '4-Cat', '1-Cat', 36, '1-Cat', '2-Cat', '1-Cat', '3-Cat', '2-Cat', '1-Cat', '2-Cat', 0]\n",
      "\n",
      "Diverse Counterfactual set (new outcome: 1.0)\n",
      "['2-Cat', 36, '4-Cat', '3-Cat', 3190.0, '1-Cat', '4-Cat', '4-Cat', '3-Cat', '1-Cat', '4-Cat', '1-Cat', 36, '1-Cat', '2-Cat', '1-Cat', '3-Cat', '2-Cat', '1-Cat', '2-Cat', 1]\n"
     ]
    },
    {
     "name": "stderr",
     "output_type": "stream",
     "text": [
      "100%|█████████████████████████████████████████████| 1/1 [00:00<00:00, 15.28it/s]\n"
     ]
    },
    {
     "name": "stdout",
     "output_type": "stream",
     "text": [
      "Query instance (original outcome : 0)\n",
      "['2-Cat', 60, '4-Cat', '3-Cat', 2337, '1-Cat', '5-Cat', '4-Cat', '3-Cat', '1-Cat', '4-Cat', '1-Cat', 36, '3-Cat', '2-Cat', '3-Cat', '3-Cat', '2-Cat', '1-Cat', '2-Cat', 0]\n",
      "\n",
      "Diverse Counterfactual set (new outcome: 1.0)\n",
      "['2-Cat', 42.0, '4-Cat', '3-Cat', 2337, '1-Cat', '3-Cat', '4-Cat', '3-Cat', '1-Cat', '4-Cat', '1-Cat', 36, '3-Cat', '2-Cat', '3-Cat', '3-Cat', '2-Cat', '1-Cat', '2-Cat', 1]\n"
     ]
    },
    {
     "name": "stderr",
     "output_type": "stream",
     "text": [
      "100%|█████████████████████████████████████████████| 1/1 [00:00<00:00, 15.34it/s]\n"
     ]
    },
    {
     "name": "stdout",
     "output_type": "stream",
     "text": [
      "Query instance (original outcome : 0)\n",
      "['2-Cat', 12, '4-Cat', '4-Cat', 14685, '1-Cat', '4-Cat', '4-Cat', '3-Cat', '1-Cat', '3-Cat', '2-Cat', 26, '3-Cat', '2-Cat', '1-Cat', '3-Cat', '1-Cat', '1-Cat', '2-Cat', 0]\n",
      "\n",
      "Diverse Counterfactual set (new outcome: 1.0)\n",
      "['2-Cat', 12, '4-Cat', '4-Cat', 3102.0, '1-Cat', '4-Cat', '4-Cat', '3-Cat', '1-Cat', '3-Cat', '2-Cat', 26, '3-Cat', '2-Cat', '1-Cat', '3-Cat', '1-Cat', '1-Cat', '2-Cat', 1]\n"
     ]
    },
    {
     "name": "stderr",
     "output_type": "stream",
     "text": [
      "100%|█████████████████████████████████████████████| 1/1 [00:00<00:00, 14.82it/s]\n"
     ]
    },
    {
     "name": "stdout",
     "output_type": "stream",
     "text": [
      "Query instance (original outcome : 0)\n",
      "['2-Cat', 28, '4-Cat', '4-Cat', 1424, '1-Cat', '4-Cat', '4-Cat', '3-Cat', '1-Cat', '3-Cat', '2-Cat', 26, '2-Cat', '2-Cat', '1-Cat', '3-Cat', '2-Cat', '1-Cat', '2-Cat', 0]\n",
      "\n",
      "Diverse Counterfactual set (new outcome: 1.0)\n",
      "['2-Cat', 14.0, '4-Cat', '4-Cat', 1424, '1-Cat', '4-Cat', '4-Cat', '3-Cat', '1-Cat', '3-Cat', '2-Cat', 26, '2-Cat', '2-Cat', '1-Cat', '3-Cat', '2-Cat', '1-Cat', '2-Cat', 1]\n"
     ]
    },
    {
     "name": "stderr",
     "output_type": "stream",
     "text": [
      "100%|█████████████████████████████████████████████| 1/1 [00:00<00:00, 15.25it/s]\n"
     ]
    },
    {
     "name": "stdout",
     "output_type": "stream",
     "text": [
      "Query instance (original outcome : 0)\n",
      "['1-Cat', 51, '4-Cat', '4-Cat', 1424, '1-Cat', '4-Cat', '4-Cat', '3-Cat', '1-Cat', '3-Cat', '2-Cat', 26, '3-Cat', '2-Cat', '1-Cat', '3-Cat', '2-Cat', '1-Cat', '2-Cat', 0]\n",
      "\n",
      "Diverse Counterfactual set (new outcome: 1.0)\n",
      "['1-Cat', 16.0, '4-Cat', '4-Cat', 1424, '1-Cat', '4-Cat', '4-Cat', '3-Cat', '1-Cat', '3-Cat', '2-Cat', 26, '3-Cat', '2-Cat', '1-Cat', '3-Cat', '2-Cat', '1-Cat', '2-Cat', 1]\n"
     ]
    },
    {
     "name": "stderr",
     "output_type": "stream",
     "text": [
      "100%|█████████████████████████████████████████████| 1/1 [00:00<00:00, 15.51it/s]\n"
     ]
    },
    {
     "name": "stdout",
     "output_type": "stream",
     "text": [
      "Query instance (original outcome : 0)\n",
      "['2-Cat', 30, '4-Cat', '3-Cat', 17500, '1-Cat', '5-Cat', '4-Cat', '3-Cat', '1-Cat', '4-Cat', '2-Cat', 47, '3-Cat', '2-Cat', '1-Cat', '3-Cat', '2-Cat', '1-Cat', '2-Cat', 0]\n",
      "\n",
      "Diverse Counterfactual set (new outcome: 1.0)\n",
      "['2-Cat', 30, '4-Cat', '3-Cat', 4831.0, '1-Cat', '5-Cat', '4-Cat', '3-Cat', '1-Cat', '4-Cat', '2-Cat', 47, '3-Cat', '2-Cat', '1-Cat', '3-Cat', '2-Cat', '1-Cat', '2-Cat', 1]\n"
     ]
    },
    {
     "name": "stderr",
     "output_type": "stream",
     "text": [
      "100%|█████████████████████████████████████████████| 1/1 [00:00<00:00, 15.46it/s]\n"
     ]
    },
    {
     "name": "stdout",
     "output_type": "stream",
     "text": [
      "Query instance (original outcome : 0)\n",
      "['3-Cat', 70, '4-Cat', '3-Cat', 3017, '1-Cat', '2-Cat', '4-Cat', '3-Cat', '1-Cat', '4-Cat', '2-Cat', 47, '3-Cat', '2-Cat', '1-Cat', '3-Cat', '2-Cat', '1-Cat', '2-Cat', 0]\n",
      "\n",
      "Diverse Counterfactual set (new outcome: 1.0)\n",
      "['3-Cat', 36.0, '4-Cat', '3-Cat', 3017, '1-Cat', '2-Cat', '4-Cat', '3-Cat', '1-Cat', '4-Cat', '1-Cat', 47, '3-Cat', '2-Cat', '1-Cat', '3-Cat', '2-Cat', '1-Cat', '2-Cat', 1]\n"
     ]
    },
    {
     "name": "stderr",
     "output_type": "stream",
     "text": [
      "100%|█████████████████████████████████████████████| 1/1 [00:00<00:00, 15.13it/s]\n"
     ]
    },
    {
     "name": "stdout",
     "output_type": "stream",
     "text": [
      "Query instance (original outcome : 0)\n",
      "['3-Cat', 48, '4-Cat', '3-Cat', 3017, '1-Cat', '5-Cat', '4-Cat', '3-Cat', '1-Cat', '4-Cat', '2-Cat', 47, '3-Cat', '2-Cat', '4-Cat', '3-Cat', '2-Cat', '1-Cat', '2-Cat', 0]\n",
      "\n",
      "Diverse Counterfactual set (new outcome: 1.0)\n",
      "['3-Cat', 48, '4-Cat', '3-Cat', 3017, '1-Cat', '3-Cat', '4-Cat', '3-Cat', '1-Cat', '1-Cat', '2-Cat', 47, '3-Cat', '2-Cat', '4-Cat', '3-Cat', '2-Cat', '1-Cat', '2-Cat', 1]\n"
     ]
    },
    {
     "name": "stderr",
     "output_type": "stream",
     "text": [
      "100%|█████████████████████████████████████████████| 1/1 [00:00<00:00, 15.44it/s]\n"
     ]
    },
    {
     "name": "stdout",
     "output_type": "stream",
     "text": [
      "Query instance (original outcome : 0)\n",
      "['3-Cat', 36, '4-Cat', '0-Cat', 3535, '1-Cat', '4-Cat', '4-Cat', '3-Cat', '1-Cat', '4-Cat', '3-Cat', 37, '1-Cat', '2-Cat', '2-Cat', '3-Cat', '2-Cat', '2-Cat', '2-Cat', 0]\n",
      "\n",
      "Diverse Counterfactual set (new outcome: 1.0)\n",
      "['4-Cat', 36, '4-Cat', '0-Cat', 3535, '1-Cat', '4-Cat', '4-Cat', '3-Cat', '1-Cat', '4-Cat', '3-Cat', 37, '3-Cat', '2-Cat', '2-Cat', '3-Cat', '2-Cat', '2-Cat', '2-Cat', 1]\n"
     ]
    },
    {
     "name": "stderr",
     "output_type": "stream",
     "text": [
      "100%|█████████████████████████████████████████████| 1/1 [00:00<00:00, 15.42it/s]\n"
     ]
    },
    {
     "name": "stdout",
     "output_type": "stream",
     "text": [
      "Query instance (original outcome : 0)\n",
      "['4-Cat', 36, '4-Cat', '0-Cat', 14173, '1-Cat', '4-Cat', '4-Cat', '3-Cat', '1-Cat', '4-Cat', '3-Cat', 37, '3-Cat', '2-Cat', '2-Cat', '3-Cat', '1-Cat', '2-Cat', '2-Cat', 0]\n",
      "\n",
      "Diverse Counterfactual set (new outcome: 1.0)\n",
      "['4-Cat', 52.0, '4-Cat', '0-Cat', 5243.0, '1-Cat', '4-Cat', '4-Cat', '3-Cat', '1-Cat', '4-Cat', '3-Cat', 37, '3-Cat', '2-Cat', '2-Cat', '3-Cat', '1-Cat', '2-Cat', '2-Cat', 1]\n"
     ]
    },
    {
     "name": "stderr",
     "output_type": "stream",
     "text": [
      "100%|█████████████████████████████████████████████| 1/1 [00:00<00:00, 15.48it/s]\n"
     ]
    },
    {
     "name": "stdout",
     "output_type": "stream",
     "text": [
      "Query instance (original outcome : 0)\n",
      "['4-Cat', 36, '4-Cat', '0-Cat', 3535, '1-Cat', '4-Cat', '4-Cat', '3-Cat', '1-Cat', '3-Cat', '3-Cat', 37, '1-Cat', '2-Cat', '2-Cat', '3-Cat', '2-Cat', '2-Cat', '2-Cat', 0]\n",
      "\n",
      "Diverse Counterfactual set (new outcome: 1.0)\n",
      "['4-Cat', 36, '4-Cat', '0-Cat', 3535, '1-Cat', '4-Cat', '4-Cat', '3-Cat', '3-Cat', '4-Cat', '3-Cat', 37, '1-Cat', '2-Cat', '2-Cat', '3-Cat', '2-Cat', '2-Cat', '2-Cat', 1]\n"
     ]
    },
    {
     "name": "stderr",
     "output_type": "stream",
     "text": [
      "100%|█████████████████████████████████████████████| 1/1 [00:00<00:00, 15.00it/s]\n"
     ]
    },
    {
     "name": "stdout",
     "output_type": "stream",
     "text": [
      "Query instance (original outcome : 0)\n",
      "['2-Cat', 36, '4-Cat', '0-Cat', 6614, '1-Cat', '5-Cat', '4-Cat', '3-Cat', '1-Cat', '4-Cat', '3-Cat', 34, '3-Cat', '2-Cat', '2-Cat', '4-Cat', '2-Cat', '2-Cat', '2-Cat', 0]\n",
      "\n",
      "Diverse Counterfactual set (new outcome: 1.0)\n",
      "['2-Cat', 36, '4-Cat', '0-Cat', 6614, '1-Cat', '3-Cat', '4-Cat', '3-Cat', '1-Cat', '4-Cat', '1-Cat', 34, '3-Cat', '2-Cat', '2-Cat', '4-Cat', '2-Cat', '2-Cat', '2-Cat', 1]\n"
     ]
    },
    {
     "name": "stderr",
     "output_type": "stream",
     "text": [
      "100%|█████████████████████████████████████████████| 1/1 [00:00<00:00, 15.09it/s]\n"
     ]
    },
    {
     "name": "stdout",
     "output_type": "stream",
     "text": [
      "Query instance (original outcome : 0)\n",
      "['4-Cat', 36, '4-Cat', '0-Cat', 14323, '1-Cat', '5-Cat', '4-Cat', '3-Cat', '1-Cat', '4-Cat', '3-Cat', 34, '3-Cat', '2-Cat', '2-Cat', '4-Cat', '2-Cat', '2-Cat', '2-Cat', 0]\n",
      "\n",
      "Diverse Counterfactual set (new outcome: 1.0)\n",
      "['4-Cat', 36, '4-Cat', '0-Cat', 9696.0, '1-Cat', '5-Cat', '4-Cat', '3-Cat', '1-Cat', '4-Cat', '3-Cat', 34, '3-Cat', '2-Cat', '3-Cat', '4-Cat', '2-Cat', '2-Cat', '2-Cat', 1]\n"
     ]
    },
    {
     "name": "stderr",
     "output_type": "stream",
     "text": [
      "100%|█████████████████████████████████████████████| 1/1 [00:00<00:00, 15.03it/s]\n"
     ]
    },
    {
     "name": "stdout",
     "output_type": "stream",
     "text": [
      "Query instance (original outcome : 0)\n",
      "['4-Cat', 36, '1-Cat', '0-Cat', 11492, '1-Cat', '5-Cat', '4-Cat', '3-Cat', '1-Cat', '4-Cat', '3-Cat', 34, '3-Cat', '2-Cat', '2-Cat', '4-Cat', '2-Cat', '2-Cat', '2-Cat', 0]\n",
      "\n",
      "Diverse Counterfactual set (new outcome: 1.0)\n",
      "['4-Cat', 36, '4-Cat', '0-Cat', 11492, '1-Cat', '5-Cat', '4-Cat', '3-Cat', '3-Cat', '4-Cat', '3-Cat', 34, '3-Cat', '2-Cat', '2-Cat', '4-Cat', '2-Cat', '2-Cat', '2-Cat', 1]\n"
     ]
    },
    {
     "name": "stderr",
     "output_type": "stream",
     "text": [
      "100%|█████████████████████████████████████████████| 1/1 [00:00<00:00, 15.32it/s]\n"
     ]
    },
    {
     "name": "stdout",
     "output_type": "stream",
     "text": [
      "Query instance (original outcome : 0)\n",
      "['4-Cat', 48, '2-Cat', '3-Cat', 1376, '3-Cat', '4-Cat', '4-Cat', '2-Cat', '1-Cat', '1-Cat', '3-Cat', 28, '2-Cat', '2-Cat', '1-Cat', '3-Cat', '2-Cat', '1-Cat', '2-Cat', 0]\n",
      "\n",
      "Diverse Counterfactual set (new outcome: 1.0)\n",
      "['4-Cat', 48, '2-Cat', '3-Cat', 1376, '3-Cat', '4-Cat', '4-Cat', '2-Cat', '3-Cat', '1-Cat', '3-Cat', 28, '2-Cat', '2-Cat', '1-Cat', '3-Cat', '1-Cat', '1-Cat', '2-Cat', 1]\n"
     ]
    },
    {
     "name": "stderr",
     "output_type": "stream",
     "text": [
      "100%|█████████████████████████████████████████████| 1/1 [00:00<00:00, 15.35it/s]\n"
     ]
    },
    {
     "name": "stdout",
     "output_type": "stream",
     "text": [
      "Query instance (original outcome : 0)\n",
      "['4-Cat', 69, '2-Cat', '3-Cat', 1376, '3-Cat', '4-Cat', '4-Cat', '2-Cat', '1-Cat', '1-Cat', '3-Cat', 28, '3-Cat', '2-Cat', '1-Cat', '3-Cat', '2-Cat', '1-Cat', '2-Cat', 0]\n",
      "\n",
      "Diverse Counterfactual set (new outcome: 1.0)\n",
      "['4-Cat', 44.0, '2-Cat', '3-Cat', 1376, '3-Cat', '4-Cat', '4-Cat', '2-Cat', '1-Cat', '1-Cat', '3-Cat', 28, '3-Cat', '2-Cat', '2-Cat', '3-Cat', '2-Cat', '1-Cat', '2-Cat', 1]\n"
     ]
    },
    {
     "name": "stderr",
     "output_type": "stream",
     "text": [
      "100%|█████████████████████████████████████████████| 1/1 [00:00<00:00, 15.38it/s]\n"
     ]
    },
    {
     "name": "stdout",
     "output_type": "stream",
     "text": [
      "Query instance (original outcome : 0)\n",
      "['4-Cat', 64, '0-Cat', '3-Cat', 1376, '3-Cat', '4-Cat', '4-Cat', '2-Cat', '1-Cat', '1-Cat', '3-Cat', 28, '3-Cat', '2-Cat', '1-Cat', '3-Cat', '2-Cat', '1-Cat', '2-Cat', 0]\n",
      "\n",
      "Diverse Counterfactual set (new outcome: 1.0)\n",
      "['4-Cat', 37.0, '0-Cat', '3-Cat', 1376, '3-Cat', '4-Cat', '4-Cat', '2-Cat', '1-Cat', '1-Cat', '3-Cat', 28, '3-Cat', '2-Cat', '1-Cat', '3-Cat', '2-Cat', '1-Cat', '2-Cat', 1]\n"
     ]
    },
    {
     "name": "stderr",
     "output_type": "stream",
     "text": [
      "100%|█████████████████████████████████████████████| 1/1 [00:00<00:00, 15.21it/s]\n"
     ]
    },
    {
     "name": "stdout",
     "output_type": "stream",
     "text": [
      "Query instance (original outcome : 1)\n",
      "['1-Cat', 15, '2-Cat', '0-Cat', 1721, '1-Cat', '2-Cat', '2-Cat', '3-Cat', '1-Cat', '1-Cat', '1-Cat', 36, '3-Cat', '2-Cat', '1-Cat', '3-Cat', '1-Cat', '1-Cat', '2-Cat', 1]\n",
      "\n",
      "Diverse Counterfactual set (new outcome: 0.0)\n",
      "['1-Cat', 15, '2-Cat', '0-Cat', 1721, '1-Cat', '2-Cat', '2-Cat', '3-Cat', '1-Cat', '1-Cat', '1-Cat', 36, '3-Cat', '2-Cat', '1-Cat', '3-Cat', '2-Cat', '1-Cat', '2-Cat', 0]\n"
     ]
    },
    {
     "name": "stderr",
     "output_type": "stream",
     "text": [
      "100%|█████████████████████████████████████████████| 1/1 [00:00<00:00, 14.86it/s]\n"
     ]
    },
    {
     "name": "stdout",
     "output_type": "stream",
     "text": [
      "Query instance (original outcome : 1)\n",
      "['1-Cat', 15, '2-Cat', '0-Cat', 1721, '1-Cat', '1-Cat', '2-Cat', '3-Cat', '1-Cat', '3-Cat', '1-Cat', 36, '3-Cat', '2-Cat', '1-Cat', '3-Cat', '1-Cat', '1-Cat', '2-Cat', 1]\n",
      "\n",
      "Diverse Counterfactual set (new outcome: 0.0)\n",
      "['1-Cat', 15, '2-Cat', '0-Cat', 11692.0, '1-Cat', '1-Cat', '2-Cat', '3-Cat', '2-Cat', '3-Cat', '1-Cat', 36, '3-Cat', '2-Cat', '1-Cat', '3-Cat', '1-Cat', '1-Cat', '2-Cat', 0]\n"
     ]
    },
    {
     "name": "stderr",
     "output_type": "stream",
     "text": [
      "100%|█████████████████████████████████████████████| 1/1 [00:00<00:00, 15.33it/s]\n"
     ]
    },
    {
     "name": "stdout",
     "output_type": "stream",
     "text": [
      "Query instance (original outcome : 1)\n",
      "['1-Cat', 15, '2-Cat', '0-Cat', 1721, '1-Cat', '2-Cat', '2-Cat', '3-Cat', '3-Cat', '3-Cat', '1-Cat', 36, '3-Cat', '2-Cat', '1-Cat', '3-Cat', '1-Cat', '1-Cat', '2-Cat', 1]\n",
      "\n",
      "Diverse Counterfactual set (new outcome: 0.0)\n",
      "['1-Cat', 15, '2-Cat', '0-Cat', 1721, '1-Cat', '2-Cat', '2-Cat', '3-Cat', '3-Cat', '3-Cat', '1-Cat', 36, '3-Cat', '2-Cat', '4-Cat', '3-Cat', '2-Cat', '1-Cat', '2-Cat', 0]\n"
     ]
    },
    {
     "name": "stderr",
     "output_type": "stream",
     "text": [
      "100%|█████████████████████████████████████████████| 1/1 [00:00<00:00, 15.54it/s]\n"
     ]
    },
    {
     "name": "stdout",
     "output_type": "stream",
     "text": [
      "Query instance (original outcome : 0)\n",
      "['1-Cat', 12, '4-Cat', '3-Cat', 1934, '1-Cat', '5-Cat', '2-Cat', '3-Cat', '1-Cat', '2-Cat', '4-Cat', 26, '2-Cat', '2-Cat', '2-Cat', '3-Cat', '2-Cat', '1-Cat', '2-Cat', 0]\n",
      "\n",
      "Diverse Counterfactual set (new outcome: 1.0)\n",
      "['1-Cat', 12, '4-Cat', '3-Cat', 1934, '1-Cat', '5-Cat', '2-Cat', '3-Cat', '3-Cat', '2-Cat', '4-Cat', 26, '2-Cat', '2-Cat', '2-Cat', '3-Cat', '1-Cat', '1-Cat', '2-Cat', 1]\n"
     ]
    },
    {
     "name": "stderr",
     "output_type": "stream",
     "text": [
      "100%|█████████████████████████████████████████████| 1/1 [00:00<00:00, 14.90it/s]\n"
     ]
    },
    {
     "name": "stdout",
     "output_type": "stream",
     "text": [
      "Query instance (original outcome : 0)\n",
      "['1-Cat', 12, '4-Cat', '3-Cat', 14525, '1-Cat', '5-Cat', '2-Cat', '3-Cat', '1-Cat', '2-Cat', '4-Cat', 26, '3-Cat', '2-Cat', '2-Cat', '3-Cat', '2-Cat', '1-Cat', '2-Cat', 0]\n",
      "\n",
      "Diverse Counterfactual set (new outcome: 1.0)\n",
      "['4-Cat', 12, '4-Cat', '3-Cat', 14525, '1-Cat', '5-Cat', '2-Cat', '3-Cat', '1-Cat', '2-Cat', '4-Cat', 26, '3-Cat', '2-Cat', '2-Cat', '1-Cat', '2-Cat', '1-Cat', '2-Cat', 1]\n"
     ]
    },
    {
     "name": "stderr",
     "output_type": "stream",
     "text": [
      "100%|█████████████████████████████████████████████| 1/1 [00:00<00:00, 15.03it/s]\n"
     ]
    },
    {
     "name": "stdout",
     "output_type": "stream",
     "text": [
      "Query instance (original outcome : 0)\n",
      "['4-Cat', 69, '4-Cat', '3-Cat', 1934, '1-Cat', '5-Cat', '2-Cat', '3-Cat', '1-Cat', '2-Cat', '4-Cat', 26, '3-Cat', '2-Cat', '2-Cat', '3-Cat', '2-Cat', '1-Cat', '2-Cat', 0]\n",
      "\n",
      "Diverse Counterfactual set (new outcome: 1.0)\n",
      "['4-Cat', 69, '4-Cat', '3-Cat', 1934, '1-Cat', '3-Cat', '2-Cat', '3-Cat', '3-Cat', '2-Cat', '4-Cat', 26, '3-Cat', '2-Cat', '2-Cat', '3-Cat', '2-Cat', '1-Cat', '2-Cat', 1]\n"
     ]
    },
    {
     "name": "stderr",
     "output_type": "stream",
     "text": [
      "100%|█████████████████████████████████████████████| 1/1 [00:00<00:00, 15.27it/s]\n"
     ]
    },
    {
     "name": "stdout",
     "output_type": "stream",
     "text": [
      "Query instance (original outcome : 1)\n",
      "['4-Cat', 24, '4-Cat', '1-Cat', 3868, '1-Cat', '3-Cat', '4-Cat', '2-Cat', '1-Cat', '2-Cat', '3-Cat', 41, '3-Cat', '1-Cat', '2-Cat', '1-Cat', '2-Cat', '2-Cat', '2-Cat', 1]\n",
      "\n",
      "Diverse Counterfactual set (new outcome: 0.0)\n",
      "['4-Cat', 24, '0-Cat', '1-Cat', 3868, '1-Cat', '5-Cat', '4-Cat', '2-Cat', '1-Cat', '2-Cat', '3-Cat', 41, '3-Cat', '1-Cat', '2-Cat', '1-Cat', '2-Cat', '2-Cat', '2-Cat', 0]\n"
     ]
    },
    {
     "name": "stderr",
     "output_type": "stream",
     "text": [
      "100%|█████████████████████████████████████████████| 1/1 [00:00<00:00, 14.47it/s]\n"
     ]
    },
    {
     "name": "stdout",
     "output_type": "stream",
     "text": [
      "Query instance (original outcome : 1)\n",
      "['4-Cat', 34, '3-Cat', '1-Cat', 3868, '1-Cat', '5-Cat', '4-Cat', '2-Cat', '1-Cat', '2-Cat', '3-Cat', 41, '3-Cat', '1-Cat', '2-Cat', '4-Cat', '2-Cat', '2-Cat', '2-Cat', 1]\n",
      "\n",
      "Diverse Counterfactual set (new outcome: 0.0)\n",
      "['4-Cat', 61.0, '1-Cat', '1-Cat', 3868, '1-Cat', '5-Cat', '4-Cat', '2-Cat', '1-Cat', '2-Cat', '3-Cat', 41, '3-Cat', '1-Cat', '2-Cat', '4-Cat', '2-Cat', '2-Cat', '2-Cat', 0]\n"
     ]
    },
    {
     "name": "stderr",
     "output_type": "stream",
     "text": [
      "100%|█████████████████████████████████████████████| 1/1 [00:00<00:00, 15.24it/s]\n"
     ]
    },
    {
     "name": "stdout",
     "output_type": "stream",
     "text": [
      "Query instance (original outcome : 1)\n",
      "['4-Cat', 24, '4-Cat', '1-Cat', 5221, '1-Cat', '5-Cat', '4-Cat', '2-Cat', '3-Cat', '2-Cat', '3-Cat', 41, '3-Cat', '1-Cat', '2-Cat', '4-Cat', '2-Cat', '2-Cat', '2-Cat', 1]\n",
      "\n",
      "Diverse Counterfactual set (new outcome: 0.0)\n",
      "['4-Cat', 57.0, '4-Cat', '1-Cat', 5221, '1-Cat', '4-Cat', '4-Cat', '2-Cat', '3-Cat', '2-Cat', '3-Cat', 41, '3-Cat', '1-Cat', '2-Cat', '4-Cat', '2-Cat', '2-Cat', '2-Cat', 0]\n"
     ]
    },
    {
     "name": "stderr",
     "output_type": "stream",
     "text": [
      "100%|█████████████████████████████████████████████| 1/1 [00:00<00:00, 14.73it/s]\n"
     ]
    },
    {
     "name": "stdout",
     "output_type": "stream",
     "text": [
      "Query instance (original outcome : 1)\n",
      "['1-Cat', 24, '1-Cat', '10-Cat', 1755, '1-Cat', '4-Cat', '4-Cat', '2-Cat', '3-Cat', '4-Cat', '1-Cat', 58, '3-Cat', '2-Cat', '1-Cat', '2-Cat', '2-Cat', '2-Cat', '2-Cat', 1]\n",
      "\n",
      "Diverse Counterfactual set (new outcome: 0.0)\n",
      "['1-Cat', 24, '1-Cat', '10-Cat', 6746.0, '1-Cat', '4-Cat', '4-Cat', '2-Cat', '3-Cat', '4-Cat', '1-Cat', 58, '3-Cat', '2-Cat', '1-Cat', '2-Cat', '2-Cat', '2-Cat', '2-Cat', 0]\n"
     ]
    },
    {
     "name": "stderr",
     "output_type": "stream",
     "text": [
      "100%|█████████████████████████████████████████████| 1/1 [00:00<00:00, 14.74it/s]\n"
     ]
    },
    {
     "name": "stdout",
     "output_type": "stream",
     "text": [
      "Query instance (original outcome : 1)\n",
      "['1-Cat', 24, '2-Cat', '10-Cat', 1755, '1-Cat', '5-Cat', '4-Cat', '2-Cat', '3-Cat', '4-Cat', '1-Cat', 58, '3-Cat', '2-Cat', '1-Cat', '1-Cat', '2-Cat', '2-Cat', '2-Cat', 1]\n",
      "\n",
      "Diverse Counterfactual set (new outcome: 0.0)\n",
      "['1-Cat', 24, '2-Cat', '10-Cat', 11806.0, '1-Cat', '5-Cat', '4-Cat', '2-Cat', '3-Cat', '4-Cat', '1-Cat', 58, '3-Cat', '2-Cat', '1-Cat', '1-Cat', '2-Cat', '2-Cat', '2-Cat', 0]\n"
     ]
    },
    {
     "name": "stderr",
     "output_type": "stream",
     "text": [
      "100%|█████████████████████████████████████████████| 1/1 [00:00<00:00, 14.91it/s]\n"
     ]
    },
    {
     "name": "stdout",
     "output_type": "stream",
     "text": [
      "Query instance (original outcome : 1)\n",
      "['1-Cat', 24, '2-Cat', '10-Cat', 1755, '1-Cat', '3-Cat', '4-Cat', '2-Cat', '3-Cat', '4-Cat', '1-Cat', 58, '3-Cat', '2-Cat', '2-Cat', '2-Cat', '2-Cat', '2-Cat', '2-Cat', 1]\n",
      "\n",
      "Diverse Counterfactual set (new outcome: 0.0)\n",
      "['1-Cat', 24, '2-Cat', '10-Cat', 17555.0, '1-Cat', '3-Cat', '4-Cat', '2-Cat', '3-Cat', '4-Cat', '1-Cat', 58, '3-Cat', '2-Cat', '2-Cat', '2-Cat', '2-Cat', '2-Cat', '2-Cat', 0]\n"
     ]
    },
    {
     "name": "stderr",
     "output_type": "stream",
     "text": [
      "100%|█████████████████████████████████████████████| 1/1 [00:00<00:00, 15.32it/s]\n"
     ]
    },
    {
     "name": "stdout",
     "output_type": "stream",
     "text": [
      "Query instance (original outcome : 0)\n",
      "['2-Cat', 24, '4-Cat', '9-Cat', 14960, '5-Cat', '4-Cat', '4-Cat', '3-Cat', '1-Cat', '3-Cat', '4-Cat', 34, '3-Cat', '1-Cat', '2-Cat', '3-Cat', '1-Cat', '2-Cat', '2-Cat', 0]\n",
      "\n",
      "Diverse Counterfactual set (new outcome: 1.0)\n",
      "['2-Cat', 24, '4-Cat', '9-Cat', 6928.0, '5-Cat', '4-Cat', '4-Cat', '3-Cat', '1-Cat', '3-Cat', '2-Cat', 34, '3-Cat', '1-Cat', '2-Cat', '3-Cat', '1-Cat', '2-Cat', '2-Cat', 1]\n"
     ]
    },
    {
     "name": "stderr",
     "output_type": "stream",
     "text": [
      "100%|█████████████████████████████████████████████| 1/1 [00:00<00:00, 14.98it/s]\n"
     ]
    },
    {
     "name": "stdout",
     "output_type": "stream",
     "text": [
      "Query instance (original outcome : 0)\n",
      "['2-Cat', 53, '4-Cat', '9-Cat', 2825, '5-Cat', '4-Cat', '4-Cat', '3-Cat', '1-Cat', '3-Cat', '4-Cat', 34, '1-Cat', '2-Cat', '2-Cat', '3-Cat', '1-Cat', '2-Cat', '2-Cat', 0]\n",
      "\n",
      "Diverse Counterfactual set (new outcome: 1.0)\n",
      "['2-Cat', 56.0, '4-Cat', '9-Cat', 2825, '5-Cat', '4-Cat', '4-Cat', '3-Cat', '3-Cat', '3-Cat', '4-Cat', 34, '1-Cat', '2-Cat', '2-Cat', '3-Cat', '1-Cat', '2-Cat', '2-Cat', 1]\n"
     ]
    },
    {
     "name": "stderr",
     "output_type": "stream",
     "text": [
      "100%|█████████████████████████████████████████████| 1/1 [00:00<00:00, 15.38it/s]\n"
     ]
    },
    {
     "name": "stdout",
     "output_type": "stream",
     "text": [
      "Query instance (original outcome : 0)\n",
      "['2-Cat', 55, '4-Cat', '9-Cat', 2825, '5-Cat', '1-Cat', '4-Cat', '3-Cat', '1-Cat', '3-Cat', '4-Cat', 34, '3-Cat', '2-Cat', '2-Cat', '3-Cat', '1-Cat', '2-Cat', '2-Cat', 0]\n",
      "\n",
      "Diverse Counterfactual set (new outcome: 1.0)\n",
      "['2-Cat', 55, '4-Cat', '9-Cat', 2825, '5-Cat', '1-Cat', '4-Cat', '3-Cat', '1-Cat', '3-Cat', '4-Cat', 34, '3-Cat', '2-Cat', '3-Cat', '3-Cat', '1-Cat', '2-Cat', '2-Cat', 1]\n"
     ]
    },
    {
     "name": "stderr",
     "output_type": "stream",
     "text": [
      "100%|█████████████████████████████████████████████| 1/1 [00:00<00:00, 15.22it/s]\n"
     ]
    },
    {
     "name": "stdout",
     "output_type": "stream",
     "text": [
      "Query instance (original outcome : 0)\n",
      "['2-Cat', 18, '2-Cat', '6-Cat', 13888, '5-Cat', '3-Cat', '4-Cat', '3-Cat', '1-Cat', '4-Cat', '4-Cat', 61, '3-Cat', '3-Cat', '1-Cat', '3-Cat', '2-Cat', '1-Cat', '2-Cat', 0]\n",
      "\n",
      "Diverse Counterfactual set (new outcome: 1.0)\n",
      "['2-Cat', 18, '2-Cat', '6-Cat', 7773.0, '5-Cat', '3-Cat', '4-Cat', '3-Cat', '1-Cat', '1-Cat', '4-Cat', 61, '3-Cat', '3-Cat', '1-Cat', '3-Cat', '2-Cat', '1-Cat', '2-Cat', 1]\n"
     ]
    },
    {
     "name": "stderr",
     "output_type": "stream",
     "text": [
      "100%|█████████████████████████████████████████████| 1/1 [00:00<00:00, 15.13it/s]\n"
     ]
    },
    {
     "name": "stdout",
     "output_type": "stream",
     "text": [
      "Query instance (original outcome : 0)\n",
      "['2-Cat', 18, '2-Cat', '6-Cat', 17844, '5-Cat', '3-Cat', '4-Cat', '3-Cat', '1-Cat', '4-Cat', '4-Cat', 61, '3-Cat', '3-Cat', '1-Cat', '3-Cat', '2-Cat', '1-Cat', '2-Cat', 0]\n",
      "\n",
      "Diverse Counterfactual set (new outcome: 1.0)\n",
      "['2-Cat', 18, '2-Cat', '6-Cat', 4318.0, '5-Cat', '3-Cat', '4-Cat', '3-Cat', '1-Cat', '4-Cat', '4-Cat', 61, '3-Cat', '3-Cat', '1-Cat', '3-Cat', '1-Cat', '1-Cat', '2-Cat', 1]\n"
     ]
    },
    {
     "name": "stderr",
     "output_type": "stream",
     "text": [
      "100%|█████████████████████████████████████████████| 1/1 [00:00<00:00, 15.19it/s]\n"
     ]
    },
    {
     "name": "stdout",
     "output_type": "stream",
     "text": [
      "Query instance (original outcome : 0)\n",
      "['2-Cat', 18, '2-Cat', '6-Cat', 15440, '5-Cat', '3-Cat', '4-Cat', '3-Cat', '1-Cat', '4-Cat', '4-Cat', 61, '3-Cat', '3-Cat', '1-Cat', '3-Cat', '2-Cat', '1-Cat', '2-Cat', 0]\n",
      "\n",
      "Diverse Counterfactual set (new outcome: 1.0)\n",
      "['2-Cat', 18, '2-Cat', '6-Cat', 1808.0, '5-Cat', '3-Cat', '4-Cat', '3-Cat', '1-Cat', '4-Cat', '4-Cat', 61, '3-Cat', '3-Cat', '1-Cat', '3-Cat', '2-Cat', '1-Cat', '2-Cat', 1]\n"
     ]
    },
    {
     "name": "stderr",
     "output_type": "stream",
     "text": [
      "100%|█████████████████████████████████████████████| 1/1 [00:00<00:00,  3.74it/s]\n"
     ]
    },
    {
     "name": "stdout",
     "output_type": "stream",
     "text": [
      "No Counterfactuals found for the given configuration, perhaps try with different parameters... ; total time taken: 00 min 00 sec\n"
     ]
    },
    {
     "name": "stderr",
     "output_type": "stream",
     "text": [
      "100%|█████████████████████████████████████████████| 1/1 [00:00<00:00,  3.75it/s]\n"
     ]
    },
    {
     "name": "stdout",
     "output_type": "stream",
     "text": [
      "No Counterfactuals found for the given configuration, perhaps try with different parameters... ; total time taken: 00 min 00 sec\n"
     ]
    },
    {
     "name": "stderr",
     "output_type": "stream",
     "text": [
      "100%|█████████████████████████████████████████████| 1/1 [00:00<00:00,  3.76it/s]\n"
     ]
    },
    {
     "name": "stdout",
     "output_type": "stream",
     "text": [
      "No Counterfactuals found for the given configuration, perhaps try with different parameters... ; total time taken: 00 min 00 sec\n"
     ]
    },
    {
     "name": "stderr",
     "output_type": "stream",
     "text": [
      "100%|█████████████████████████████████████████████| 1/1 [00:00<00:00, 15.26it/s]\n"
     ]
    },
    {
     "name": "stdout",
     "output_type": "stream",
     "text": [
      "Query instance (original outcome : 0)\n",
      "['1-Cat', 18, '4-Cat', '6-Cat', 1864, '2-Cat', '3-Cat', '4-Cat', '2-Cat', '1-Cat', '2-Cat', '1-Cat', 30, '3-Cat', '2-Cat', '2-Cat', '3-Cat', '1-Cat', '1-Cat', '2-Cat', 0]\n",
      "\n",
      "Diverse Counterfactual set (new outcome: 1.0)\n",
      "['1-Cat', 18, '4-Cat', '6-Cat', 1864, '1-Cat', '3-Cat', '4-Cat', '2-Cat', '3-Cat', '2-Cat', '1-Cat', 30, '3-Cat', '2-Cat', '2-Cat', '3-Cat', '1-Cat', '1-Cat', '2-Cat', 1]\n"
     ]
    },
    {
     "name": "stderr",
     "output_type": "stream",
     "text": [
      "100%|█████████████████████████████████████████████| 1/1 [00:00<00:00, 15.27it/s]\n"
     ]
    },
    {
     "name": "stdout",
     "output_type": "stream",
     "text": [
      "Query instance (original outcome : 0)\n",
      "['4-Cat', 43, '4-Cat', '6-Cat', 1864, '2-Cat', '3-Cat', '4-Cat', '2-Cat', '1-Cat', '2-Cat', '1-Cat', 30, '3-Cat', '2-Cat', '2-Cat', '3-Cat', '2-Cat', '1-Cat', '2-Cat', 0]\n",
      "\n",
      "Diverse Counterfactual set (new outcome: 1.0)\n",
      "['4-Cat', 43, '3-Cat', '6-Cat', 1864, '2-Cat', '3-Cat', '4-Cat', '2-Cat', '3-Cat', '2-Cat', '1-Cat', 30, '3-Cat', '2-Cat', '2-Cat', '3-Cat', '2-Cat', '1-Cat', '2-Cat', 1]\n"
     ]
    },
    {
     "name": "stderr",
     "output_type": "stream",
     "text": [
      "100%|█████████████████████████████████████████████| 1/1 [00:00<00:00, 15.10it/s]\n"
     ]
    },
    {
     "name": "stdout",
     "output_type": "stream",
     "text": [
      "Query instance (original outcome : 0)\n",
      "['4-Cat', 18, '4-Cat', '6-Cat', 1864, '2-Cat', '3-Cat', '4-Cat', '2-Cat', '1-Cat', '2-Cat', '1-Cat', 30, '3-Cat', '1-Cat', '2-Cat', '2-Cat', '2-Cat', '1-Cat', '2-Cat', 0]\n",
      "\n",
      "Diverse Counterfactual set (new outcome: 1.0)\n",
      "['4-Cat', 18, '4-Cat', '6-Cat', 1864, '2-Cat', '3-Cat', '4-Cat', '2-Cat', '1-Cat', '1-Cat', '1-Cat', 30, '3-Cat', '1-Cat', '2-Cat', '2-Cat', '2-Cat', '1-Cat', '2-Cat', 1]\n"
     ]
    },
    {
     "name": "stderr",
     "output_type": "stream",
     "text": [
      "100%|█████████████████████████████████████████████| 1/1 [00:00<00:00, 14.97it/s]\n"
     ]
    },
    {
     "name": "stdout",
     "output_type": "stream",
     "text": [
      "Query instance (original outcome : 1)\n",
      "['4-Cat', 24, '2-Cat', '0-Cat', 1474, '2-Cat', '2-Cat', '4-Cat', '4-Cat', '3-Cat', '3-Cat', '1-Cat', 33, '3-Cat', '2-Cat', '1-Cat', '1-Cat', '2-Cat', '2-Cat', '2-Cat', 1]\n",
      "\n",
      "Diverse Counterfactual set (new outcome: 0.0)\n",
      "['4-Cat', 24, '2-Cat', '0-Cat', 1474, '2-Cat', '2-Cat', '4-Cat', '4-Cat', '3-Cat', '3-Cat', '1-Cat', 33, '1-Cat', '1-Cat', '1-Cat', '1-Cat', '2-Cat', '2-Cat', '2-Cat', 0]\n"
     ]
    },
    {
     "name": "stderr",
     "output_type": "stream",
     "text": [
      "100%|█████████████████████████████████████████████| 1/1 [00:00<00:00, 15.23it/s]\n"
     ]
    },
    {
     "name": "stdout",
     "output_type": "stream",
     "text": [
      "Query instance (original outcome : 1)\n",
      "['4-Cat', 24, '2-Cat', '0-Cat', 1474, '2-Cat', '2-Cat', '4-Cat', '4-Cat', '3-Cat', '2-Cat', '1-Cat', 33, '3-Cat', '2-Cat', '1-Cat', '3-Cat', '2-Cat', '2-Cat', '2-Cat', 1]\n",
      "\n",
      "Diverse Counterfactual set (new outcome: 0.0)\n",
      "['4-Cat', 24, '2-Cat', '0-Cat', 12115.0, '2-Cat', '2-Cat', '4-Cat', '4-Cat', '3-Cat', '2-Cat', '1-Cat', 33, '3-Cat', '2-Cat', '1-Cat', '3-Cat', '2-Cat', '2-Cat', '2-Cat', 0]\n"
     ]
    },
    {
     "name": "stderr",
     "output_type": "stream",
     "text": [
      "100%|█████████████████████████████████████████████| 1/1 [00:00<00:00, 14.99it/s]\n"
     ]
    },
    {
     "name": "stdout",
     "output_type": "stream",
     "text": [
      "Query instance (original outcome : 1)\n",
      "['4-Cat', 24, '2-Cat', '0-Cat', 1474, '2-Cat', '1-Cat', '4-Cat', '4-Cat', '3-Cat', '3-Cat', '1-Cat', 33, '3-Cat', '2-Cat', '1-Cat', '3-Cat', '2-Cat', '2-Cat', '2-Cat', 1]\n",
      "\n",
      "Diverse Counterfactual set (new outcome: 0.0)\n",
      "['4-Cat', 24, '2-Cat', '0-Cat', 16528.0, '2-Cat', '1-Cat', '4-Cat', '4-Cat', '3-Cat', '3-Cat', '1-Cat', 33, '3-Cat', '1-Cat', '1-Cat', '3-Cat', '2-Cat', '2-Cat', '2-Cat', 0]\n"
     ]
    },
    {
     "name": "stderr",
     "output_type": "stream",
     "text": [
      "100%|█████████████████████████████████████████████| 1/1 [00:00<00:00, 15.23it/s]\n"
     ]
    },
    {
     "name": "stdout",
     "output_type": "stream",
     "text": [
      "Query instance (original outcome : 0)\n",
      "['1-Cat', 58, '4-Cat', '9-Cat', 1382, '2-Cat', '4-Cat', '4-Cat', '3-Cat', '1-Cat', '1-Cat', '1-Cat', 26, '3-Cat', '1-Cat', '2-Cat', '3-Cat', '2-Cat', '2-Cat', '2-Cat', 0]\n",
      "\n",
      "Diverse Counterfactual set (new outcome: 1.0)\n",
      "['1-Cat', 29.0, '4-Cat', '9-Cat', 1382, '2-Cat', '4-Cat', '4-Cat', '3-Cat', '1-Cat', '1-Cat', '1-Cat', 26, '3-Cat', '1-Cat', '2-Cat', '3-Cat', '1-Cat', '2-Cat', '2-Cat', 1]\n"
     ]
    },
    {
     "name": "stderr",
     "output_type": "stream",
     "text": [
      "100%|█████████████████████████████████████████████| 1/1 [00:00<00:00, 14.76it/s]\n"
     ]
    },
    {
     "name": "stdout",
     "output_type": "stream",
     "text": [
      "Query instance (original outcome : 0)\n",
      "['1-Cat', 24, '4-Cat', '9-Cat', 6067, '2-Cat', '4-Cat', '4-Cat', '3-Cat', '1-Cat', '1-Cat', '1-Cat', 26, '3-Cat', '2-Cat', '2-Cat', '3-Cat', '2-Cat', '2-Cat', '2-Cat', 0]\n",
      "\n",
      "Diverse Counterfactual set (new outcome: 1.0)\n",
      "['1-Cat', 24, '4-Cat', '9-Cat', 1578.0, '2-Cat', '4-Cat', '4-Cat', '3-Cat', '2-Cat', '1-Cat', '1-Cat', 26, '3-Cat', '2-Cat', '2-Cat', '3-Cat', '2-Cat', '2-Cat', '2-Cat', 1]\n"
     ]
    },
    {
     "name": "stderr",
     "output_type": "stream",
     "text": [
      "100%|█████████████████████████████████████████████| 1/1 [00:00<00:00, 15.27it/s]\n"
     ]
    },
    {
     "name": "stdout",
     "output_type": "stream",
     "text": [
      "Query instance (original outcome : 0)\n",
      "['1-Cat', 24, '4-Cat', '9-Cat', 16242, '2-Cat', '4-Cat', '4-Cat', '3-Cat', '1-Cat', '1-Cat', '1-Cat', 26, '3-Cat', '2-Cat', '2-Cat', '3-Cat', '2-Cat', '2-Cat', '2-Cat', 0]\n",
      "\n",
      "Diverse Counterfactual set (new outcome: 1.0)\n",
      "['1-Cat', 24, '4-Cat', '9-Cat', 5086.0, '2-Cat', '4-Cat', '4-Cat', '3-Cat', '1-Cat', '1-Cat', '1-Cat', 26, '3-Cat', '2-Cat', '2-Cat', '3-Cat', '2-Cat', '2-Cat', '2-Cat', 1]\n"
     ]
    },
    {
     "name": "stderr",
     "output_type": "stream",
     "text": [
      "100%|█████████████████████████████████████████████| 1/1 [00:00<00:00, 15.02it/s]\n"
     ]
    },
    {
     "name": "stdout",
     "output_type": "stream",
     "text": [
      "Query instance (original outcome : 1)\n",
      "['1-Cat', 12, '4-Cat', '3-Cat', 385, '1-Cat', '4-Cat', '4-Cat', '2-Cat', '3-Cat', '3-Cat', '1-Cat', 58, '3-Cat', '2-Cat', '4-Cat', '2-Cat', '2-Cat', '2-Cat', '2-Cat', 1]\n",
      "\n",
      "Diverse Counterfactual set (new outcome: 0.0)\n",
      "['1-Cat', 12, '4-Cat', '3-Cat', 9527.0, '1-Cat', '4-Cat', '4-Cat', '2-Cat', '3-Cat', '3-Cat', '1-Cat', 58, '3-Cat', '1-Cat', '4-Cat', '2-Cat', '2-Cat', '2-Cat', '2-Cat', 0]\n"
     ]
    },
    {
     "name": "stderr",
     "output_type": "stream",
     "text": [
      "100%|█████████████████████████████████████████████| 1/1 [00:00<00:00, 15.34it/s]\n"
     ]
    },
    {
     "name": "stdout",
     "output_type": "stream",
     "text": [
      "Query instance (original outcome : 1)\n",
      "['1-Cat', 12, '4-Cat', '3-Cat', 385, '1-Cat', '4-Cat', '4-Cat', '2-Cat', '3-Cat', '3-Cat', '1-Cat', 58, '3-Cat', '2-Cat', '4-Cat', '1-Cat', '2-Cat', '2-Cat', '2-Cat', 1]\n",
      "\n",
      "Diverse Counterfactual set (new outcome: 0.0)\n",
      "['1-Cat', 12, '4-Cat', '3-Cat', 9748.0, '1-Cat', '4-Cat', '4-Cat', '2-Cat', '3-Cat', '3-Cat', '1-Cat', 58, '3-Cat', '2-Cat', '4-Cat', '1-Cat', '2-Cat', '2-Cat', '2-Cat', 0]\n"
     ]
    },
    {
     "name": "stderr",
     "output_type": "stream",
     "text": [
      "100%|█████████████████████████████████████████████| 1/1 [00:00<00:00, 15.32it/s]\n"
     ]
    },
    {
     "name": "stdout",
     "output_type": "stream",
     "text": [
      "Query instance (original outcome : 1)\n",
      "['1-Cat', 12, '4-Cat', '3-Cat', 385, '1-Cat', '4-Cat', '4-Cat', '2-Cat', '3-Cat', '3-Cat', '1-Cat', 58, '3-Cat', '2-Cat', '4-Cat', '2-Cat', '1-Cat', '2-Cat', '2-Cat', 1]\n",
      "\n",
      "Diverse Counterfactual set (new outcome: 0.0)\n",
      "['1-Cat', 12, '4-Cat', '3-Cat', 385, '1-Cat', '4-Cat', '4-Cat', '2-Cat', '1-Cat', '3-Cat', '1-Cat', 58, '1-Cat', '2-Cat', '4-Cat', '2-Cat', '1-Cat', '2-Cat', '2-Cat', 0]\n"
     ]
    },
    {
     "name": "stderr",
     "output_type": "stream",
     "text": [
      "100%|█████████████████████████████████████████████| 1/1 [00:00<00:00, 15.26it/s]\n"
     ]
    },
    {
     "name": "stdout",
     "output_type": "stream",
     "text": [
      "Query instance (original outcome : 0)\n",
      "['4-Cat', 24, '2-Cat', '1-Cat', 8486, '1-Cat', '2-Cat', '4-Cat', '2-Cat', '1-Cat', '1-Cat', '4-Cat', 29, '3-Cat', '2-Cat', '1-Cat', '4-Cat', '2-Cat', '2-Cat', '2-Cat', 0]\n",
      "\n",
      "Diverse Counterfactual set (new outcome: 1.0)\n",
      "['4-Cat', 24, '2-Cat', '1-Cat', 3893.0, '1-Cat', '2-Cat', '4-Cat', '2-Cat', '1-Cat', '1-Cat', '4-Cat', 29, '3-Cat', '2-Cat', '1-Cat', '4-Cat', '2-Cat', '2-Cat', '2-Cat', 1]\n"
     ]
    },
    {
     "name": "stderr",
     "output_type": "stream",
     "text": [
      "100%|█████████████████████████████████████████████| 1/1 [00:00<00:00, 15.95it/s]\n"
     ]
    },
    {
     "name": "stdout",
     "output_type": "stream",
     "text": [
      "Query instance (original outcome : 0)\n",
      "['2-Cat', 24, '2-Cat', '1-Cat', 2679, '1-Cat', '2-Cat', '4-Cat', '2-Cat', '1-Cat', '1-Cat', '4-Cat', 29, '1-Cat', '2-Cat', '1-Cat', '4-Cat', '2-Cat', '2-Cat', '2-Cat', 0]\n",
      "\n",
      "Diverse Counterfactual set (new outcome: 1.0)\n",
      "['2-Cat', 24, '2-Cat', '1-Cat', 2679, '1-Cat', '1-Cat', '4-Cat', '2-Cat', '1-Cat', '1-Cat', '4-Cat', 29, '3-Cat', '2-Cat', '1-Cat', '4-Cat', '2-Cat', '2-Cat', '2-Cat', 1]\n"
     ]
    },
    {
     "name": "stderr",
     "output_type": "stream",
     "text": [
      "100%|█████████████████████████████████████████████| 1/1 [00:00<00:00, 13.30it/s]\n"
     ]
    },
    {
     "name": "stdout",
     "output_type": "stream",
     "text": [
      "Query instance (original outcome : 0)\n",
      "['4-Cat', 24, '2-Cat', '1-Cat', 2679, '1-Cat', '2-Cat', '4-Cat', '2-Cat', '1-Cat', '1-Cat', '2-Cat', 29, '2-Cat', '2-Cat', '1-Cat', '4-Cat', '2-Cat', '2-Cat', '2-Cat', 0]\n",
      "\n",
      "Diverse Counterfactual set (new outcome: 1.0)\n",
      "['4-Cat', 24, '2-Cat', '1-Cat', 8218.0, '1-Cat', '2-Cat', '4-Cat', '2-Cat', '1-Cat', '1-Cat', '2-Cat', 29, '3-Cat', '2-Cat', '1-Cat', '4-Cat', '2-Cat', '2-Cat', '2-Cat', 1]\n"
     ]
    },
    {
     "name": "stderr",
     "output_type": "stream",
     "text": [
      "100%|█████████████████████████████████████████████| 1/1 [00:00<00:00, 14.53it/s]\n"
     ]
    },
    {
     "name": "stdout",
     "output_type": "stream",
     "text": [
      "Query instance (original outcome : 0)\n",
      "['4-Cat', 72, '2-Cat', '3-Cat', 3077, '1-Cat', '3-Cat', '2-Cat', '3-Cat', '1-Cat', '4-Cat', '3-Cat', 52, '2-Cat', '2-Cat', '1-Cat', '3-Cat', '2-Cat', '2-Cat', '2-Cat', 0]\n",
      "\n",
      "Diverse Counterfactual set (new outcome: 1.0)\n",
      "['4-Cat', 72, '2-Cat', '3-Cat', 3077, '1-Cat', '3-Cat', '2-Cat', '3-Cat', '1-Cat', '1-Cat', '3-Cat', 52, '3-Cat', '2-Cat', '1-Cat', '3-Cat', '2-Cat', '2-Cat', '2-Cat', 1]\n"
     ]
    },
    {
     "name": "stderr",
     "output_type": "stream",
     "text": [
      "100%|█████████████████████████████████████████████| 1/1 [00:00<00:00, 14.54it/s]\n"
     ]
    },
    {
     "name": "stdout",
     "output_type": "stream",
     "text": [
      "Query instance (original outcome : 0)\n",
      "['4-Cat', 72, '2-Cat', '3-Cat', 7855, '1-Cat', '3-Cat', '2-Cat', '3-Cat', '1-Cat', '4-Cat', '3-Cat', 52, '3-Cat', '2-Cat', '1-Cat', '3-Cat', '2-Cat', '2-Cat', '2-Cat', 0]\n",
      "\n",
      "Diverse Counterfactual set (new outcome: 1.0)\n",
      "['4-Cat', 72, '2-Cat', '3-Cat', 4347.0, '1-Cat', '3-Cat', '2-Cat', '3-Cat', '1-Cat', '4-Cat', '2-Cat', 52, '3-Cat', '2-Cat', '1-Cat', '3-Cat', '2-Cat', '2-Cat', '2-Cat', 1]\n"
     ]
    },
    {
     "name": "stderr",
     "output_type": "stream",
     "text": [
      "100%|█████████████████████████████████████████████| 1/1 [00:00<00:00, 15.19it/s]\n"
     ]
    },
    {
     "name": "stdout",
     "output_type": "stream",
     "text": [
      "Query instance (original outcome : 0)\n",
      "['4-Cat', 58, '2-Cat', '3-Cat', 11372, '1-Cat', '3-Cat', '2-Cat', '3-Cat', '1-Cat', '4-Cat', '3-Cat', 52, '3-Cat', '2-Cat', '1-Cat', '3-Cat', '2-Cat', '2-Cat', '2-Cat', 0]\n",
      "\n",
      "Diverse Counterfactual set (new outcome: 1.0)\n",
      "['4-Cat', 58, '2-Cat', '3-Cat', 11372, '1-Cat', '3-Cat', '2-Cat', '3-Cat', '3-Cat', '1-Cat', '3-Cat', 52, '3-Cat', '2-Cat', '1-Cat', '3-Cat', '2-Cat', '2-Cat', '2-Cat', 1]\n"
     ]
    },
    {
     "name": "stderr",
     "output_type": "stream",
     "text": [
      "100%|█████████████████████████████████████████████| 1/1 [00:00<00:00, 15.36it/s]\n"
     ]
    },
    {
     "name": "stdout",
     "output_type": "stream",
     "text": [
      "Query instance (original outcome : 0)\n",
      "['4-Cat', 24, '2-Cat', '3-Cat', 14511, '1-Cat', '4-Cat', '4-Cat', '3-Cat', '1-Cat', '2-Cat', '3-Cat', 28, '3-Cat', '2-Cat', '1-Cat', '3-Cat', '2-Cat', '2-Cat', '2-Cat', 0]\n",
      "\n",
      "Diverse Counterfactual set (new outcome: 1.0)\n",
      "['4-Cat', 24, '2-Cat', '3-Cat', 2377.0, '1-Cat', '4-Cat', '4-Cat', '3-Cat', '1-Cat', '2-Cat', '2-Cat', 28, '3-Cat', '2-Cat', '1-Cat', '3-Cat', '2-Cat', '2-Cat', '2-Cat', 1]\n"
     ]
    },
    {
     "name": "stderr",
     "output_type": "stream",
     "text": [
      "100%|█████████████████████████████████████████████| 1/1 [00:00<00:00, 15.28it/s]\n"
     ]
    },
    {
     "name": "stdout",
     "output_type": "stream",
     "text": [
      "Query instance (original outcome : 0)\n",
      "['4-Cat', 24, '2-Cat', '3-Cat', 8967, '1-Cat', '4-Cat', '4-Cat', '3-Cat', '1-Cat', '2-Cat', '3-Cat', 28, '3-Cat', '2-Cat', '1-Cat', '3-Cat', '2-Cat', '2-Cat', '2-Cat', 0]\n",
      "\n",
      "Diverse Counterfactual set (new outcome: 1.0)\n",
      "['4-Cat', 24, '2-Cat', '3-Cat', 8967, '1-Cat', '3-Cat', '4-Cat', '3-Cat', '1-Cat', '2-Cat', '3-Cat', 28, '3-Cat', '2-Cat', '1-Cat', '3-Cat', '1-Cat', '2-Cat', '2-Cat', 1]\n"
     ]
    },
    {
     "name": "stderr",
     "output_type": "stream",
     "text": [
      "100%|█████████████████████████████████████████████| 1/1 [00:00<00:00, 15.20it/s]\n"
     ]
    },
    {
     "name": "stdout",
     "output_type": "stream",
     "text": [
      "Query instance (original outcome : 0)\n",
      "['4-Cat', 24, '2-Cat', '3-Cat', 8097, '1-Cat', '3-Cat', '4-Cat', '3-Cat', '1-Cat', '2-Cat', '3-Cat', 28, '3-Cat', '2-Cat', '1-Cat', '3-Cat', '2-Cat', '2-Cat', '2-Cat', 0]\n",
      "\n",
      "Diverse Counterfactual set (new outcome: 1.0)\n",
      "['4-Cat', 24, '2-Cat', '3-Cat', 6349.0, '1-Cat', '3-Cat', '4-Cat', '3-Cat', '3-Cat', '2-Cat', '3-Cat', 28, '3-Cat', '2-Cat', '1-Cat', '3-Cat', '2-Cat', '2-Cat', '2-Cat', 1]\n"
     ]
    },
    {
     "name": "stderr",
     "output_type": "stream",
     "text": [
      "100%|█████████████████████████████████████████████| 1/1 [00:00<00:00, 14.87it/s]\n"
     ]
    },
    {
     "name": "stdout",
     "output_type": "stream",
     "text": [
      "Query instance (original outcome : 0)\n",
      "['4-Cat', 64, '3-Cat', '0-Cat', 2032, '1-Cat', '5-Cat', '4-Cat', '3-Cat', '1-Cat', '4-Cat', '4-Cat', 60, '2-Cat', '3-Cat', '2-Cat', '3-Cat', '2-Cat', '2-Cat', '2-Cat', 0]\n",
      "\n",
      "Diverse Counterfactual set (new outcome: 1.0)\n",
      "['4-Cat', 64, '3-Cat', '0-Cat', 2032, '1-Cat', '5-Cat', '4-Cat', '3-Cat', '3-Cat', '4-Cat', '4-Cat', 60, '3-Cat', '3-Cat', '2-Cat', '3-Cat', '2-Cat', '2-Cat', '2-Cat', 1]\n"
     ]
    },
    {
     "name": "stderr",
     "output_type": "stream",
     "text": [
      "100%|█████████████████████████████████████████████| 1/1 [00:00<00:00, 15.29it/s]\n"
     ]
    },
    {
     "name": "stdout",
     "output_type": "stream",
     "text": [
      "Query instance (original outcome : 0)\n",
      "['4-Cat', 24, '0-Cat', '0-Cat', 2032, '1-Cat', '1-Cat', '4-Cat', '3-Cat', '1-Cat', '4-Cat', '4-Cat', 60, '3-Cat', '3-Cat', '2-Cat', '3-Cat', '2-Cat', '2-Cat', '2-Cat', 0]\n",
      "\n",
      "Diverse Counterfactual set (new outcome: 1.0)\n",
      "['4-Cat', 24, '1-Cat', '0-Cat', 2032, '1-Cat', '3-Cat', '4-Cat', '3-Cat', '1-Cat', '4-Cat', '4-Cat', 60, '3-Cat', '3-Cat', '2-Cat', '3-Cat', '2-Cat', '2-Cat', '2-Cat', 1]\n"
     ]
    },
    {
     "name": "stderr",
     "output_type": "stream",
     "text": [
      "100%|█████████████████████████████████████████████| 1/1 [00:00<00:00, 14.85it/s]\n"
     ]
    },
    {
     "name": "stdout",
     "output_type": "stream",
     "text": [
      "Query instance (original outcome : 0)\n",
      "['4-Cat', 24, '3-Cat', '0-Cat', 12222, '1-Cat', '5-Cat', '4-Cat', '3-Cat', '1-Cat', '4-Cat', '4-Cat', 60, '3-Cat', '3-Cat', '2-Cat', '3-Cat', '2-Cat', '2-Cat', '2-Cat', 0]\n",
      "\n",
      "Diverse Counterfactual set (new outcome: 1.0)\n",
      "['4-Cat', 24, '3-Cat', '0-Cat', 12222, '1-Cat', '4-Cat', '4-Cat', '3-Cat', '1-Cat', '4-Cat', '4-Cat', 60, '3-Cat', '2-Cat', '2-Cat', '3-Cat', '2-Cat', '2-Cat', '2-Cat', 1]\n"
     ]
    },
    {
     "name": "stderr",
     "output_type": "stream",
     "text": [
      "100%|█████████████████████████████████████████████| 1/1 [00:00<00:00, 15.28it/s]\n"
     ]
    },
    {
     "name": "stdout",
     "output_type": "stream",
     "text": [
      "Query instance (original outcome : 0)\n",
      "['2-Cat', 21, '0-Cat', '2-Cat', 16426, '4-Cat', '4-Cat', '3-Cat', '3-Cat', '1-Cat', '2-Cat', '3-Cat', 32, '3-Cat', '2-Cat', '2-Cat', '3-Cat', '2-Cat', '2-Cat', '2-Cat', 0]\n",
      "\n",
      "Diverse Counterfactual set (new outcome: 1.0)\n",
      "['2-Cat', 21, '0-Cat', '2-Cat', 8788.0, '4-Cat', '4-Cat', '3-Cat', '3-Cat', '1-Cat', '2-Cat', '3-Cat', 32, '3-Cat', '2-Cat', '2-Cat', '3-Cat', '2-Cat', '2-Cat', '2-Cat', 1]\n"
     ]
    },
    {
     "name": "stderr",
     "output_type": "stream",
     "text": [
      "100%|█████████████████████████████████████████████| 1/1 [00:00<00:00, 15.26it/s]\n"
     ]
    },
    {
     "name": "stdout",
     "output_type": "stream",
     "text": [
      "Query instance (original outcome : 0)\n",
      "['1-Cat', 21, '4-Cat', '2-Cat', 16285, '4-Cat', '4-Cat', '3-Cat', '3-Cat', '1-Cat', '2-Cat', '3-Cat', 32, '3-Cat', '2-Cat', '2-Cat', '3-Cat', '2-Cat', '2-Cat', '2-Cat', 0]\n",
      "\n",
      "Diverse Counterfactual set (new outcome: 1.0)\n",
      "['1-Cat', 21, '4-Cat', '2-Cat', 3447.0, '4-Cat', '4-Cat', '3-Cat', '3-Cat', '1-Cat', '2-Cat', '3-Cat', 32, '1-Cat', '2-Cat', '2-Cat', '3-Cat', '2-Cat', '2-Cat', '2-Cat', 1]\n"
     ]
    },
    {
     "name": "stderr",
     "output_type": "stream",
     "text": [
      "100%|█████████████████████████████████████████████| 1/1 [00:00<00:00, 15.32it/s]\n"
     ]
    },
    {
     "name": "stdout",
     "output_type": "stream",
     "text": [
      "Query instance (original outcome : 0)\n",
      "['2-Cat', 21, '4-Cat', '2-Cat', 2745, '1-Cat', '4-Cat', '3-Cat', '3-Cat', '2-Cat', '2-Cat', '3-Cat', 32, '3-Cat', '2-Cat', '2-Cat', '3-Cat', '2-Cat', '2-Cat', '2-Cat', 0]\n",
      "\n",
      "Diverse Counterfactual set (new outcome: 1.0)\n",
      "['1-Cat', 21, '4-Cat', '2-Cat', 2745, '1-Cat', '4-Cat', '3-Cat', '3-Cat', '3-Cat', '2-Cat', '3-Cat', 32, '3-Cat', '2-Cat', '2-Cat', '3-Cat', '2-Cat', '2-Cat', '2-Cat', 1]\n"
     ]
    },
    {
     "name": "stderr",
     "output_type": "stream",
     "text": [
      "100%|█████████████████████████████████████████████| 1/1 [00:00<00:00, 15.50it/s]\n"
     ]
    },
    {
     "name": "stdout",
     "output_type": "stream",
     "text": [
      "Query instance (original outcome : 0)\n",
      "['1-Cat', 30, '2-Cat', '3-Cat', 1867, '5-Cat', '5-Cat', '4-Cat', '3-Cat', '1-Cat', '4-Cat', '3-Cat', 58, '2-Cat', '2-Cat', '1-Cat', '3-Cat', '2-Cat', '2-Cat', '2-Cat', 0]\n",
      "\n",
      "Diverse Counterfactual set (new outcome: 1.0)\n",
      "['4-Cat', 30, '2-Cat', '3-Cat', 1867, '5-Cat', '5-Cat', '4-Cat', '3-Cat', '1-Cat', '4-Cat', '3-Cat', 58, '3-Cat', '2-Cat', '1-Cat', '3-Cat', '2-Cat', '2-Cat', '2-Cat', 1]\n"
     ]
    },
    {
     "name": "stderr",
     "output_type": "stream",
     "text": [
      "100%|█████████████████████████████████████████████| 1/1 [00:00<00:00, 15.19it/s]\n"
     ]
    },
    {
     "name": "stdout",
     "output_type": "stream",
     "text": [
      "Query instance (original outcome : 0)\n",
      "['1-Cat', 30, '2-Cat', '3-Cat', 7036, '5-Cat', '5-Cat', '4-Cat', '3-Cat', '1-Cat', '4-Cat', '3-Cat', 58, '3-Cat', '2-Cat', '1-Cat', '3-Cat', '2-Cat', '2-Cat', '2-Cat', 0]\n",
      "\n",
      "Diverse Counterfactual set (new outcome: 1.0)\n",
      "['1-Cat', 30, '2-Cat', '3-Cat', 2413.0, '5-Cat', '5-Cat', '4-Cat', '3-Cat', '1-Cat', '4-Cat', '3-Cat', 58, '3-Cat', '2-Cat', '1-Cat', '3-Cat', '2-Cat', '2-Cat', '2-Cat', 1]\n"
     ]
    },
    {
     "name": "stderr",
     "output_type": "stream",
     "text": [
      "100%|█████████████████████████████████████████████| 1/1 [00:00<00:00, 15.30it/s]\n"
     ]
    },
    {
     "name": "stdout",
     "output_type": "stream",
     "text": [
      "Query instance (original outcome : 0)\n",
      "['4-Cat', 30, '2-Cat', '3-Cat', 15399, '1-Cat', '5-Cat', '4-Cat', '3-Cat', '1-Cat', '4-Cat', '3-Cat', 58, '3-Cat', '2-Cat', '1-Cat', '3-Cat', '2-Cat', '2-Cat', '2-Cat', 0]\n",
      "\n",
      "Diverse Counterfactual set (new outcome: 1.0)\n",
      "['4-Cat', 30, '2-Cat', '3-Cat', 2292.0, '1-Cat', '5-Cat', '4-Cat', '3-Cat', '3-Cat', '4-Cat', '3-Cat', 58, '3-Cat', '2-Cat', '1-Cat', '3-Cat', '2-Cat', '2-Cat', '2-Cat', 1]\n"
     ]
    },
    {
     "name": "stderr",
     "output_type": "stream",
     "text": [
      "100%|█████████████████████████████████████████████| 1/1 [00:00<00:00, 14.82it/s]\n"
     ]
    },
    {
     "name": "stdout",
     "output_type": "stream",
     "text": [
      "Query instance (original outcome : 0)\n",
      "['4-Cat', 24, '2-Cat', '2-Cat', 929, '3-Cat', '2-Cat', '4-Cat', '3-Cat', '1-Cat', '2-Cat', '3-Cat', 31, '2-Cat', '2-Cat', '1-Cat', '3-Cat', '2-Cat', '2-Cat', '2-Cat', 0]\n",
      "\n",
      "Diverse Counterfactual set (new outcome: 1.0)\n",
      "['4-Cat', 24, '2-Cat', '2-Cat', 929, '3-Cat', '3-Cat', '4-Cat', '3-Cat', '1-Cat', '2-Cat', '1-Cat', 31, '2-Cat', '2-Cat', '1-Cat', '3-Cat', '2-Cat', '2-Cat', '2-Cat', 1]\n"
     ]
    },
    {
     "name": "stderr",
     "output_type": "stream",
     "text": [
      "100%|█████████████████████████████████████████████| 1/1 [00:00<00:00, 14.65it/s]\n"
     ]
    },
    {
     "name": "stdout",
     "output_type": "stream",
     "text": [
      "Query instance (original outcome : 0)\n",
      "['2-Cat', 24, '2-Cat', '2-Cat', 929, '3-Cat', '4-Cat', '4-Cat', '3-Cat', '1-Cat', '2-Cat', '3-Cat', 31, '2-Cat', '2-Cat', '1-Cat', '3-Cat', '2-Cat', '2-Cat', '2-Cat', 0]\n",
      "\n",
      "Diverse Counterfactual set (new outcome: 1.0)\n",
      "['2-Cat', 44.0, '2-Cat', '2-Cat', 929, '4-Cat', '4-Cat', '4-Cat', '3-Cat', '1-Cat', '2-Cat', '3-Cat', 31, '2-Cat', '2-Cat', '1-Cat', '3-Cat', '2-Cat', '2-Cat', '2-Cat', 1]\n"
     ]
    },
    {
     "name": "stderr",
     "output_type": "stream",
     "text": [
      "100%|█████████████████████████████████████████████| 1/1 [00:00<00:00, 14.90it/s]\n"
     ]
    },
    {
     "name": "stdout",
     "output_type": "stream",
     "text": [
      "Query instance (original outcome : 0)\n",
      "['4-Cat', 24, '2-Cat', '2-Cat', 15283, '5-Cat', '4-Cat', '4-Cat', '3-Cat', '1-Cat', '2-Cat', '3-Cat', 31, '2-Cat', '2-Cat', '1-Cat', '3-Cat', '2-Cat', '2-Cat', '2-Cat', 0]\n",
      "\n",
      "Diverse Counterfactual set (new outcome: 1.0)\n",
      "['4-Cat', 24, '2-Cat', '2-Cat', 8233.0, '5-Cat', '4-Cat', '4-Cat', '3-Cat', '1-Cat', '2-Cat', '3-Cat', 31, '2-Cat', '2-Cat', '1-Cat', '3-Cat', '2-Cat', '2-Cat', '2-Cat', 1]\n"
     ]
    },
    {
     "name": "stderr",
     "output_type": "stream",
     "text": [
      "100%|█████████████████████████████████████████████| 1/1 [00:00<00:00, 15.26it/s]\n"
     ]
    },
    {
     "name": "stdout",
     "output_type": "stream",
     "text": [
      "Query instance (original outcome : 0)\n",
      "['1-Cat', 66, '2-Cat', '3-Cat', 3399, '5-Cat', '5-Cat', '2-Cat', '3-Cat', '1-Cat', '3-Cat', '3-Cat', 37, '3-Cat', '2-Cat', '1-Cat', '4-Cat', '2-Cat', '1-Cat', '2-Cat', 0]\n",
      "\n",
      "Diverse Counterfactual set (new outcome: 1.0)\n",
      "['1-Cat', 22.0, '2-Cat', '3-Cat', 3399, '5-Cat', '5-Cat', '2-Cat', '3-Cat', '2-Cat', '3-Cat', '3-Cat', 37, '3-Cat', '2-Cat', '1-Cat', '4-Cat', '2-Cat', '1-Cat', '2-Cat', 1]\n"
     ]
    },
    {
     "name": "stderr",
     "output_type": "stream",
     "text": [
      "100%|█████████████████████████████████████████████| 1/1 [00:00<00:00, 14.89it/s]\n"
     ]
    },
    {
     "name": "stdout",
     "output_type": "stream",
     "text": [
      "Query instance (original outcome : 0)\n",
      "['3-Cat', 63, '2-Cat', '3-Cat', 3399, '1-Cat', '5-Cat', '2-Cat', '3-Cat', '1-Cat', '3-Cat', '3-Cat', 37, '3-Cat', '2-Cat', '1-Cat', '4-Cat', '2-Cat', '1-Cat', '2-Cat', 0]\n",
      "\n",
      "Diverse Counterfactual set (new outcome: 1.0)\n",
      "['3-Cat', 51.0, '2-Cat', '3-Cat', 3399, '1-Cat', '5-Cat', '2-Cat', '3-Cat', '1-Cat', '3-Cat', '3-Cat', 37, '3-Cat', '2-Cat', '1-Cat', '4-Cat', '2-Cat', '1-Cat', '2-Cat', 1]\n"
     ]
    },
    {
     "name": "stderr",
     "output_type": "stream",
     "text": [
      "100%|█████████████████████████████████████████████| 1/1 [00:00<00:00, 14.71it/s]\n"
     ]
    },
    {
     "name": "stdout",
     "output_type": "stream",
     "text": [
      "Query instance (original outcome : 0)\n",
      "['3-Cat', 56, '2-Cat', '3-Cat', 18095, '5-Cat', '5-Cat', '2-Cat', '3-Cat', '1-Cat', '3-Cat', '3-Cat', 37, '3-Cat', '2-Cat', '1-Cat', '4-Cat', '2-Cat', '1-Cat', '2-Cat', 0]\n",
      "\n",
      "Diverse Counterfactual set (new outcome: 1.0)\n",
      "['3-Cat', 56, '2-Cat', '3-Cat', 6132.0, '5-Cat', '5-Cat', '2-Cat', '3-Cat', '1-Cat', '3-Cat', '3-Cat', 37, '2-Cat', '2-Cat', '1-Cat', '4-Cat', '2-Cat', '1-Cat', '2-Cat', 1]\n"
     ]
    },
    {
     "name": "stderr",
     "output_type": "stream",
     "text": [
      "100%|█████████████████████████████████████████████| 1/1 [00:00<00:00, 15.26it/s]\n"
     ]
    },
    {
     "name": "stdout",
     "output_type": "stream",
     "text": [
      "Query instance (original outcome : 0)\n",
      "['4-Cat', 24, '4-Cat', '0-Cat', 8449, '1-Cat', '3-Cat', '4-Cat', '2-Cat', '1-Cat', '4-Cat', '3-Cat', 37, '3-Cat', '2-Cat', '1-Cat', '3-Cat', '2-Cat', '2-Cat', '2-Cat', 0]\n",
      "\n",
      "Diverse Counterfactual set (new outcome: 1.0)\n",
      "['4-Cat', 31.0, '4-Cat', '0-Cat', 8449, '1-Cat', '3-Cat', '4-Cat', '2-Cat', '1-Cat', '4-Cat', '1-Cat', 37, '3-Cat', '2-Cat', '1-Cat', '3-Cat', '2-Cat', '2-Cat', '2-Cat', 1]\n"
     ]
    },
    {
     "name": "stderr",
     "output_type": "stream",
     "text": [
      "100%|█████████████████████████████████████████████| 1/1 [00:00<00:00, 15.38it/s]\n"
     ]
    },
    {
     "name": "stdout",
     "output_type": "stream",
     "text": [
      "Query instance (original outcome : 0)\n",
      "['4-Cat', 24, '4-Cat', '0-Cat', 2022, '1-Cat', '2-Cat', '4-Cat', '2-Cat', '1-Cat', '4-Cat', '3-Cat', 37, '2-Cat', '2-Cat', '1-Cat', '3-Cat', '2-Cat', '2-Cat', '2-Cat', 0]\n",
      "\n",
      "Diverse Counterfactual set (new outcome: 1.0)\n",
      "['4-Cat', 24, '4-Cat', '0-Cat', 2022, '1-Cat', '3-Cat', '4-Cat', '2-Cat', '1-Cat', '1-Cat', '3-Cat', 37, '2-Cat', '2-Cat', '1-Cat', '3-Cat', '2-Cat', '2-Cat', '2-Cat', 1]\n"
     ]
    },
    {
     "name": "stderr",
     "output_type": "stream",
     "text": [
      "100%|█████████████████████████████████████████████| 1/1 [00:00<00:00, 15.16it/s]\n"
     ]
    },
    {
     "name": "stdout",
     "output_type": "stream",
     "text": [
      "Query instance (original outcome : 0)\n",
      "['4-Cat', 24, '0-Cat', '0-Cat', 2022, '1-Cat', '3-Cat', '4-Cat', '2-Cat', '1-Cat', '4-Cat', '3-Cat', 37, '3-Cat', '2-Cat', '3-Cat', '3-Cat', '2-Cat', '2-Cat', '2-Cat', 0]\n",
      "\n",
      "Diverse Counterfactual set (new outcome: 1.0)\n",
      "['4-Cat', 24, '0-Cat', '0-Cat', 2022, '1-Cat', '3-Cat', '4-Cat', '2-Cat', '3-Cat', '1-Cat', '3-Cat', 37, '3-Cat', '2-Cat', '3-Cat', '3-Cat', '2-Cat', '2-Cat', '2-Cat', 1]\n"
     ]
    },
    {
     "name": "stderr",
     "output_type": "stream",
     "text": [
      "100%|█████████████████████████████████████████████| 1/1 [00:00<00:00, 14.54it/s]\n"
     ]
    },
    {
     "name": "stdout",
     "output_type": "stream",
     "text": [
      "Query instance (original outcome : 0)\n",
      "['4-Cat', 24, '4-Cat', '1-Cat', 18402, '1-Cat', '4-Cat', '4-Cat', '3-Cat', '1-Cat', '3-Cat', '3-Cat', 35, '3-Cat', '2-Cat', '2-Cat', '3-Cat', '2-Cat', '2-Cat', '2-Cat', 0]\n",
      "\n",
      "Diverse Counterfactual set (new outcome: 1.0)\n",
      "['4-Cat', 24, '4-Cat', '1-Cat', 8100.0, '1-Cat', '4-Cat', '4-Cat', '3-Cat', '1-Cat', '3-Cat', '3-Cat', 35, '3-Cat', '2-Cat', '2-Cat', '3-Cat', '2-Cat', '2-Cat', '2-Cat', 1]\n"
     ]
    },
    {
     "name": "stderr",
     "output_type": "stream",
     "text": [
      "100%|█████████████████████████████████████████████| 1/1 [00:00<00:00, 15.26it/s]\n"
     ]
    },
    {
     "name": "stdout",
     "output_type": "stream",
     "text": [
      "Query instance (original outcome : 0)\n",
      "['4-Cat', 24, '4-Cat', '1-Cat', 15628, '1-Cat', '4-Cat', '4-Cat', '3-Cat', '1-Cat', '3-Cat', '3-Cat', 35, '2-Cat', '2-Cat', '2-Cat', '3-Cat', '2-Cat', '2-Cat', '2-Cat', 0]\n",
      "\n",
      "Diverse Counterfactual set (new outcome: 1.0)\n",
      "['4-Cat', 24, '4-Cat', '1-Cat', 5295.0, '1-Cat', '4-Cat', '4-Cat', '3-Cat', '1-Cat', '3-Cat', '3-Cat', 35, '2-Cat', '2-Cat', '2-Cat', '3-Cat', '2-Cat', '2-Cat', '2-Cat', 1]\n"
     ]
    },
    {
     "name": "stderr",
     "output_type": "stream",
     "text": [
      "100%|█████████████████████████████████████████████| 1/1 [00:00<00:00, 14.79it/s]"
     ]
    },
    {
     "name": "stdout",
     "output_type": "stream",
     "text": [
      "Query instance (original outcome : 0)\n",
      "['4-Cat', 24, '4-Cat', '1-Cat', 16979, '1-Cat', '4-Cat', '4-Cat', '3-Cat', '1-Cat', '3-Cat', '3-Cat', 35, '3-Cat', '2-Cat', '2-Cat', '2-Cat', '2-Cat', '2-Cat', '2-Cat', 0]\n",
      "\n",
      "Diverse Counterfactual set (new outcome: 1.0)\n",
      "['4-Cat', 24, '4-Cat', '1-Cat', 7254.0, '1-Cat', '4-Cat', '4-Cat', '3-Cat', '1-Cat', '3-Cat', '3-Cat', 35, '3-Cat', '2-Cat', '2-Cat', '2-Cat', '1-Cat', '2-Cat', '2-Cat', 1]\n"
     ]
    },
    {
     "name": "stderr",
     "output_type": "stream",
     "text": [
      "\n"
     ]
    }
   ],
   "source": [
    "sf_df = dice_algorithm(0, 3, max_num_samples=1, dataset_name='german')"
   ]
  },
  {
   "cell_type": "code",
   "execution_count": 23,
   "id": "ea9c726f",
   "metadata": {},
   "outputs": [
    {
     "data": {
      "text/html": [
       "<div>\n",
       "<style scoped>\n",
       "    .dataframe tbody tr th:only-of-type {\n",
       "        vertical-align: middle;\n",
       "    }\n",
       "\n",
       "    .dataframe tbody tr th {\n",
       "        vertical-align: top;\n",
       "    }\n",
       "\n",
       "    .dataframe thead th {\n",
       "        text-align: right;\n",
       "    }\n",
       "</style>\n",
       "<table border=\"1\" class=\"dataframe\">\n",
       "  <thead>\n",
       "    <tr style=\"text-align: right;\">\n",
       "      <th></th>\n",
       "      <th>status</th>\n",
       "      <th>duration</th>\n",
       "      <th>credit_history</th>\n",
       "      <th>purpose</th>\n",
       "      <th>amount</th>\n",
       "      <th>savings</th>\n",
       "      <th>employment_duration</th>\n",
       "      <th>installment_rate</th>\n",
       "      <th>personal_status_sex</th>\n",
       "      <th>other_debtors</th>\n",
       "      <th>...</th>\n",
       "      <th>housing</th>\n",
       "      <th>number_credits</th>\n",
       "      <th>job</th>\n",
       "      <th>people_liable</th>\n",
       "      <th>telephone</th>\n",
       "      <th>foreign_worker</th>\n",
       "      <th>original_pred</th>\n",
       "      <th>found_sf</th>\n",
       "      <th>failed_cf</th>\n",
       "      <th>test_idx</th>\n",
       "    </tr>\n",
       "  </thead>\n",
       "  <tbody>\n",
       "    <tr>\n",
       "      <th>0</th>\n",
       "      <td>1</td>\n",
       "      <td>22</td>\n",
       "      <td>4</td>\n",
       "      <td>0</td>\n",
       "      <td>1361</td>\n",
       "      <td>1</td>\n",
       "      <td>2</td>\n",
       "      <td>2</td>\n",
       "      <td>3</td>\n",
       "      <td>1</td>\n",
       "      <td>...</td>\n",
       "      <td>2</td>\n",
       "      <td>1</td>\n",
       "      <td>2</td>\n",
       "      <td>1</td>\n",
       "      <td>1</td>\n",
       "      <td>1</td>\n",
       "      <td>1</td>\n",
       "      <td>1</td>\n",
       "      <td>0</td>\n",
       "      <td>3</td>\n",
       "    </tr>\n",
       "    <tr>\n",
       "      <th>1</th>\n",
       "      <td>1</td>\n",
       "      <td>49</td>\n",
       "      <td>4</td>\n",
       "      <td>0</td>\n",
       "      <td>1361</td>\n",
       "      <td>1</td>\n",
       "      <td>1</td>\n",
       "      <td>3</td>\n",
       "      <td>3</td>\n",
       "      <td>1</td>\n",
       "      <td>...</td>\n",
       "      <td>2</td>\n",
       "      <td>1</td>\n",
       "      <td>2</td>\n",
       "      <td>1</td>\n",
       "      <td>1</td>\n",
       "      <td>1</td>\n",
       "      <td>1</td>\n",
       "      <td>1</td>\n",
       "      <td>0</td>\n",
       "      <td>3</td>\n",
       "    </tr>\n",
       "    <tr>\n",
       "      <th>2</th>\n",
       "      <td>1</td>\n",
       "      <td>65</td>\n",
       "      <td>3</td>\n",
       "      <td>0</td>\n",
       "      <td>1361</td>\n",
       "      <td>1</td>\n",
       "      <td>1</td>\n",
       "      <td>4</td>\n",
       "      <td>3</td>\n",
       "      <td>1</td>\n",
       "      <td>...</td>\n",
       "      <td>2</td>\n",
       "      <td>1</td>\n",
       "      <td>2</td>\n",
       "      <td>1</td>\n",
       "      <td>1</td>\n",
       "      <td>1</td>\n",
       "      <td>1</td>\n",
       "      <td>1</td>\n",
       "      <td>0</td>\n",
       "      <td>3</td>\n",
       "    </tr>\n",
       "    <tr>\n",
       "      <th>3</th>\n",
       "      <td>2</td>\n",
       "      <td>24</td>\n",
       "      <td>2</td>\n",
       "      <td>3</td>\n",
       "      <td>3758</td>\n",
       "      <td>3</td>\n",
       "      <td>1</td>\n",
       "      <td>1</td>\n",
       "      <td>2</td>\n",
       "      <td>2</td>\n",
       "      <td>...</td>\n",
       "      <td>1</td>\n",
       "      <td>1</td>\n",
       "      <td>1</td>\n",
       "      <td>2</td>\n",
       "      <td>1</td>\n",
       "      <td>2</td>\n",
       "      <td>0</td>\n",
       "      <td>1</td>\n",
       "      <td>0</td>\n",
       "      <td>4</td>\n",
       "    </tr>\n",
       "    <tr>\n",
       "      <th>4</th>\n",
       "      <td>2</td>\n",
       "      <td>24</td>\n",
       "      <td>2</td>\n",
       "      <td>3</td>\n",
       "      <td>8196</td>\n",
       "      <td>3</td>\n",
       "      <td>1</td>\n",
       "      <td>1</td>\n",
       "      <td>2</td>\n",
       "      <td>3</td>\n",
       "      <td>...</td>\n",
       "      <td>1</td>\n",
       "      <td>1</td>\n",
       "      <td>1</td>\n",
       "      <td>2</td>\n",
       "      <td>1</td>\n",
       "      <td>2</td>\n",
       "      <td>0</td>\n",
       "      <td>1</td>\n",
       "      <td>0</td>\n",
       "      <td>4</td>\n",
       "    </tr>\n",
       "    <tr>\n",
       "      <th>...</th>\n",
       "      <td>...</td>\n",
       "      <td>...</td>\n",
       "      <td>...</td>\n",
       "      <td>...</td>\n",
       "      <td>...</td>\n",
       "      <td>...</td>\n",
       "      <td>...</td>\n",
       "      <td>...</td>\n",
       "      <td>...</td>\n",
       "      <td>...</td>\n",
       "      <td>...</td>\n",
       "      <td>...</td>\n",
       "      <td>...</td>\n",
       "      <td>...</td>\n",
       "      <td>...</td>\n",
       "      <td>...</td>\n",
       "      <td>...</td>\n",
       "      <td>...</td>\n",
       "      <td>...</td>\n",
       "      <td>...</td>\n",
       "      <td>...</td>\n",
       "    </tr>\n",
       "    <tr>\n",
       "      <th>85</th>\n",
       "      <td>4</td>\n",
       "      <td>24</td>\n",
       "      <td>4</td>\n",
       "      <td>0</td>\n",
       "      <td>2022</td>\n",
       "      <td>1</td>\n",
       "      <td>3</td>\n",
       "      <td>4</td>\n",
       "      <td>2</td>\n",
       "      <td>1</td>\n",
       "      <td>...</td>\n",
       "      <td>2</td>\n",
       "      <td>1</td>\n",
       "      <td>3</td>\n",
       "      <td>2</td>\n",
       "      <td>2</td>\n",
       "      <td>2</td>\n",
       "      <td>1</td>\n",
       "      <td>1</td>\n",
       "      <td>0</td>\n",
       "      <td>38</td>\n",
       "    </tr>\n",
       "    <tr>\n",
       "      <th>86</th>\n",
       "      <td>4</td>\n",
       "      <td>24</td>\n",
       "      <td>0</td>\n",
       "      <td>0</td>\n",
       "      <td>2022</td>\n",
       "      <td>1</td>\n",
       "      <td>3</td>\n",
       "      <td>4</td>\n",
       "      <td>2</td>\n",
       "      <td>3</td>\n",
       "      <td>...</td>\n",
       "      <td>2</td>\n",
       "      <td>3</td>\n",
       "      <td>3</td>\n",
       "      <td>2</td>\n",
       "      <td>2</td>\n",
       "      <td>2</td>\n",
       "      <td>1</td>\n",
       "      <td>1</td>\n",
       "      <td>0</td>\n",
       "      <td>38</td>\n",
       "    </tr>\n",
       "    <tr>\n",
       "      <th>87</th>\n",
       "      <td>4</td>\n",
       "      <td>24</td>\n",
       "      <td>4</td>\n",
       "      <td>1</td>\n",
       "      <td>8100</td>\n",
       "      <td>1</td>\n",
       "      <td>4</td>\n",
       "      <td>4</td>\n",
       "      <td>3</td>\n",
       "      <td>1</td>\n",
       "      <td>...</td>\n",
       "      <td>2</td>\n",
       "      <td>2</td>\n",
       "      <td>3</td>\n",
       "      <td>2</td>\n",
       "      <td>2</td>\n",
       "      <td>2</td>\n",
       "      <td>1</td>\n",
       "      <td>1</td>\n",
       "      <td>0</td>\n",
       "      <td>41</td>\n",
       "    </tr>\n",
       "    <tr>\n",
       "      <th>88</th>\n",
       "      <td>4</td>\n",
       "      <td>24</td>\n",
       "      <td>4</td>\n",
       "      <td>1</td>\n",
       "      <td>5295</td>\n",
       "      <td>1</td>\n",
       "      <td>4</td>\n",
       "      <td>4</td>\n",
       "      <td>3</td>\n",
       "      <td>1</td>\n",
       "      <td>...</td>\n",
       "      <td>2</td>\n",
       "      <td>2</td>\n",
       "      <td>3</td>\n",
       "      <td>2</td>\n",
       "      <td>2</td>\n",
       "      <td>2</td>\n",
       "      <td>1</td>\n",
       "      <td>1</td>\n",
       "      <td>0</td>\n",
       "      <td>41</td>\n",
       "    </tr>\n",
       "    <tr>\n",
       "      <th>89</th>\n",
       "      <td>4</td>\n",
       "      <td>24</td>\n",
       "      <td>4</td>\n",
       "      <td>1</td>\n",
       "      <td>7254</td>\n",
       "      <td>1</td>\n",
       "      <td>4</td>\n",
       "      <td>4</td>\n",
       "      <td>3</td>\n",
       "      <td>1</td>\n",
       "      <td>...</td>\n",
       "      <td>2</td>\n",
       "      <td>2</td>\n",
       "      <td>2</td>\n",
       "      <td>1</td>\n",
       "      <td>2</td>\n",
       "      <td>2</td>\n",
       "      <td>1</td>\n",
       "      <td>1</td>\n",
       "      <td>0</td>\n",
       "      <td>41</td>\n",
       "    </tr>\n",
       "  </tbody>\n",
       "</table>\n",
       "<p>90 rows × 24 columns</p>\n",
       "</div>"
      ],
      "text/plain": [
       "    status  duration  credit_history  purpose  amount  savings  \\\n",
       "0        1        22               4        0    1361        1   \n",
       "1        1        49               4        0    1361        1   \n",
       "2        1        65               3        0    1361        1   \n",
       "3        2        24               2        3    3758        3   \n",
       "4        2        24               2        3    8196        3   \n",
       "..     ...       ...             ...      ...     ...      ...   \n",
       "85       4        24               4        0    2022        1   \n",
       "86       4        24               0        0    2022        1   \n",
       "87       4        24               4        1    8100        1   \n",
       "88       4        24               4        1    5295        1   \n",
       "89       4        24               4        1    7254        1   \n",
       "\n",
       "    employment_duration  installment_rate  personal_status_sex  other_debtors  \\\n",
       "0                     2                 2                    3              1   \n",
       "1                     1                 3                    3              1   \n",
       "2                     1                 4                    3              1   \n",
       "3                     1                 1                    2              2   \n",
       "4                     1                 1                    2              3   \n",
       "..                  ...               ...                  ...            ...   \n",
       "85                    3                 4                    2              1   \n",
       "86                    3                 4                    2              3   \n",
       "87                    4                 4                    3              1   \n",
       "88                    4                 4                    3              1   \n",
       "89                    4                 4                    3              1   \n",
       "\n",
       "    ...  housing  number_credits  job  people_liable  telephone  \\\n",
       "0   ...        2               1    2              1          1   \n",
       "1   ...        2               1    2              1          1   \n",
       "2   ...        2               1    2              1          1   \n",
       "3   ...        1               1    1              2          1   \n",
       "4   ...        1               1    1              2          1   \n",
       "..  ...      ...             ...  ...            ...        ...   \n",
       "85  ...        2               1    3              2          2   \n",
       "86  ...        2               3    3              2          2   \n",
       "87  ...        2               2    3              2          2   \n",
       "88  ...        2               2    3              2          2   \n",
       "89  ...        2               2    2              1          2   \n",
       "\n",
       "    foreign_worker  original_pred  found_sf  failed_cf  test_idx  \n",
       "0                1              1         1          0         3  \n",
       "1                1              1         1          0         3  \n",
       "2                1              1         1          0         3  \n",
       "3                2              0         1          0         4  \n",
       "4                2              0         1          0         4  \n",
       "..             ...            ...       ...        ...       ...  \n",
       "85               2              1         1          0        38  \n",
       "86               2              1         1          0        38  \n",
       "87               2              1         1          0        41  \n",
       "88               2              1         1          0        41  \n",
       "89               2              1         1          0        41  \n",
       "\n",
       "[90 rows x 24 columns]"
      ]
     },
     "execution_count": 23,
     "metadata": {},
     "output_type": "execute_result"
    }
   ],
   "source": [
    "sf_df"
   ]
  },
  {
   "cell_type": "code",
   "execution_count": null,
   "id": "43613d48",
   "metadata": {},
   "outputs": [],
   "source": []
  },
  {
   "cell_type": "code",
   "execution_count": null,
   "id": "1fd979cd",
   "metadata": {},
   "outputs": [],
   "source": []
  },
  {
   "cell_type": "code",
   "execution_count": null,
   "id": "bedafcd4",
   "metadata": {},
   "outputs": [],
   "source": []
  },
  {
   "cell_type": "code",
   "execution_count": null,
   "id": "548ddecb",
   "metadata": {},
   "outputs": [],
   "source": []
  },
  {
   "cell_type": "code",
   "execution_count": null,
   "id": "ac1beedf",
   "metadata": {},
   "outputs": [],
   "source": []
  }
 ],
 "metadata": {
  "kernelspec": {
   "display_name": "semifactual",
   "language": "python",
   "name": "semifactual"
  },
  "language_info": {
   "codemirror_mode": {
    "name": "ipython",
    "version": 3
   },
   "file_extension": ".py",
   "mimetype": "text/x-python",
   "name": "python",
   "nbconvert_exporter": "python",
   "pygments_lexer": "ipython3",
   "version": "3.9.16"
  }
 },
 "nbformat": 4,
 "nbformat_minor": 5
}
